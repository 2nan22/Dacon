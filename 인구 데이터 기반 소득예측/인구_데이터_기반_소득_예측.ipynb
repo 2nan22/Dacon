{
  "cells": [
    {
      "cell_type": "markdown",
      "source": [
        "- 어떻게 하면 정확도를 높일 수 있을까?\n",
        "    - 범주형 변수를 줄여 상관도를 높이는 방식\n",
        "    - pycaret 사용\n",
        "    - 모델 파라미터 조정\n",
        "    - Oversampling "
      ],
      "metadata": {
        "id": "2McQZpoPI0mD"
      }
    },
    {
      "cell_type": "markdown",
      "metadata": {
        "id": "r_50IYCtkuvb"
      },
      "source": [
        "## 데이터 불러오기"
      ]
    },
    {
      "cell_type": "code",
      "execution_count": null,
      "metadata": {
        "colab": {
          "base_uri": "https://localhost:8080/",
          "height": 322
        },
        "id": "0glj1e6FklKF",
        "outputId": "5a6050a1-c57a-4415-ade8-f0218d5c668b"
      },
      "outputs": [
        {
          "output_type": "execute_result",
          "data": {
            "text/plain": [
              "   id  age workclass  fnlwgt     education  education.num      marital.status  \\\n",
              "0   0   32   Private  309513    Assoc-acdm             12  Married-civ-spouse   \n",
              "1   1   33   Private  205469  Some-college             10  Married-civ-spouse   \n",
              "2   2   46   Private  149949  Some-college             10  Married-civ-spouse   \n",
              "3   3   23   Private  193090     Bachelors             13       Never-married   \n",
              "4   4   55   Private   60193       HS-grad              9            Divorced   \n",
              "\n",
              "        occupation   relationship   race     sex  capital.gain  capital.loss  \\\n",
              "0     Craft-repair        Husband  White    Male             0             0   \n",
              "1  Exec-managerial        Husband  White    Male             0             0   \n",
              "2     Craft-repair        Husband  White    Male             0             0   \n",
              "3     Adm-clerical      Own-child  White  Female             0             0   \n",
              "4     Adm-clerical  Not-in-family  White  Female             0             0   \n",
              "\n",
              "   hours.per.week native.country  target  \n",
              "0              40  United-States       0  \n",
              "1              40  United-States       1  \n",
              "2              40  United-States       0  \n",
              "3              30  United-States       0  \n",
              "4              40  United-States       0  "
            ],
            "text/html": [
              "\n",
              "  <div id=\"df-b9c91a6d-13d0-4547-a614-280fec303dae\">\n",
              "    <div class=\"colab-df-container\">\n",
              "      <div>\n",
              "<style scoped>\n",
              "    .dataframe tbody tr th:only-of-type {\n",
              "        vertical-align: middle;\n",
              "    }\n",
              "\n",
              "    .dataframe tbody tr th {\n",
              "        vertical-align: top;\n",
              "    }\n",
              "\n",
              "    .dataframe thead th {\n",
              "        text-align: right;\n",
              "    }\n",
              "</style>\n",
              "<table border=\"1\" class=\"dataframe\">\n",
              "  <thead>\n",
              "    <tr style=\"text-align: right;\">\n",
              "      <th></th>\n",
              "      <th>id</th>\n",
              "      <th>age</th>\n",
              "      <th>workclass</th>\n",
              "      <th>fnlwgt</th>\n",
              "      <th>education</th>\n",
              "      <th>education.num</th>\n",
              "      <th>marital.status</th>\n",
              "      <th>occupation</th>\n",
              "      <th>relationship</th>\n",
              "      <th>race</th>\n",
              "      <th>sex</th>\n",
              "      <th>capital.gain</th>\n",
              "      <th>capital.loss</th>\n",
              "      <th>hours.per.week</th>\n",
              "      <th>native.country</th>\n",
              "      <th>target</th>\n",
              "    </tr>\n",
              "  </thead>\n",
              "  <tbody>\n",
              "    <tr>\n",
              "      <th>0</th>\n",
              "      <td>0</td>\n",
              "      <td>32</td>\n",
              "      <td>Private</td>\n",
              "      <td>309513</td>\n",
              "      <td>Assoc-acdm</td>\n",
              "      <td>12</td>\n",
              "      <td>Married-civ-spouse</td>\n",
              "      <td>Craft-repair</td>\n",
              "      <td>Husband</td>\n",
              "      <td>White</td>\n",
              "      <td>Male</td>\n",
              "      <td>0</td>\n",
              "      <td>0</td>\n",
              "      <td>40</td>\n",
              "      <td>United-States</td>\n",
              "      <td>0</td>\n",
              "    </tr>\n",
              "    <tr>\n",
              "      <th>1</th>\n",
              "      <td>1</td>\n",
              "      <td>33</td>\n",
              "      <td>Private</td>\n",
              "      <td>205469</td>\n",
              "      <td>Some-college</td>\n",
              "      <td>10</td>\n",
              "      <td>Married-civ-spouse</td>\n",
              "      <td>Exec-managerial</td>\n",
              "      <td>Husband</td>\n",
              "      <td>White</td>\n",
              "      <td>Male</td>\n",
              "      <td>0</td>\n",
              "      <td>0</td>\n",
              "      <td>40</td>\n",
              "      <td>United-States</td>\n",
              "      <td>1</td>\n",
              "    </tr>\n",
              "    <tr>\n",
              "      <th>2</th>\n",
              "      <td>2</td>\n",
              "      <td>46</td>\n",
              "      <td>Private</td>\n",
              "      <td>149949</td>\n",
              "      <td>Some-college</td>\n",
              "      <td>10</td>\n",
              "      <td>Married-civ-spouse</td>\n",
              "      <td>Craft-repair</td>\n",
              "      <td>Husband</td>\n",
              "      <td>White</td>\n",
              "      <td>Male</td>\n",
              "      <td>0</td>\n",
              "      <td>0</td>\n",
              "      <td>40</td>\n",
              "      <td>United-States</td>\n",
              "      <td>0</td>\n",
              "    </tr>\n",
              "    <tr>\n",
              "      <th>3</th>\n",
              "      <td>3</td>\n",
              "      <td>23</td>\n",
              "      <td>Private</td>\n",
              "      <td>193090</td>\n",
              "      <td>Bachelors</td>\n",
              "      <td>13</td>\n",
              "      <td>Never-married</td>\n",
              "      <td>Adm-clerical</td>\n",
              "      <td>Own-child</td>\n",
              "      <td>White</td>\n",
              "      <td>Female</td>\n",
              "      <td>0</td>\n",
              "      <td>0</td>\n",
              "      <td>30</td>\n",
              "      <td>United-States</td>\n",
              "      <td>0</td>\n",
              "    </tr>\n",
              "    <tr>\n",
              "      <th>4</th>\n",
              "      <td>4</td>\n",
              "      <td>55</td>\n",
              "      <td>Private</td>\n",
              "      <td>60193</td>\n",
              "      <td>HS-grad</td>\n",
              "      <td>9</td>\n",
              "      <td>Divorced</td>\n",
              "      <td>Adm-clerical</td>\n",
              "      <td>Not-in-family</td>\n",
              "      <td>White</td>\n",
              "      <td>Female</td>\n",
              "      <td>0</td>\n",
              "      <td>0</td>\n",
              "      <td>40</td>\n",
              "      <td>United-States</td>\n",
              "      <td>0</td>\n",
              "    </tr>\n",
              "  </tbody>\n",
              "</table>\n",
              "</div>\n",
              "      <button class=\"colab-df-convert\" onclick=\"convertToInteractive('df-b9c91a6d-13d0-4547-a614-280fec303dae')\"\n",
              "              title=\"Convert this dataframe to an interactive table.\"\n",
              "              style=\"display:none;\">\n",
              "        \n",
              "  <svg xmlns=\"http://www.w3.org/2000/svg\" height=\"24px\"viewBox=\"0 0 24 24\"\n",
              "       width=\"24px\">\n",
              "    <path d=\"M0 0h24v24H0V0z\" fill=\"none\"/>\n",
              "    <path d=\"M18.56 5.44l.94 2.06.94-2.06 2.06-.94-2.06-.94-.94-2.06-.94 2.06-2.06.94zm-11 1L8.5 8.5l.94-2.06 2.06-.94-2.06-.94L8.5 2.5l-.94 2.06-2.06.94zm10 10l.94 2.06.94-2.06 2.06-.94-2.06-.94-.94-2.06-.94 2.06-2.06.94z\"/><path d=\"M17.41 7.96l-1.37-1.37c-.4-.4-.92-.59-1.43-.59-.52 0-1.04.2-1.43.59L10.3 9.45l-7.72 7.72c-.78.78-.78 2.05 0 2.83L4 21.41c.39.39.9.59 1.41.59.51 0 1.02-.2 1.41-.59l7.78-7.78 2.81-2.81c.8-.78.8-2.07 0-2.86zM5.41 20L4 18.59l7.72-7.72 1.47 1.35L5.41 20z\"/>\n",
              "  </svg>\n",
              "      </button>\n",
              "      \n",
              "  <style>\n",
              "    .colab-df-container {\n",
              "      display:flex;\n",
              "      flex-wrap:wrap;\n",
              "      gap: 12px;\n",
              "    }\n",
              "\n",
              "    .colab-df-convert {\n",
              "      background-color: #E8F0FE;\n",
              "      border: none;\n",
              "      border-radius: 50%;\n",
              "      cursor: pointer;\n",
              "      display: none;\n",
              "      fill: #1967D2;\n",
              "      height: 32px;\n",
              "      padding: 0 0 0 0;\n",
              "      width: 32px;\n",
              "    }\n",
              "\n",
              "    .colab-df-convert:hover {\n",
              "      background-color: #E2EBFA;\n",
              "      box-shadow: 0px 1px 2px rgba(60, 64, 67, 0.3), 0px 1px 3px 1px rgba(60, 64, 67, 0.15);\n",
              "      fill: #174EA6;\n",
              "    }\n",
              "\n",
              "    [theme=dark] .colab-df-convert {\n",
              "      background-color: #3B4455;\n",
              "      fill: #D2E3FC;\n",
              "    }\n",
              "\n",
              "    [theme=dark] .colab-df-convert:hover {\n",
              "      background-color: #434B5C;\n",
              "      box-shadow: 0px 1px 3px 1px rgba(0, 0, 0, 0.15);\n",
              "      filter: drop-shadow(0px 1px 2px rgba(0, 0, 0, 0.3));\n",
              "      fill: #FFFFFF;\n",
              "    }\n",
              "  </style>\n",
              "\n",
              "      <script>\n",
              "        const buttonEl =\n",
              "          document.querySelector('#df-b9c91a6d-13d0-4547-a614-280fec303dae button.colab-df-convert');\n",
              "        buttonEl.style.display =\n",
              "          google.colab.kernel.accessAllowed ? 'block' : 'none';\n",
              "\n",
              "        async function convertToInteractive(key) {\n",
              "          const element = document.querySelector('#df-b9c91a6d-13d0-4547-a614-280fec303dae');\n",
              "          const dataTable =\n",
              "            await google.colab.kernel.invokeFunction('convertToInteractive',\n",
              "                                                     [key], {});\n",
              "          if (!dataTable) return;\n",
              "\n",
              "          const docLinkHtml = 'Like what you see? Visit the ' +\n",
              "            '<a target=\"_blank\" href=https://colab.research.google.com/notebooks/data_table.ipynb>data table notebook</a>'\n",
              "            + ' to learn more about interactive tables.';\n",
              "          element.innerHTML = '';\n",
              "          dataTable['output_type'] = 'display_data';\n",
              "          await google.colab.output.renderOutput(dataTable, element);\n",
              "          const docLink = document.createElement('div');\n",
              "          docLink.innerHTML = docLinkHtml;\n",
              "          element.appendChild(docLink);\n",
              "        }\n",
              "      </script>\n",
              "    </div>\n",
              "  </div>\n",
              "  "
            ]
          },
          "metadata": {},
          "execution_count": 195
        }
      ],
      "source": [
        "import pandas as pd\n",
        "\n",
        "# csv 형식으로 된 데이터 파일을 읽어옵니다.\n",
        "train = pd.read_csv('/content/drive/MyDrive/Dacon/data/소득예측/train.csv')\n",
        "train.head()"
      ]
    },
    {
      "cell_type": "code",
      "execution_count": null,
      "metadata": {
        "colab": {
          "base_uri": "https://localhost:8080/",
          "height": 340
        },
        "id": "TZpZOT-PlN8l",
        "outputId": "ccd1de35-a803-4f56-8e37-be2a5829480e"
      },
      "outputs": [
        {
          "output_type": "execute_result",
          "data": {
            "text/plain": [
              "   id  age     workclass  fnlwgt     education  education.num  \\\n",
              "0   0   47       Private  304133  Some-college             10   \n",
              "1   1   34  Self-emp-inc  154227  Some-college             10   \n",
              "2   2   31     Local-gov  158291     Bachelors             13   \n",
              "3   3   28       Private  183155     Bachelors             13   \n",
              "4   4   54     Local-gov  182543  Some-college             10   \n",
              "\n",
              "       marital.status       occupation   relationship   race     sex  \\\n",
              "0  Married-civ-spouse  Exec-managerial        Husband  White    Male   \n",
              "1       Never-married            Sales  Not-in-family  White    Male   \n",
              "2       Never-married     Craft-repair  Not-in-family  White    Male   \n",
              "3  Married-civ-spouse   Prof-specialty        Husband  White    Male   \n",
              "4             Widowed     Adm-clerical      Unmarried  White  Female   \n",
              "\n",
              "   capital.gain  capital.loss  hours.per.week native.country  \n",
              "0             0             0              45  United-States  \n",
              "1             0             0              75  United-States  \n",
              "2          8614             0              40  United-States  \n",
              "3             0             0              55  United-States  \n",
              "4             0             0              40         Mexico  "
            ],
            "text/html": [
              "\n",
              "  <div id=\"df-dba18332-aa60-42da-b933-fd27750df033\">\n",
              "    <div class=\"colab-df-container\">\n",
              "      <div>\n",
              "<style scoped>\n",
              "    .dataframe tbody tr th:only-of-type {\n",
              "        vertical-align: middle;\n",
              "    }\n",
              "\n",
              "    .dataframe tbody tr th {\n",
              "        vertical-align: top;\n",
              "    }\n",
              "\n",
              "    .dataframe thead th {\n",
              "        text-align: right;\n",
              "    }\n",
              "</style>\n",
              "<table border=\"1\" class=\"dataframe\">\n",
              "  <thead>\n",
              "    <tr style=\"text-align: right;\">\n",
              "      <th></th>\n",
              "      <th>id</th>\n",
              "      <th>age</th>\n",
              "      <th>workclass</th>\n",
              "      <th>fnlwgt</th>\n",
              "      <th>education</th>\n",
              "      <th>education.num</th>\n",
              "      <th>marital.status</th>\n",
              "      <th>occupation</th>\n",
              "      <th>relationship</th>\n",
              "      <th>race</th>\n",
              "      <th>sex</th>\n",
              "      <th>capital.gain</th>\n",
              "      <th>capital.loss</th>\n",
              "      <th>hours.per.week</th>\n",
              "      <th>native.country</th>\n",
              "    </tr>\n",
              "  </thead>\n",
              "  <tbody>\n",
              "    <tr>\n",
              "      <th>0</th>\n",
              "      <td>0</td>\n",
              "      <td>47</td>\n",
              "      <td>Private</td>\n",
              "      <td>304133</td>\n",
              "      <td>Some-college</td>\n",
              "      <td>10</td>\n",
              "      <td>Married-civ-spouse</td>\n",
              "      <td>Exec-managerial</td>\n",
              "      <td>Husband</td>\n",
              "      <td>White</td>\n",
              "      <td>Male</td>\n",
              "      <td>0</td>\n",
              "      <td>0</td>\n",
              "      <td>45</td>\n",
              "      <td>United-States</td>\n",
              "    </tr>\n",
              "    <tr>\n",
              "      <th>1</th>\n",
              "      <td>1</td>\n",
              "      <td>34</td>\n",
              "      <td>Self-emp-inc</td>\n",
              "      <td>154227</td>\n",
              "      <td>Some-college</td>\n",
              "      <td>10</td>\n",
              "      <td>Never-married</td>\n",
              "      <td>Sales</td>\n",
              "      <td>Not-in-family</td>\n",
              "      <td>White</td>\n",
              "      <td>Male</td>\n",
              "      <td>0</td>\n",
              "      <td>0</td>\n",
              "      <td>75</td>\n",
              "      <td>United-States</td>\n",
              "    </tr>\n",
              "    <tr>\n",
              "      <th>2</th>\n",
              "      <td>2</td>\n",
              "      <td>31</td>\n",
              "      <td>Local-gov</td>\n",
              "      <td>158291</td>\n",
              "      <td>Bachelors</td>\n",
              "      <td>13</td>\n",
              "      <td>Never-married</td>\n",
              "      <td>Craft-repair</td>\n",
              "      <td>Not-in-family</td>\n",
              "      <td>White</td>\n",
              "      <td>Male</td>\n",
              "      <td>8614</td>\n",
              "      <td>0</td>\n",
              "      <td>40</td>\n",
              "      <td>United-States</td>\n",
              "    </tr>\n",
              "    <tr>\n",
              "      <th>3</th>\n",
              "      <td>3</td>\n",
              "      <td>28</td>\n",
              "      <td>Private</td>\n",
              "      <td>183155</td>\n",
              "      <td>Bachelors</td>\n",
              "      <td>13</td>\n",
              "      <td>Married-civ-spouse</td>\n",
              "      <td>Prof-specialty</td>\n",
              "      <td>Husband</td>\n",
              "      <td>White</td>\n",
              "      <td>Male</td>\n",
              "      <td>0</td>\n",
              "      <td>0</td>\n",
              "      <td>55</td>\n",
              "      <td>United-States</td>\n",
              "    </tr>\n",
              "    <tr>\n",
              "      <th>4</th>\n",
              "      <td>4</td>\n",
              "      <td>54</td>\n",
              "      <td>Local-gov</td>\n",
              "      <td>182543</td>\n",
              "      <td>Some-college</td>\n",
              "      <td>10</td>\n",
              "      <td>Widowed</td>\n",
              "      <td>Adm-clerical</td>\n",
              "      <td>Unmarried</td>\n",
              "      <td>White</td>\n",
              "      <td>Female</td>\n",
              "      <td>0</td>\n",
              "      <td>0</td>\n",
              "      <td>40</td>\n",
              "      <td>Mexico</td>\n",
              "    </tr>\n",
              "  </tbody>\n",
              "</table>\n",
              "</div>\n",
              "      <button class=\"colab-df-convert\" onclick=\"convertToInteractive('df-dba18332-aa60-42da-b933-fd27750df033')\"\n",
              "              title=\"Convert this dataframe to an interactive table.\"\n",
              "              style=\"display:none;\">\n",
              "        \n",
              "  <svg xmlns=\"http://www.w3.org/2000/svg\" height=\"24px\"viewBox=\"0 0 24 24\"\n",
              "       width=\"24px\">\n",
              "    <path d=\"M0 0h24v24H0V0z\" fill=\"none\"/>\n",
              "    <path d=\"M18.56 5.44l.94 2.06.94-2.06 2.06-.94-2.06-.94-.94-2.06-.94 2.06-2.06.94zm-11 1L8.5 8.5l.94-2.06 2.06-.94-2.06-.94L8.5 2.5l-.94 2.06-2.06.94zm10 10l.94 2.06.94-2.06 2.06-.94-2.06-.94-.94-2.06-.94 2.06-2.06.94z\"/><path d=\"M17.41 7.96l-1.37-1.37c-.4-.4-.92-.59-1.43-.59-.52 0-1.04.2-1.43.59L10.3 9.45l-7.72 7.72c-.78.78-.78 2.05 0 2.83L4 21.41c.39.39.9.59 1.41.59.51 0 1.02-.2 1.41-.59l7.78-7.78 2.81-2.81c.8-.78.8-2.07 0-2.86zM5.41 20L4 18.59l7.72-7.72 1.47 1.35L5.41 20z\"/>\n",
              "  </svg>\n",
              "      </button>\n",
              "      \n",
              "  <style>\n",
              "    .colab-df-container {\n",
              "      display:flex;\n",
              "      flex-wrap:wrap;\n",
              "      gap: 12px;\n",
              "    }\n",
              "\n",
              "    .colab-df-convert {\n",
              "      background-color: #E8F0FE;\n",
              "      border: none;\n",
              "      border-radius: 50%;\n",
              "      cursor: pointer;\n",
              "      display: none;\n",
              "      fill: #1967D2;\n",
              "      height: 32px;\n",
              "      padding: 0 0 0 0;\n",
              "      width: 32px;\n",
              "    }\n",
              "\n",
              "    .colab-df-convert:hover {\n",
              "      background-color: #E2EBFA;\n",
              "      box-shadow: 0px 1px 2px rgba(60, 64, 67, 0.3), 0px 1px 3px 1px rgba(60, 64, 67, 0.15);\n",
              "      fill: #174EA6;\n",
              "    }\n",
              "\n",
              "    [theme=dark] .colab-df-convert {\n",
              "      background-color: #3B4455;\n",
              "      fill: #D2E3FC;\n",
              "    }\n",
              "\n",
              "    [theme=dark] .colab-df-convert:hover {\n",
              "      background-color: #434B5C;\n",
              "      box-shadow: 0px 1px 3px 1px rgba(0, 0, 0, 0.15);\n",
              "      filter: drop-shadow(0px 1px 2px rgba(0, 0, 0, 0.3));\n",
              "      fill: #FFFFFF;\n",
              "    }\n",
              "  </style>\n",
              "\n",
              "      <script>\n",
              "        const buttonEl =\n",
              "          document.querySelector('#df-dba18332-aa60-42da-b933-fd27750df033 button.colab-df-convert');\n",
              "        buttonEl.style.display =\n",
              "          google.colab.kernel.accessAllowed ? 'block' : 'none';\n",
              "\n",
              "        async function convertToInteractive(key) {\n",
              "          const element = document.querySelector('#df-dba18332-aa60-42da-b933-fd27750df033');\n",
              "          const dataTable =\n",
              "            await google.colab.kernel.invokeFunction('convertToInteractive',\n",
              "                                                     [key], {});\n",
              "          if (!dataTable) return;\n",
              "\n",
              "          const docLinkHtml = 'Like what you see? Visit the ' +\n",
              "            '<a target=\"_blank\" href=https://colab.research.google.com/notebooks/data_table.ipynb>data table notebook</a>'\n",
              "            + ' to learn more about interactive tables.';\n",
              "          element.innerHTML = '';\n",
              "          dataTable['output_type'] = 'display_data';\n",
              "          await google.colab.output.renderOutput(dataTable, element);\n",
              "          const docLink = document.createElement('div');\n",
              "          docLink.innerHTML = docLinkHtml;\n",
              "          element.appendChild(docLink);\n",
              "        }\n",
              "      </script>\n",
              "    </div>\n",
              "  </div>\n",
              "  "
            ]
          },
          "metadata": {},
          "execution_count": 196
        }
      ],
      "source": [
        "test = pd.read_csv('/content/drive/MyDrive/Dacon/data/소득예측/test.csv')\n",
        "test.head()"
      ]
    },
    {
      "cell_type": "markdown",
      "metadata": {
        "id": "ZT7PBYGUlb8z"
      },
      "source": [
        "- id : 샘플 아이디\n",
        "- age : 나이\n",
        "- workclass : 일 유형\n",
        "- fnlwgt : CPS(Current Population Survey) 가중치\n",
        "- education : 교육수준\n",
        "- education.num : 교육수준 번호\n",
        "- marital.status : 결혼 상태\n",
        "- occupation : 직업\n",
        "- relationship : 가족관계\n",
        "- race : 인종\n",
        "- sex : 성별\n",
        "- capital.gain : 자본 이익\n",
        "- capital.loss : 자본 손실\n",
        "- hours.per.week : 주당 근무시간\n",
        "- native.country : 본 국적\n",
        "- target : 소득\n",
        "        \t\t\t\t   0 = <=50K (5만 달러 이하)\n",
        "\n",
        "     \t\t\t\t\t   1 = >50K (5만 달러 초과) "
      ]
    },
    {
      "cell_type": "markdown",
      "source": [
        "- 결혼 상태의 경우 기혼자와 미혼자 두 분류로 나누어 보는 방법\n",
        "    - 완전히 이혼, 과부가 되거나 하지 않는 이상 혼인 관계가 유지 되고 있다면 금전적인 문제로 엮여 있을거라는 생각에 Alone / Not-Alone으로 분류\n",
        "- 가족 관계의 경우 결혼한 상태와 아닌 상태로 나누어 분류\n",
        "- 교육 수준의 경우 중졸, 고졸, 전문대, 대졸 학사, 석사, 박사 등 6개로 나누어 분류\n",
        "    - 고졸 이하 : '7th-8th', '1st-4th', '10th', '11th', , '5th-6th', '9th', '12th', 'Preschool' HS-grad\n",
        "    - 전문대 :  'Assoc-acdm', 'Some-college', 'Prof-school',   'Assoc-voc'\n",
        "    - 대졸 학사 :'Bachelors'\n",
        "    - 대졸 석박사 : Doctorate, 'Masters'\n",
        "\n",
        "   \n",
        "      \n",
        "     "
      ],
      "metadata": {
        "id": "R_pbQkFGKwfM"
      }
    },
    {
      "cell_type": "markdown",
      "metadata": {
        "id": "ev0dxNHkYF6o"
      },
      "source": [
        "## 데이터 살펴보기"
      ]
    },
    {
      "cell_type": "code",
      "execution_count": null,
      "metadata": {
        "colab": {
          "base_uri": "https://localhost:8080/"
        },
        "id": "8tOj7Kzwk4-J",
        "outputId": "f53617ce-22ab-498a-b679-9ab0f73ca738"
      },
      "outputs": [
        {
          "output_type": "stream",
          "name": "stdout",
          "text": [
            "<class 'pandas.core.frame.DataFrame'>\n",
            "RangeIndex: 17480 entries, 0 to 17479\n",
            "Data columns (total 16 columns):\n",
            " #   Column          Non-Null Count  Dtype \n",
            "---  ------          --------------  ----- \n",
            " 0   id              17480 non-null  int64 \n",
            " 1   age             17480 non-null  int64 \n",
            " 2   workclass       15644 non-null  object\n",
            " 3   fnlwgt          17480 non-null  int64 \n",
            " 4   education       17480 non-null  object\n",
            " 5   education.num   17480 non-null  int64 \n",
            " 6   marital.status  17480 non-null  object\n",
            " 7   occupation      15637 non-null  object\n",
            " 8   relationship    17480 non-null  object\n",
            " 9   race            17480 non-null  object\n",
            " 10  sex             17480 non-null  object\n",
            " 11  capital.gain    17480 non-null  int64 \n",
            " 12  capital.loss    17480 non-null  int64 \n",
            " 13  hours.per.week  17480 non-null  int64 \n",
            " 14  native.country  16897 non-null  object\n",
            " 15  target          17480 non-null  int64 \n",
            "dtypes: int64(8), object(8)\n",
            "memory usage: 2.1+ MB\n"
          ]
        }
      ],
      "source": [
        "train.info()"
      ]
    },
    {
      "cell_type": "markdown",
      "source": [
        "- 범주형 데이터(8개)와 수치형 데이터(7개)로 주로 이루어져 있음을 확인\n",
        "- 3 column에 결측치가 있음을 확인"
      ],
      "metadata": {
        "id": "aQqaZkpjsWuo"
      }
    },
    {
      "cell_type": "code",
      "execution_count": null,
      "metadata": {
        "colab": {
          "base_uri": "https://localhost:8080/",
          "height": 364
        },
        "id": "m-EnxcdEL_8m",
        "outputId": "f11f9703-3287-4603-c444-907710e44cc1"
      },
      "outputs": [
        {
          "output_type": "execute_result",
          "data": {
            "text/plain": [
              "                 id           age        fnlwgt  education.num  capital.gain  \\\n",
              "count  17480.000000  17480.000000  1.748000e+04   17480.000000  17480.000000   \n",
              "mean    8739.500000     38.720995  1.897610e+05      10.036556   1076.644508   \n",
              "std     5046.185688     14.079617  1.049929e+05       2.604415   7439.498620   \n",
              "min        0.000000     17.000000  1.228500e+04       1.000000      0.000000   \n",
              "25%     4369.750000     27.000000  1.181558e+05       9.000000      0.000000   \n",
              "50%     8739.500000     37.000000  1.781340e+05      10.000000      0.000000   \n",
              "75%    13109.250000     48.000000  2.373180e+05      12.000000      0.000000   \n",
              "max    17479.000000     90.000000  1.455435e+06      16.000000  99999.000000   \n",
              "\n",
              "       capital.loss  hours.per.week        target  \n",
              "count   17480.00000    17480.000000  17480.000000  \n",
              "mean       83.87460       40.002460      0.234897  \n",
              "std       396.03288       12.671265      0.423947  \n",
              "min         0.00000        1.000000      0.000000  \n",
              "25%         0.00000       38.000000      0.000000  \n",
              "50%         0.00000       40.000000      0.000000  \n",
              "75%         0.00000       45.000000      0.000000  \n",
              "max      4356.00000       99.000000      1.000000  "
            ],
            "text/html": [
              "\n",
              "  <div id=\"df-03d88f00-25f2-4bfc-a166-25565d683200\">\n",
              "    <div class=\"colab-df-container\">\n",
              "      <div>\n",
              "<style scoped>\n",
              "    .dataframe tbody tr th:only-of-type {\n",
              "        vertical-align: middle;\n",
              "    }\n",
              "\n",
              "    .dataframe tbody tr th {\n",
              "        vertical-align: top;\n",
              "    }\n",
              "\n",
              "    .dataframe thead th {\n",
              "        text-align: right;\n",
              "    }\n",
              "</style>\n",
              "<table border=\"1\" class=\"dataframe\">\n",
              "  <thead>\n",
              "    <tr style=\"text-align: right;\">\n",
              "      <th></th>\n",
              "      <th>id</th>\n",
              "      <th>age</th>\n",
              "      <th>fnlwgt</th>\n",
              "      <th>education.num</th>\n",
              "      <th>capital.gain</th>\n",
              "      <th>capital.loss</th>\n",
              "      <th>hours.per.week</th>\n",
              "      <th>target</th>\n",
              "    </tr>\n",
              "  </thead>\n",
              "  <tbody>\n",
              "    <tr>\n",
              "      <th>count</th>\n",
              "      <td>17480.000000</td>\n",
              "      <td>17480.000000</td>\n",
              "      <td>1.748000e+04</td>\n",
              "      <td>17480.000000</td>\n",
              "      <td>17480.000000</td>\n",
              "      <td>17480.00000</td>\n",
              "      <td>17480.000000</td>\n",
              "      <td>17480.000000</td>\n",
              "    </tr>\n",
              "    <tr>\n",
              "      <th>mean</th>\n",
              "      <td>8739.500000</td>\n",
              "      <td>38.720995</td>\n",
              "      <td>1.897610e+05</td>\n",
              "      <td>10.036556</td>\n",
              "      <td>1076.644508</td>\n",
              "      <td>83.87460</td>\n",
              "      <td>40.002460</td>\n",
              "      <td>0.234897</td>\n",
              "    </tr>\n",
              "    <tr>\n",
              "      <th>std</th>\n",
              "      <td>5046.185688</td>\n",
              "      <td>14.079617</td>\n",
              "      <td>1.049929e+05</td>\n",
              "      <td>2.604415</td>\n",
              "      <td>7439.498620</td>\n",
              "      <td>396.03288</td>\n",
              "      <td>12.671265</td>\n",
              "      <td>0.423947</td>\n",
              "    </tr>\n",
              "    <tr>\n",
              "      <th>min</th>\n",
              "      <td>0.000000</td>\n",
              "      <td>17.000000</td>\n",
              "      <td>1.228500e+04</td>\n",
              "      <td>1.000000</td>\n",
              "      <td>0.000000</td>\n",
              "      <td>0.00000</td>\n",
              "      <td>1.000000</td>\n",
              "      <td>0.000000</td>\n",
              "    </tr>\n",
              "    <tr>\n",
              "      <th>25%</th>\n",
              "      <td>4369.750000</td>\n",
              "      <td>27.000000</td>\n",
              "      <td>1.181558e+05</td>\n",
              "      <td>9.000000</td>\n",
              "      <td>0.000000</td>\n",
              "      <td>0.00000</td>\n",
              "      <td>38.000000</td>\n",
              "      <td>0.000000</td>\n",
              "    </tr>\n",
              "    <tr>\n",
              "      <th>50%</th>\n",
              "      <td>8739.500000</td>\n",
              "      <td>37.000000</td>\n",
              "      <td>1.781340e+05</td>\n",
              "      <td>10.000000</td>\n",
              "      <td>0.000000</td>\n",
              "      <td>0.00000</td>\n",
              "      <td>40.000000</td>\n",
              "      <td>0.000000</td>\n",
              "    </tr>\n",
              "    <tr>\n",
              "      <th>75%</th>\n",
              "      <td>13109.250000</td>\n",
              "      <td>48.000000</td>\n",
              "      <td>2.373180e+05</td>\n",
              "      <td>12.000000</td>\n",
              "      <td>0.000000</td>\n",
              "      <td>0.00000</td>\n",
              "      <td>45.000000</td>\n",
              "      <td>0.000000</td>\n",
              "    </tr>\n",
              "    <tr>\n",
              "      <th>max</th>\n",
              "      <td>17479.000000</td>\n",
              "      <td>90.000000</td>\n",
              "      <td>1.455435e+06</td>\n",
              "      <td>16.000000</td>\n",
              "      <td>99999.000000</td>\n",
              "      <td>4356.00000</td>\n",
              "      <td>99.000000</td>\n",
              "      <td>1.000000</td>\n",
              "    </tr>\n",
              "  </tbody>\n",
              "</table>\n",
              "</div>\n",
              "      <button class=\"colab-df-convert\" onclick=\"convertToInteractive('df-03d88f00-25f2-4bfc-a166-25565d683200')\"\n",
              "              title=\"Convert this dataframe to an interactive table.\"\n",
              "              style=\"display:none;\">\n",
              "        \n",
              "  <svg xmlns=\"http://www.w3.org/2000/svg\" height=\"24px\"viewBox=\"0 0 24 24\"\n",
              "       width=\"24px\">\n",
              "    <path d=\"M0 0h24v24H0V0z\" fill=\"none\"/>\n",
              "    <path d=\"M18.56 5.44l.94 2.06.94-2.06 2.06-.94-2.06-.94-.94-2.06-.94 2.06-2.06.94zm-11 1L8.5 8.5l.94-2.06 2.06-.94-2.06-.94L8.5 2.5l-.94 2.06-2.06.94zm10 10l.94 2.06.94-2.06 2.06-.94-2.06-.94-.94-2.06-.94 2.06-2.06.94z\"/><path d=\"M17.41 7.96l-1.37-1.37c-.4-.4-.92-.59-1.43-.59-.52 0-1.04.2-1.43.59L10.3 9.45l-7.72 7.72c-.78.78-.78 2.05 0 2.83L4 21.41c.39.39.9.59 1.41.59.51 0 1.02-.2 1.41-.59l7.78-7.78 2.81-2.81c.8-.78.8-2.07 0-2.86zM5.41 20L4 18.59l7.72-7.72 1.47 1.35L5.41 20z\"/>\n",
              "  </svg>\n",
              "      </button>\n",
              "      \n",
              "  <style>\n",
              "    .colab-df-container {\n",
              "      display:flex;\n",
              "      flex-wrap:wrap;\n",
              "      gap: 12px;\n",
              "    }\n",
              "\n",
              "    .colab-df-convert {\n",
              "      background-color: #E8F0FE;\n",
              "      border: none;\n",
              "      border-radius: 50%;\n",
              "      cursor: pointer;\n",
              "      display: none;\n",
              "      fill: #1967D2;\n",
              "      height: 32px;\n",
              "      padding: 0 0 0 0;\n",
              "      width: 32px;\n",
              "    }\n",
              "\n",
              "    .colab-df-convert:hover {\n",
              "      background-color: #E2EBFA;\n",
              "      box-shadow: 0px 1px 2px rgba(60, 64, 67, 0.3), 0px 1px 3px 1px rgba(60, 64, 67, 0.15);\n",
              "      fill: #174EA6;\n",
              "    }\n",
              "\n",
              "    [theme=dark] .colab-df-convert {\n",
              "      background-color: #3B4455;\n",
              "      fill: #D2E3FC;\n",
              "    }\n",
              "\n",
              "    [theme=dark] .colab-df-convert:hover {\n",
              "      background-color: #434B5C;\n",
              "      box-shadow: 0px 1px 3px 1px rgba(0, 0, 0, 0.15);\n",
              "      filter: drop-shadow(0px 1px 2px rgba(0, 0, 0, 0.3));\n",
              "      fill: #FFFFFF;\n",
              "    }\n",
              "  </style>\n",
              "\n",
              "      <script>\n",
              "        const buttonEl =\n",
              "          document.querySelector('#df-03d88f00-25f2-4bfc-a166-25565d683200 button.colab-df-convert');\n",
              "        buttonEl.style.display =\n",
              "          google.colab.kernel.accessAllowed ? 'block' : 'none';\n",
              "\n",
              "        async function convertToInteractive(key) {\n",
              "          const element = document.querySelector('#df-03d88f00-25f2-4bfc-a166-25565d683200');\n",
              "          const dataTable =\n",
              "            await google.colab.kernel.invokeFunction('convertToInteractive',\n",
              "                                                     [key], {});\n",
              "          if (!dataTable) return;\n",
              "\n",
              "          const docLinkHtml = 'Like what you see? Visit the ' +\n",
              "            '<a target=\"_blank\" href=https://colab.research.google.com/notebooks/data_table.ipynb>data table notebook</a>'\n",
              "            + ' to learn more about interactive tables.';\n",
              "          element.innerHTML = '';\n",
              "          dataTable['output_type'] = 'display_data';\n",
              "          await google.colab.output.renderOutput(dataTable, element);\n",
              "          const docLink = document.createElement('div');\n",
              "          docLink.innerHTML = docLinkHtml;\n",
              "          element.appendChild(docLink);\n",
              "        }\n",
              "      </script>\n",
              "    </div>\n",
              "  </div>\n",
              "  "
            ]
          },
          "metadata": {},
          "execution_count": 198
        }
      ],
      "source": [
        "train.describe()"
      ]
    },
    {
      "cell_type": "markdown",
      "source": [
        "- 자본손익의 경우 최대값과 최소값의 차이가 극명함. 이상치가 존재할 것으로 보임\n"
      ],
      "metadata": {
        "id": "mxH_qUyTs0WS"
      }
    },
    {
      "cell_type": "markdown",
      "metadata": {
        "id": "wbhqQaS5YIFj"
      },
      "source": [
        "## 결측치 확인"
      ]
    },
    {
      "cell_type": "markdown",
      "metadata": {
        "id": "0mqXbA9LnHqy"
      },
      "source": [
        "- 결측치 존재\n",
        "- 문자열 / 정수형 데이터 "
      ]
    },
    {
      "cell_type": "code",
      "execution_count": null,
      "metadata": {
        "colab": {
          "base_uri": "https://localhost:8080/"
        },
        "id": "AH6w-OD3k8HT",
        "outputId": "b2d9651c-45c8-451c-d7fb-090424073927"
      },
      "outputs": [
        {
          "output_type": "execute_result",
          "data": {
            "text/plain": [
              "id                   0\n",
              "age                  0\n",
              "workclass         1836\n",
              "fnlwgt               0\n",
              "education            0\n",
              "education.num        0\n",
              "marital.status       0\n",
              "occupation        1843\n",
              "relationship         0\n",
              "race                 0\n",
              "sex                  0\n",
              "capital.gain         0\n",
              "capital.loss         0\n",
              "hours.per.week       0\n",
              "native.country     583\n",
              "target               0\n",
              "dtype: int64"
            ]
          },
          "metadata": {},
          "execution_count": 199
        }
      ],
      "source": [
        "train.isnull().sum()"
      ]
    },
    {
      "cell_type": "markdown",
      "metadata": {
        "id": "4BtL9a7bK0q6"
      },
      "source": [
        "- Null 값 존재\n",
        " - workclass(일 유형) : 1836\n",
        " - occupation(직업) : 1843\n",
        " - native.country(국적) : 583"
      ]
    },
    {
      "cell_type": "markdown",
      "metadata": {
        "id": "yQf_PqMemJxa"
      },
      "source": [
        "- 해당 Null 값은 어떻게 대체할 것인가?\n",
        " - 행 삭제? 중위수? 평균?\n",
        " - 해당 컬럼의 성격에 맞게 결측치 대체가 이루어져야 함\n",
        " - 범주형 데이터이기 때문에 중위수, 평균이 아니라 최빈값 기준으로 이루어져야 함\n",
        "  - 일 유형 / 직업의 경우, 나이 / 교육수준이 비슷한 사람들끼리 연봉 수준이나 업무의 유형이 비슷할 것으로 생각되기 때문에 비슷한 데이터들의 최빈값으로 대체 고려. \n",
        "  - 국적의 경우, 해당 컬럼이 데이터 분석에서 얼마나 유의미할지는 모르겠지만 국가별 소득 수준, 교육 수준이 평균적으로 다를 것으로 생각. 해당 데이터들의 최빈값 혹은 중위수로 대체\n",
        "  - CPS weights에 대한 의미 체감이 잘 되지 않지만, 해당 데이터가 중요할 것으로 생각\n",
        "  - 결측치 전부가 범주형 데이터이기 때문에, 해당 데이터를 살펴보고 패턴이 없다면 제거하는 방법 고려\n"
      ]
    },
    {
      "cell_type": "markdown",
      "metadata": {
        "id": "gCkSPPOdYvNG"
      },
      "source": [
        "# EDA"
      ]
    },
    {
      "cell_type": "markdown",
      "metadata": {
        "id": "Bd4Vl0r2dRfO"
      },
      "source": [
        "### Target 분포 확인"
      ]
    },
    {
      "cell_type": "code",
      "execution_count": null,
      "metadata": {
        "colab": {
          "base_uri": "https://localhost:8080/",
          "height": 576
        },
        "id": "kc6AZ1mF_vCT",
        "outputId": "da4315d7-6109-4c9f-86a4-eb616ce81f93"
      },
      "outputs": [
        {
          "output_type": "stream",
          "name": "stdout",
          "text": [
            "0    13374\n",
            "1     4106\n",
            "Name: target, dtype: int64\n"
          ]
        },
        {
          "output_type": "execute_result",
          "data": {
            "text/plain": [
              "<matplotlib.axes._subplots.AxesSubplot at 0x7f9fa2f2a590>"
            ]
          },
          "metadata": {},
          "execution_count": 200
        },
        {
          "output_type": "display_data",
          "data": {
            "text/plain": [
              "<Figure size 842.4x595.44 with 1 Axes>"
            ],
            "image/png": "[encoded data removed]"
          },
          "metadata": {}
        }
      ],
      "source": [
        "import matplotlib.pyplot as plt\n",
        "import seaborn as sns\n",
        "\n",
        "tar_cnt = train['target'].value_counts()\n",
        "print(tar_cnt)\n",
        "sns.barplot(x=tar_cnt.index, y=tar_cnt)"
      ]
    },
    {
      "cell_type": "markdown",
      "metadata": {
        "id": "tEADBa1wG-Jw"
      },
      "source": [
        "- 0 = <=50K (5만 달러 이하) / 1 = >50K (5만 달러 초과) \n",
        " - 소득이 5만 이하인 데이터는 5만 이상 데이터의 3배 가량. 3:1의 비율"
      ]
    },
    {
      "cell_type": "markdown",
      "metadata": {
        "id": "M7DzRDpMdWhc"
      },
      "source": [
        "## 범주형 데이터 분석"
      ]
    },
    {
      "cell_type": "code",
      "source": [
        "# 순자본이익 컬럼 생성\n",
        "train['net_cap'] = train['capital.gain'] - train['capital.loss']"
      ],
      "metadata": {
        "id": "2ctN4YeKNVPs"
      },
      "execution_count": null,
      "outputs": []
    },
    {
      "cell_type": "code",
      "execution_count": null,
      "metadata": {
        "colab": {
          "base_uri": "https://localhost:8080/",
          "height": 322
        },
        "id": "iDwxp5tmY7WI",
        "outputId": "3e6de354-3c5f-4b05-b543-723d277a547b"
      },
      "outputs": [
        {
          "output_type": "execute_result",
          "data": {
            "text/plain": [
              "  workclass     education      marital.status       occupation   relationship  \\\n",
              "0   Private    Assoc-acdm  Married-civ-spouse     Craft-repair        Husband   \n",
              "1   Private  Some-college  Married-civ-spouse  Exec-managerial        Husband   \n",
              "2   Private  Some-college  Married-civ-spouse     Craft-repair        Husband   \n",
              "3   Private     Bachelors       Never-married     Adm-clerical      Own-child   \n",
              "4   Private       HS-grad            Divorced     Adm-clerical  Not-in-family   \n",
              "\n",
              "    race     sex  capital.gain  capital.loss native.country  target  \n",
              "0  White    Male             0             0  United-States       0  \n",
              "1  White    Male             0             0  United-States       1  \n",
              "2  White    Male             0             0  United-States       0  \n",
              "3  White  Female             0             0  United-States       0  \n",
              "4  White  Female             0             0  United-States       0  "
            ],
            "text/html": [
              "\n",
              "  <div id=\"df-feb8a772-3a46-427f-9539-ac57a5461bec\">\n",
              "    <div class=\"colab-df-container\">\n",
              "      <div>\n",
              "<style scoped>\n",
              "    .dataframe tbody tr th:only-of-type {\n",
              "        vertical-align: middle;\n",
              "    }\n",
              "\n",
              "    .dataframe tbody tr th {\n",
              "        vertical-align: top;\n",
              "    }\n",
              "\n",
              "    .dataframe thead th {\n",
              "        text-align: right;\n",
              "    }\n",
              "</style>\n",
              "<table border=\"1\" class=\"dataframe\">\n",
              "  <thead>\n",
              "    <tr style=\"text-align: right;\">\n",
              "      <th></th>\n",
              "      <th>workclass</th>\n",
              "      <th>education</th>\n",
              "      <th>marital.status</th>\n",
              "      <th>occupation</th>\n",
              "      <th>relationship</th>\n",
              "      <th>race</th>\n",
              "      <th>sex</th>\n",
              "      <th>capital.gain</th>\n",
              "      <th>capital.loss</th>\n",
              "      <th>native.country</th>\n",
              "      <th>target</th>\n",
              "    </tr>\n",
              "  </thead>\n",
              "  <tbody>\n",
              "    <tr>\n",
              "      <th>0</th>\n",
              "      <td>Private</td>\n",
              "      <td>Assoc-acdm</td>\n",
              "      <td>Married-civ-spouse</td>\n",
              "      <td>Craft-repair</td>\n",
              "      <td>Husband</td>\n",
              "      <td>White</td>\n",
              "      <td>Male</td>\n",
              "      <td>0</td>\n",
              "      <td>0</td>\n",
              "      <td>United-States</td>\n",
              "      <td>0</td>\n",
              "    </tr>\n",
              "    <tr>\n",
              "      <th>1</th>\n",
              "      <td>Private</td>\n",
              "      <td>Some-college</td>\n",
              "      <td>Married-civ-spouse</td>\n",
              "      <td>Exec-managerial</td>\n",
              "      <td>Husband</td>\n",
              "      <td>White</td>\n",
              "      <td>Male</td>\n",
              "      <td>0</td>\n",
              "      <td>0</td>\n",
              "      <td>United-States</td>\n",
              "      <td>1</td>\n",
              "    </tr>\n",
              "    <tr>\n",
              "      <th>2</th>\n",
              "      <td>Private</td>\n",
              "      <td>Some-college</td>\n",
              "      <td>Married-civ-spouse</td>\n",
              "      <td>Craft-repair</td>\n",
              "      <td>Husband</td>\n",
              "      <td>White</td>\n",
              "      <td>Male</td>\n",
              "      <td>0</td>\n",
              "      <td>0</td>\n",
              "      <td>United-States</td>\n",
              "      <td>0</td>\n",
              "    </tr>\n",
              "    <tr>\n",
              "      <th>3</th>\n",
              "      <td>Private</td>\n",
              "      <td>Bachelors</td>\n",
              "      <td>Never-married</td>\n",
              "      <td>Adm-clerical</td>\n",
              "      <td>Own-child</td>\n",
              "      <td>White</td>\n",
              "      <td>Female</td>\n",
              "      <td>0</td>\n",
              "      <td>0</td>\n",
              "      <td>United-States</td>\n",
              "      <td>0</td>\n",
              "    </tr>\n",
              "    <tr>\n",
              "      <th>4</th>\n",
              "      <td>Private</td>\n",
              "      <td>HS-grad</td>\n",
              "      <td>Divorced</td>\n",
              "      <td>Adm-clerical</td>\n",
              "      <td>Not-in-family</td>\n",
              "      <td>White</td>\n",
              "      <td>Female</td>\n",
              "      <td>0</td>\n",
              "      <td>0</td>\n",
              "      <td>United-States</td>\n",
              "      <td>0</td>\n",
              "    </tr>\n",
              "  </tbody>\n",
              "</table>\n",
              "</div>\n",
              "      <button class=\"colab-df-convert\" onclick=\"convertToInteractive('df-feb8a772-3a46-427f-9539-ac57a5461bec')\"\n",
              "              title=\"Convert this dataframe to an interactive table.\"\n",
              "              style=\"display:none;\">\n",
              "        \n",
              "  <svg xmlns=\"http://www.w3.org/2000/svg\" height=\"24px\"viewBox=\"0 0 24 24\"\n",
              "       width=\"24px\">\n",
              "    <path d=\"M0 0h24v24H0V0z\" fill=\"none\"/>\n",
              "    <path d=\"M18.56 5.44l.94 2.06.94-2.06 2.06-.94-2.06-.94-.94-2.06-.94 2.06-2.06.94zm-11 1L8.5 8.5l.94-2.06 2.06-.94-2.06-.94L8.5 2.5l-.94 2.06-2.06.94zm10 10l.94 2.06.94-2.06 2.06-.94-2.06-.94-.94-2.06-.94 2.06-2.06.94z\"/><path d=\"M17.41 7.96l-1.37-1.37c-.4-.4-.92-.59-1.43-.59-.52 0-1.04.2-1.43.59L10.3 9.45l-7.72 7.72c-.78.78-.78 2.05 0 2.83L4 21.41c.39.39.9.59 1.41.59.51 0 1.02-.2 1.41-.59l7.78-7.78 2.81-2.81c.8-.78.8-2.07 0-2.86zM5.41 20L4 18.59l7.72-7.72 1.47 1.35L5.41 20z\"/>\n",
              "  </svg>\n",
              "      </button>\n",
              "      \n",
              "  <style>\n",
              "    .colab-df-container {\n",
              "      display:flex;\n",
              "      flex-wrap:wrap;\n",
              "      gap: 12px;\n",
              "    }\n",
              "\n",
              "    .colab-df-convert {\n",
              "      background-color: #E8F0FE;\n",
              "      border: none;\n",
              "      border-radius: 50%;\n",
              "      cursor: pointer;\n",
              "      display: none;\n",
              "      fill: #1967D2;\n",
              "      height: 32px;\n",
              "      padding: 0 0 0 0;\n",
              "      width: 32px;\n",
              "    }\n",
              "\n",
              "    .colab-df-convert:hover {\n",
              "      background-color: #E2EBFA;\n",
              "      box-shadow: 0px 1px 2px rgba(60, 64, 67, 0.3), 0px 1px 3px 1px rgba(60, 64, 67, 0.15);\n",
              "      fill: #174EA6;\n",
              "    }\n",
              "\n",
              "    [theme=dark] .colab-df-convert {\n",
              "      background-color: #3B4455;\n",
              "      fill: #D2E3FC;\n",
              "    }\n",
              "\n",
              "    [theme=dark] .colab-df-convert:hover {\n",
              "      background-color: #434B5C;\n",
              "      box-shadow: 0px 1px 3px 1px rgba(0, 0, 0, 0.15);\n",
              "      filter: drop-shadow(0px 1px 2px rgba(0, 0, 0, 0.3));\n",
              "      fill: #FFFFFF;\n",
              "    }\n",
              "  </style>\n",
              "\n",
              "      <script>\n",
              "        const buttonEl =\n",
              "          document.querySelector('#df-feb8a772-3a46-427f-9539-ac57a5461bec button.colab-df-convert');\n",
              "        buttonEl.style.display =\n",
              "          google.colab.kernel.accessAllowed ? 'block' : 'none';\n",
              "\n",
              "        async function convertToInteractive(key) {\n",
              "          const element = document.querySelector('#df-feb8a772-3a46-427f-9539-ac57a5461bec');\n",
              "          const dataTable =\n",
              "            await google.colab.kernel.invokeFunction('convertToInteractive',\n",
              "                                                     [key], {});\n",
              "          if (!dataTable) return;\n",
              "\n",
              "          const docLinkHtml = 'Like what you see? Visit the ' +\n",
              "            '<a target=\"_blank\" href=https://colab.research.google.com/notebooks/data_table.ipynb>data table notebook</a>'\n",
              "            + ' to learn more about interactive tables.';\n",
              "          element.innerHTML = '';\n",
              "          dataTable['output_type'] = 'display_data';\n",
              "          await google.colab.output.renderOutput(dataTable, element);\n",
              "          const docLink = document.createElement('div');\n",
              "          docLink.innerHTML = docLinkHtml;\n",
              "          element.appendChild(docLink);\n",
              "        }\n",
              "      </script>\n",
              "    </div>\n",
              "  </div>\n",
              "  "
            ]
          },
          "metadata": {},
          "execution_count": 202
        }
      ],
      "source": [
        "# 수치형 데이터 drop\n",
        "train_cat = train.drop(['id', 'age', 'fnlwgt', 'education.num', 'net_cap', 'hours.per.week'], axis=1) \n",
        "train_cat.head()"
      ]
    },
    {
      "cell_type": "code",
      "execution_count": null,
      "metadata": {
        "colab": {
          "base_uri": "https://localhost:8080/",
          "height": 1000
        },
        "id": "iO32Kk9bdsGW",
        "outputId": "74a2c227-010a-4c4a-e58d-05f933b97265"
      },
      "outputs": [
        {
          "output_type": "display_data",
          "data": {
            "text/plain": [
              "<Figure size 2880x3600 with 16 Axes>"
            ],
            "image/png": "[encoded data removed]"
          },
          "metadata": {}
        }
      ],
      "source": [
        "import warnings\n",
        "warnings.filterwarnings('ignore')\n",
        "\n",
        "# 범주형 데이터 분포 \b\n",
        "def visualize(axx, field, num): ##그래프를 그리기 위한 메소드\n",
        "    sns.countplot(train_cat.columns[num], data= train_cat[train_cat['target'] == field],  color='#eaa18a', ax = axx) # countplot을 이용하여 그래프를 그려줍니다.\n",
        "    axx.set_title(field)\n",
        "\n",
        "figure, ((ax1,ax2),(ax3,ax4), (ax5, ax6),(ax7, ax8), (ax9, ax10),\n",
        "         (ax11,ax12),(ax13,ax14), (ax15, ax16))  = plt.subplots(nrows=8, ncols=2) ## 원하는 개수의 subplots 만들어주기\n",
        "figure.set_size_inches(40, 50) #(w,h)\n",
        "figure.suptitle('Compare categorical features', fontsize=40, y = 0.9)\n",
        "\n",
        "k = 0 # 피쳐 수\n",
        "j = 1 # 그래프 수\n",
        "while k<8: \n",
        "    for i in range(0,2):\n",
        "        visualize(eval(f'ax{j}'), train_cat['target'].unique()[i], k)\n",
        "        j = j+1\n",
        "    k = k+1"
      ]
    },
    {
      "cell_type": "markdown",
      "metadata": {
        "id": "3quM7o6jeKrr"
      },
      "source": [
        "*** 5만 이하는 저소득 / 5만 이상은 고소득으로 간단히 명명 ***\n",
        "\n",
        "\n",
        "- WorkClass\n",
        " - 사기업 종사자가 대부분, 자영업, 지방, 주정부 순으로 많은 것을 확인\n",
        "\n",
        "- Education\n",
        " - 저소득의 경우, 고졸 / 전문대 / 학사 순으로 많다\n",
        " - 고소득의 경우, 학사 / 고졸 / 전문대 순으로 많음\n",
        "   - 교육수준이 소득과 어느정도의 연관성이 있음을 반증\n",
        "\n",
        "- Marital Status\n",
        " - 저소득의 경우, 미혼 / 기혼 / 이혼 순\n",
        " - 고소득의 경우, 기혼 / 이혼 / 미혼 순\n",
        "   - 소득이 결혼을 하는데 있어 중요한 선택지임을 나타내는 지표라는 생각이 든다\n",
        "\n",
        "- Occupation\n",
        " - 저소득의 경우, Adm-clerical / Craft-repair / Other Service 순\n",
        " - 고소득의 경우, Exec-managerial / Prof-specialty / Sales 순\n",
        "   - 연봉이 높은 직업과 낮은 직업 별로 분포가 되어있다\n",
        "\n",
        "- Relationship\n",
        " - 저소득의 경우, Husband / Not-in-family / Own-child 순\n",
        " - 고소득의 경우, Husband / Not-in-family / Wife 순\n",
        "   - 해당 지표가 가족 관계에 있어 본인을 지칭하는 것인지, 정확히 파악 안 됨\n",
        "\n",
        "- Race\n",
        " - 저소득의 경우, White / Black / Asian-Pac-Islander 순\n",
        " - 고소득의 경우, White / Black / Asian-Pac-Islander 순\n",
        "   - 고소득의 경우 타 지표에 비해 백인의 비중이 상당히 높고, 저소득의 경우 백인 이외의 지표 비중이 고소득보다 높은 양상을 보임\n",
        "\n",
        "- Sex\n",
        " - 저소득의 경우, Male(약 7,000) / Female (약 4,500)\n",
        " - 고소득의 경우, Male(약 3,300) / Female (약 500)\n",
        "   - 데이터 건수 차이도 존재하겠지만, 비율로 보았을 때 고소득의 경우 남성의 비중이 훨씬 높은 양상을 보임\n"
      ]
    },
    {
      "cell_type": "markdown",
      "metadata": {
        "id": "-0i0B6iHJb2G"
      },
      "source": [
        "## 수치형 데이터 분석"
      ]
    },
    {
      "cell_type": "code",
      "execution_count": null,
      "metadata": {
        "colab": {
          "base_uri": "https://localhost:8080/",
          "height": 206
        },
        "id": "xIZYffZA-PcH",
        "outputId": "d5993639-9514-439f-d03a-cf371d416131"
      },
      "outputs": [
        {
          "output_type": "execute_result",
          "data": {
            "text/plain": [
              "   age  fnlwgt  net_cap  hours.per.week  target\n",
              "0   32  309513        0              40       0\n",
              "1   33  205469        0              40       1\n",
              "2   46  149949        0              40       0\n",
              "3   23  193090        0              30       0\n",
              "4   55   60193        0              40       0"
            ],
            "text/html": [
              "\n",
              "  <div id=\"df-c480bd30-6a0b-409c-a9fe-0d5384287942\">\n",
              "    <div class=\"colab-df-container\">\n",
              "      <div>\n",
              "<style scoped>\n",
              "    .dataframe tbody tr th:only-of-type {\n",
              "        vertical-align: middle;\n",
              "    }\n",
              "\n",
              "    .dataframe tbody tr th {\n",
              "        vertical-align: top;\n",
              "    }\n",
              "\n",
              "    .dataframe thead th {\n",
              "        text-align: right;\n",
              "    }\n",
              "</style>\n",
              "<table border=\"1\" class=\"dataframe\">\n",
              "  <thead>\n",
              "    <tr style=\"text-align: right;\">\n",
              "      <th></th>\n",
              "      <th>age</th>\n",
              "      <th>fnlwgt</th>\n",
              "      <th>net_cap</th>\n",
              "      <th>hours.per.week</th>\n",
              "      <th>target</th>\n",
              "    </tr>\n",
              "  </thead>\n",
              "  <tbody>\n",
              "    <tr>\n",
              "      <th>0</th>\n",
              "      <td>32</td>\n",
              "      <td>309513</td>\n",
              "      <td>0</td>\n",
              "      <td>40</td>\n",
              "      <td>0</td>\n",
              "    </tr>\n",
              "    <tr>\n",
              "      <th>1</th>\n",
              "      <td>33</td>\n",
              "      <td>205469</td>\n",
              "      <td>0</td>\n",
              "      <td>40</td>\n",
              "      <td>1</td>\n",
              "    </tr>\n",
              "    <tr>\n",
              "      <th>2</th>\n",
              "      <td>46</td>\n",
              "      <td>149949</td>\n",
              "      <td>0</td>\n",
              "      <td>40</td>\n",
              "      <td>0</td>\n",
              "    </tr>\n",
              "    <tr>\n",
              "      <th>3</th>\n",
              "      <td>23</td>\n",
              "      <td>193090</td>\n",
              "      <td>0</td>\n",
              "      <td>30</td>\n",
              "      <td>0</td>\n",
              "    </tr>\n",
              "    <tr>\n",
              "      <th>4</th>\n",
              "      <td>55</td>\n",
              "      <td>60193</td>\n",
              "      <td>0</td>\n",
              "      <td>40</td>\n",
              "      <td>0</td>\n",
              "    </tr>\n",
              "  </tbody>\n",
              "</table>\n",
              "</div>\n",
              "      <button class=\"colab-df-convert\" onclick=\"convertToInteractive('df-c480bd30-6a0b-409c-a9fe-0d5384287942')\"\n",
              "              title=\"Convert this dataframe to an interactive table.\"\n",
              "              style=\"display:none;\">\n",
              "        \n",
              "  <svg xmlns=\"http://www.w3.org/2000/svg\" height=\"24px\"viewBox=\"0 0 24 24\"\n",
              "       width=\"24px\">\n",
              "    <path d=\"M0 0h24v24H0V0z\" fill=\"none\"/>\n",
              "    <path d=\"M18.56 5.44l.94 2.06.94-2.06 2.06-.94-2.06-.94-.94-2.06-.94 2.06-2.06.94zm-11 1L8.5 8.5l.94-2.06 2.06-.94-2.06-.94L8.5 2.5l-.94 2.06-2.06.94zm10 10l.94 2.06.94-2.06 2.06-.94-2.06-.94-.94-2.06-.94 2.06-2.06.94z\"/><path d=\"M17.41 7.96l-1.37-1.37c-.4-.4-.92-.59-1.43-.59-.52 0-1.04.2-1.43.59L10.3 9.45l-7.72 7.72c-.78.78-.78 2.05 0 2.83L4 21.41c.39.39.9.59 1.41.59.51 0 1.02-.2 1.41-.59l7.78-7.78 2.81-2.81c.8-.78.8-2.07 0-2.86zM5.41 20L4 18.59l7.72-7.72 1.47 1.35L5.41 20z\"/>\n",
              "  </svg>\n",
              "      </button>\n",
              "      \n",
              "  <style>\n",
              "    .colab-df-container {\n",
              "      display:flex;\n",
              "      flex-wrap:wrap;\n",
              "      gap: 12px;\n",
              "    }\n",
              "\n",
              "    .colab-df-convert {\n",
              "      background-color: #E8F0FE;\n",
              "      border: none;\n",
              "      border-radius: 50%;\n",
              "      cursor: pointer;\n",
              "      display: none;\n",
              "      fill: #1967D2;\n",
              "      height: 32px;\n",
              "      padding: 0 0 0 0;\n",
              "      width: 32px;\n",
              "    }\n",
              "\n",
              "    .colab-df-convert:hover {\n",
              "      background-color: #E2EBFA;\n",
              "      box-shadow: 0px 1px 2px rgba(60, 64, 67, 0.3), 0px 1px 3px 1px rgba(60, 64, 67, 0.15);\n",
              "      fill: #174EA6;\n",
              "    }\n",
              "\n",
              "    [theme=dark] .colab-df-convert {\n",
              "      background-color: #3B4455;\n",
              "      fill: #D2E3FC;\n",
              "    }\n",
              "\n",
              "    [theme=dark] .colab-df-convert:hover {\n",
              "      background-color: #434B5C;\n",
              "      box-shadow: 0px 1px 3px 1px rgba(0, 0, 0, 0.15);\n",
              "      filter: drop-shadow(0px 1px 2px rgba(0, 0, 0, 0.3));\n",
              "      fill: #FFFFFF;\n",
              "    }\n",
              "  </style>\n",
              "\n",
              "      <script>\n",
              "        const buttonEl =\n",
              "          document.querySelector('#df-c480bd30-6a0b-409c-a9fe-0d5384287942 button.colab-df-convert');\n",
              "        buttonEl.style.display =\n",
              "          google.colab.kernel.accessAllowed ? 'block' : 'none';\n",
              "\n",
              "        async function convertToInteractive(key) {\n",
              "          const element = document.querySelector('#df-c480bd30-6a0b-409c-a9fe-0d5384287942');\n",
              "          const dataTable =\n",
              "            await google.colab.kernel.invokeFunction('convertToInteractive',\n",
              "                                                     [key], {});\n",
              "          if (!dataTable) return;\n",
              "\n",
              "          const docLinkHtml = 'Like what you see? Visit the ' +\n",
              "            '<a target=\"_blank\" href=https://colab.research.google.com/notebooks/data_table.ipynb>data table notebook</a>'\n",
              "            + ' to learn more about interactive tables.';\n",
              "          element.innerHTML = '';\n",
              "          dataTable['output_type'] = 'display_data';\n",
              "          await google.colab.output.renderOutput(dataTable, element);\n",
              "          const docLink = document.createElement('div');\n",
              "          docLink.innerHTML = docLinkHtml;\n",
              "          element.appendChild(docLink);\n",
              "        }\n",
              "      </script>\n",
              "    </div>\n",
              "  </div>\n",
              "  "
            ]
          },
          "metadata": {},
          "execution_count": 204
        }
      ],
      "source": [
        "train_num = train[['age', 'fnlwgt', 'net_cap', 'hours.per.week', 'target']] #수치형 피쳐와 label인 target 추출\n",
        "train_num.head()"
      ]
    },
    {
      "cell_type": "code",
      "execution_count": null,
      "metadata": {
        "colab": {
          "base_uri": "https://localhost:8080/",
          "height": 300
        },
        "id": "wrrmV4EyOeXn",
        "outputId": "608369e8-3041-487b-a555-c7c6d2b2bbb5"
      },
      "outputs": [
        {
          "output_type": "execute_result",
          "data": {
            "text/plain": [
              "                age        fnlwgt       net_cap  hours.per.week        target\n",
              "count  17480.000000  1.748000e+04  17480.000000    17480.000000  17480.000000\n",
              "mean      38.720995  1.897610e+05    992.769908       40.002460      0.234897\n",
              "std       14.079617  1.049929e+05   7462.144353       12.671265      0.423947\n",
              "min       17.000000  1.228500e+04  -4356.000000        1.000000      0.000000\n",
              "25%       27.000000  1.181558e+05      0.000000       38.000000      0.000000\n",
              "50%       37.000000  1.781340e+05      0.000000       40.000000      0.000000\n",
              "75%       48.000000  2.373180e+05      0.000000       45.000000      0.000000\n",
              "max       90.000000  1.455435e+06  99999.000000       99.000000      1.000000"
            ],
            "text/html": [
              "\n",
              "  <div id=\"df-2687a3b0-dd1f-4ec0-a874-0238e77b3246\">\n",
              "    <div class=\"colab-df-container\">\n",
              "      <div>\n",
              "<style scoped>\n",
              "    .dataframe tbody tr th:only-of-type {\n",
              "        vertical-align: middle;\n",
              "    }\n",
              "\n",
              "    .dataframe tbody tr th {\n",
              "        vertical-align: top;\n",
              "    }\n",
              "\n",
              "    .dataframe thead th {\n",
              "        text-align: right;\n",
              "    }\n",
              "</style>\n",
              "<table border=\"1\" class=\"dataframe\">\n",
              "  <thead>\n",
              "    <tr style=\"text-align: right;\">\n",
              "      <th></th>\n",
              "      <th>age</th>\n",
              "      <th>fnlwgt</th>\n",
              "      <th>net_cap</th>\n",
              "      <th>hours.per.week</th>\n",
              "      <th>target</th>\n",
              "    </tr>\n",
              "  </thead>\n",
              "  <tbody>\n",
              "    <tr>\n",
              "      <th>count</th>\n",
              "      <td>17480.000000</td>\n",
              "      <td>1.748000e+04</td>\n",
              "      <td>17480.000000</td>\n",
              "      <td>17480.000000</td>\n",
              "      <td>17480.000000</td>\n",
              "    </tr>\n",
              "    <tr>\n",
              "      <th>mean</th>\n",
              "      <td>38.720995</td>\n",
              "      <td>1.897610e+05</td>\n",
              "      <td>992.769908</td>\n",
              "      <td>40.002460</td>\n",
              "      <td>0.234897</td>\n",
              "    </tr>\n",
              "    <tr>\n",
              "      <th>std</th>\n",
              "      <td>14.079617</td>\n",
              "      <td>1.049929e+05</td>\n",
              "      <td>7462.144353</td>\n",
              "      <td>12.671265</td>\n",
              "      <td>0.423947</td>\n",
              "    </tr>\n",
              "    <tr>\n",
              "      <th>min</th>\n",
              "      <td>17.000000</td>\n",
              "      <td>1.228500e+04</td>\n",
              "      <td>-4356.000000</td>\n",
              "      <td>1.000000</td>\n",
              "      <td>0.000000</td>\n",
              "    </tr>\n",
              "    <tr>\n",
              "      <th>25%</th>\n",
              "      <td>27.000000</td>\n",
              "      <td>1.181558e+05</td>\n",
              "      <td>0.000000</td>\n",
              "      <td>38.000000</td>\n",
              "      <td>0.000000</td>\n",
              "    </tr>\n",
              "    <tr>\n",
              "      <th>50%</th>\n",
              "      <td>37.000000</td>\n",
              "      <td>1.781340e+05</td>\n",
              "      <td>0.000000</td>\n",
              "      <td>40.000000</td>\n",
              "      <td>0.000000</td>\n",
              "    </tr>\n",
              "    <tr>\n",
              "      <th>75%</th>\n",
              "      <td>48.000000</td>\n",
              "      <td>2.373180e+05</td>\n",
              "      <td>0.000000</td>\n",
              "      <td>45.000000</td>\n",
              "      <td>0.000000</td>\n",
              "    </tr>\n",
              "    <tr>\n",
              "      <th>max</th>\n",
              "      <td>90.000000</td>\n",
              "      <td>1.455435e+06</td>\n",
              "      <td>99999.000000</td>\n",
              "      <td>99.000000</td>\n",
              "      <td>1.000000</td>\n",
              "    </tr>\n",
              "  </tbody>\n",
              "</table>\n",
              "</div>\n",
              "      <button class=\"colab-df-convert\" onclick=\"convertToInteractive('df-2687a3b0-dd1f-4ec0-a874-0238e77b3246')\"\n",
              "              title=\"Convert this dataframe to an interactive table.\"\n",
              "              style=\"display:none;\">\n",
              "        \n",
              "  <svg xmlns=\"http://www.w3.org/2000/svg\" height=\"24px\"viewBox=\"0 0 24 24\"\n",
              "       width=\"24px\">\n",
              "    <path d=\"M0 0h24v24H0V0z\" fill=\"none\"/>\n",
              "    <path d=\"M18.56 5.44l.94 2.06.94-2.06 2.06-.94-2.06-.94-.94-2.06-.94 2.06-2.06.94zm-11 1L8.5 8.5l.94-2.06 2.06-.94-2.06-.94L8.5 2.5l-.94 2.06-2.06.94zm10 10l.94 2.06.94-2.06 2.06-.94-2.06-.94-.94-2.06-.94 2.06-2.06.94z\"/><path d=\"M17.41 7.96l-1.37-1.37c-.4-.4-.92-.59-1.43-.59-.52 0-1.04.2-1.43.59L10.3 9.45l-7.72 7.72c-.78.78-.78 2.05 0 2.83L4 21.41c.39.39.9.59 1.41.59.51 0 1.02-.2 1.41-.59l7.78-7.78 2.81-2.81c.8-.78.8-2.07 0-2.86zM5.41 20L4 18.59l7.72-7.72 1.47 1.35L5.41 20z\"/>\n",
              "  </svg>\n",
              "      </button>\n",
              "      \n",
              "  <style>\n",
              "    .colab-df-container {\n",
              "      display:flex;\n",
              "      flex-wrap:wrap;\n",
              "      gap: 12px;\n",
              "    }\n",
              "\n",
              "    .colab-df-convert {\n",
              "      background-color: #E8F0FE;\n",
              "      border: none;\n",
              "      border-radius: 50%;\n",
              "      cursor: pointer;\n",
              "      display: none;\n",
              "      fill: #1967D2;\n",
              "      height: 32px;\n",
              "      padding: 0 0 0 0;\n",
              "      width: 32px;\n",
              "    }\n",
              "\n",
              "    .colab-df-convert:hover {\n",
              "      background-color: #E2EBFA;\n",
              "      box-shadow: 0px 1px 2px rgba(60, 64, 67, 0.3), 0px 1px 3px 1px rgba(60, 64, 67, 0.15);\n",
              "      fill: #174EA6;\n",
              "    }\n",
              "\n",
              "    [theme=dark] .colab-df-convert {\n",
              "      background-color: #3B4455;\n",
              "      fill: #D2E3FC;\n",
              "    }\n",
              "\n",
              "    [theme=dark] .colab-df-convert:hover {\n",
              "      background-color: #434B5C;\n",
              "      box-shadow: 0px 1px 3px 1px rgba(0, 0, 0, 0.15);\n",
              "      filter: drop-shadow(0px 1px 2px rgba(0, 0, 0, 0.3));\n",
              "      fill: #FFFFFF;\n",
              "    }\n",
              "  </style>\n",
              "\n",
              "      <script>\n",
              "        const buttonEl =\n",
              "          document.querySelector('#df-2687a3b0-dd1f-4ec0-a874-0238e77b3246 button.colab-df-convert');\n",
              "        buttonEl.style.display =\n",
              "          google.colab.kernel.accessAllowed ? 'block' : 'none';\n",
              "\n",
              "        async function convertToInteractive(key) {\n",
              "          const element = document.querySelector('#df-2687a3b0-dd1f-4ec0-a874-0238e77b3246');\n",
              "          const dataTable =\n",
              "            await google.colab.kernel.invokeFunction('convertToInteractive',\n",
              "                                                     [key], {});\n",
              "          if (!dataTable) return;\n",
              "\n",
              "          const docLinkHtml = 'Like what you see? Visit the ' +\n",
              "            '<a target=\"_blank\" href=https://colab.research.google.com/notebooks/data_table.ipynb>data table notebook</a>'\n",
              "            + ' to learn more about interactive tables.';\n",
              "          element.innerHTML = '';\n",
              "          dataTable['output_type'] = 'display_data';\n",
              "          await google.colab.output.renderOutput(dataTable, element);\n",
              "          const docLink = document.createElement('div');\n",
              "          docLink.innerHTML = docLinkHtml;\n",
              "          element.appendChild(docLink);\n",
              "        }\n",
              "      </script>\n",
              "    </div>\n",
              "  </div>\n",
              "  "
            ]
          },
          "metadata": {},
          "execution_count": 205
        }
      ],
      "source": [
        "train_num.describe()"
      ]
    },
    {
      "cell_type": "markdown",
      "metadata": {
        "id": "mZVgtgaeJjyo"
      },
      "source": [
        "- net_cap의 최소, 최대값은 극명한데 사분위수들에 대한 정보가 나오지 않는다\n",
        "- 이상치가 존재하는지 확인 후, 이상치가 존재한다면 제거 작업 요망"
      ]
    },
    {
      "cell_type": "markdown",
      "metadata": {
        "id": "fxc2kzjXjTUl"
      },
      "source": [
        "## 상관도 분석"
      ]
    },
    {
      "cell_type": "code",
      "execution_count": null,
      "metadata": {
        "colab": {
          "base_uri": "https://localhost:8080/",
          "height": 332
        },
        "id": "rwbfXyIOLITP",
        "outputId": "0268b4f6-c572-4288-b3f3-fa637457933f"
      },
      "outputs": [
        {
          "output_type": "execute_result",
          "data": {
            "text/plain": [
              "                  education.num      net_cap\n",
              "workclass                                   \n",
              "Federal-gov           10.985567   916.843299\n",
              "Local-gov             11.003799   906.885090\n",
              "Never-worked           7.428571     0.000000\n",
              "Private                9.883904   843.034319\n",
              "Self-emp-inc          11.040404  3931.102694\n",
              "Self-emp-not-inc      10.213836  1900.728774\n",
              "State-gov             11.427921   673.810319\n",
              "Without-pay            8.666667   402.333333"
            ],
            "text/html": [
              "\n",
              "  <div id=\"df-c2051543-f986-4e18-b955-32be6dae58ed\">\n",
              "    <div class=\"colab-df-container\">\n",
              "      <div>\n",
              "<style scoped>\n",
              "    .dataframe tbody tr th:only-of-type {\n",
              "        vertical-align: middle;\n",
              "    }\n",
              "\n",
              "    .dataframe tbody tr th {\n",
              "        vertical-align: top;\n",
              "    }\n",
              "\n",
              "    .dataframe thead th {\n",
              "        text-align: right;\n",
              "    }\n",
              "</style>\n",
              "<table border=\"1\" class=\"dataframe\">\n",
              "  <thead>\n",
              "    <tr style=\"text-align: right;\">\n",
              "      <th></th>\n",
              "      <th>education.num</th>\n",
              "      <th>net_cap</th>\n",
              "    </tr>\n",
              "    <tr>\n",
              "      <th>workclass</th>\n",
              "      <th></th>\n",
              "      <th></th>\n",
              "    </tr>\n",
              "  </thead>\n",
              "  <tbody>\n",
              "    <tr>\n",
              "      <th>Federal-gov</th>\n",
              "      <td>10.985567</td>\n",
              "      <td>916.843299</td>\n",
              "    </tr>\n",
              "    <tr>\n",
              "      <th>Local-gov</th>\n",
              "      <td>11.003799</td>\n",
              "      <td>906.885090</td>\n",
              "    </tr>\n",
              "    <tr>\n",
              "      <th>Never-worked</th>\n",
              "      <td>7.428571</td>\n",
              "      <td>0.000000</td>\n",
              "    </tr>\n",
              "    <tr>\n",
              "      <th>Private</th>\n",
              "      <td>9.883904</td>\n",
              "      <td>843.034319</td>\n",
              "    </tr>\n",
              "    <tr>\n",
              "      <th>Self-emp-inc</th>\n",
              "      <td>11.040404</td>\n",
              "      <td>3931.102694</td>\n",
              "    </tr>\n",
              "    <tr>\n",
              "      <th>Self-emp-not-inc</th>\n",
              "      <td>10.213836</td>\n",
              "      <td>1900.728774</td>\n",
              "    </tr>\n",
              "    <tr>\n",
              "      <th>State-gov</th>\n",
              "      <td>11.427921</td>\n",
              "      <td>673.810319</td>\n",
              "    </tr>\n",
              "    <tr>\n",
              "      <th>Without-pay</th>\n",
              "      <td>8.666667</td>\n",
              "      <td>402.333333</td>\n",
              "    </tr>\n",
              "  </tbody>\n",
              "</table>\n",
              "</div>\n",
              "      <button class=\"colab-df-convert\" onclick=\"convertToInteractive('df-c2051543-f986-4e18-b955-32be6dae58ed')\"\n",
              "              title=\"Convert this dataframe to an interactive table.\"\n",
              "              style=\"display:none;\">\n",
              "        \n",
              "  <svg xmlns=\"http://www.w3.org/2000/svg\" height=\"24px\"viewBox=\"0 0 24 24\"\n",
              "       width=\"24px\">\n",
              "    <path d=\"M0 0h24v24H0V0z\" fill=\"none\"/>\n",
              "    <path d=\"M18.56 5.44l.94 2.06.94-2.06 2.06-.94-2.06-.94-.94-2.06-.94 2.06-2.06.94zm-11 1L8.5 8.5l.94-2.06 2.06-.94-2.06-.94L8.5 2.5l-.94 2.06-2.06.94zm10 10l.94 2.06.94-2.06 2.06-.94-2.06-.94-.94-2.06-.94 2.06-2.06.94z\"/><path d=\"M17.41 7.96l-1.37-1.37c-.4-.4-.92-.59-1.43-.59-.52 0-1.04.2-1.43.59L10.3 9.45l-7.72 7.72c-.78.78-.78 2.05 0 2.83L4 21.41c.39.39.9.59 1.41.59.51 0 1.02-.2 1.41-.59l7.78-7.78 2.81-2.81c.8-.78.8-2.07 0-2.86zM5.41 20L4 18.59l7.72-7.72 1.47 1.35L5.41 20z\"/>\n",
              "  </svg>\n",
              "      </button>\n",
              "      \n",
              "  <style>\n",
              "    .colab-df-container {\n",
              "      display:flex;\n",
              "      flex-wrap:wrap;\n",
              "      gap: 12px;\n",
              "    }\n",
              "\n",
              "    .colab-df-convert {\n",
              "      background-color: #E8F0FE;\n",
              "      border: none;\n",
              "      border-radius: 50%;\n",
              "      cursor: pointer;\n",
              "      display: none;\n",
              "      fill: #1967D2;\n",
              "      height: 32px;\n",
              "      padding: 0 0 0 0;\n",
              "      width: 32px;\n",
              "    }\n",
              "\n",
              "    .colab-df-convert:hover {\n",
              "      background-color: #E2EBFA;\n",
              "      box-shadow: 0px 1px 2px rgba(60, 64, 67, 0.3), 0px 1px 3px 1px rgba(60, 64, 67, 0.15);\n",
              "      fill: #174EA6;\n",
              "    }\n",
              "\n",
              "    [theme=dark] .colab-df-convert {\n",
              "      background-color: #3B4455;\n",
              "      fill: #D2E3FC;\n",
              "    }\n",
              "\n",
              "    [theme=dark] .colab-df-convert:hover {\n",
              "      background-color: #434B5C;\n",
              "      box-shadow: 0px 1px 3px 1px rgba(0, 0, 0, 0.15);\n",
              "      filter: drop-shadow(0px 1px 2px rgba(0, 0, 0, 0.3));\n",
              "      fill: #FFFFFF;\n",
              "    }\n",
              "  </style>\n",
              "\n",
              "      <script>\n",
              "        const buttonEl =\n",
              "          document.querySelector('#df-c2051543-f986-4e18-b955-32be6dae58ed button.colab-df-convert');\n",
              "        buttonEl.style.display =\n",
              "          google.colab.kernel.accessAllowed ? 'block' : 'none';\n",
              "\n",
              "        async function convertToInteractive(key) {\n",
              "          const element = document.querySelector('#df-c2051543-f986-4e18-b955-32be6dae58ed');\n",
              "          const dataTable =\n",
              "            await google.colab.kernel.invokeFunction('convertToInteractive',\n",
              "                                                     [key], {});\n",
              "          if (!dataTable) return;\n",
              "\n",
              "          const docLinkHtml = 'Like what you see? Visit the ' +\n",
              "            '<a target=\"_blank\" href=https://colab.research.google.com/notebooks/data_table.ipynb>data table notebook</a>'\n",
              "            + ' to learn more about interactive tables.';\n",
              "          element.innerHTML = '';\n",
              "          dataTable['output_type'] = 'display_data';\n",
              "          await google.colab.output.renderOutput(dataTable, element);\n",
              "          const docLink = document.createElement('div');\n",
              "          docLink.innerHTML = docLinkHtml;\n",
              "          element.appendChild(docLink);\n",
              "        }\n",
              "      </script>\n",
              "    </div>\n",
              "  </div>\n",
              "  "
            ]
          },
          "metadata": {},
          "execution_count": 206
        }
      ],
      "source": [
        "wc_cnt = train[['workclass', 'education.num', 'net_cap']]\n",
        "# 일 유형별 교육수준, 순자본이익 평균을 계산\n",
        "wc_cnt = wc_cnt.groupby('workclass').mean()\n",
        "wc_cnt"
      ]
    },
    {
      "cell_type": "markdown",
      "metadata": {
        "id": "SpMw1DK6a1rM"
      },
      "source": [
        "- 교육 수준이 높을수록 순자본 이익이 높은 추세에 있지만 꼭 비례하지는 않는다. 의미적으로 보았을 때 Cap gain과 loss가 근로소득이 맞는지에 대한 의문점. 근로소득 이외 자본소득으로 이해한다면 소득 수준이 높기 때문에 굴릴 수 있는 케파가 커진다라고 생각되기 때문에 어느정도의 상관관계는 존재할 수 있다라고 판단"
      ]
    },
    {
      "cell_type": "code",
      "execution_count": null,
      "metadata": {
        "colab": {
          "base_uri": "https://localhost:8080/",
          "height": 578
        },
        "id": "4pbVYWrnPGdH",
        "outputId": "3609266e-e8a4-440a-a256-f4f6b45d5603"
      },
      "outputs": [
        {
          "output_type": "display_data",
          "data": {
            "text/plain": [
              "<Figure size 842.4x595.44 with 2 Axes>"
            ],
            "image/png": "[encoded data removed]"
          },
          "metadata": {}
        }
      ],
      "source": [
        "import numpy as np\n",
        "\n",
        "corr_df = train_num.corr()\n",
        "\n",
        "# 사이즈 조정\n",
        "sns.set(rc={'figure.figsize':(11.7,8.27)})\n",
        "\n",
        "# 절반만 표시하기 위한 mask 설정\n",
        "mask=np.zeros_like(corr_df, dtype=np.bool)\n",
        "mask[np.triu_indices_from(mask)]=True\n",
        "\n",
        "ax = sns.heatmap(corr_df,\n",
        "                 annot=True, # 데이터 값 표시\n",
        "                 mask=mask, # 마스크 적용 표시\n",
        "                 cmap='YlOrRd') # 노랑 / 오렌지 / 빨강\n",
        "\n",
        "plt.xticks(rotation=45)\n",
        "plt.title('Relationship of cols', fontsize=20)\n",
        "plt.show() "
      ]
    },
    {
      "cell_type": "markdown",
      "metadata": {
        "id": "haiIPldyXIes"
      },
      "source": [
        "- 수치형 변수 간 상관도가 극히 낮다.\n",
        "- target값과 나머지 변수들과의 선형성에서 주당 업무시간, 나이가 상관도가 비교적 높게 보임을 알 수 있고, 오히려 인구조사 가중치가 가장 낮게 나왔다."
      ]
    },
    {
      "cell_type": "code",
      "execution_count": null,
      "metadata": {
        "colab": {
          "base_uri": "https://localhost:8080/",
          "height": 1000
        },
        "id": "rAfykD-6OhTO",
        "outputId": "956ef8fa-7436-464d-d56e-7a04d56f31ca"
      },
      "outputs": [
        {
          "output_type": "display_data",
          "data": {
            "text/plain": [
              "<Figure size 2880x3600 with 10 Axes>"
            ],
            "image/png": "[encoded data removed]"
          },
          "metadata": {}
        }
      ],
      "source": [
        "# 수치형 데이터 분포 \b\n",
        "def visualize(axx, field, num):\n",
        "    line = train_num[train_num['target'] == field] #메소드에서 target 클래스 추춣\n",
        "    name = train_num[train_num['target'] == field][train_num.columns[num]].name #메소드에서 이름 추출\n",
        "    sns.kdeplot(x = line[train_num.columns[num]],  data = train_num, ax = axx, color='#eaa18a') #countplot을 이용하여 그래프를 그려줍니다.\n",
        "    axx.axvline(line.describe()[name]['mean'], c='#f55354', label = f\"mean = {round(line.describe()[name]['mean'], 2)}\") #mean 통계값을 표기해줍니다.\n",
        "    axx.axvline(line.describe()[name]['50%'], c='#518d7d', label = f\"median = {round(line.describe()[name]['50%'], 2)}\") #median 통계값을 표기해줍니다.\n",
        "    axx.legend()\n",
        "    axx.set_title(field)\n",
        "\n",
        "figure, ((ax1,ax2),(ax3,ax4), (ax5, ax6),(ax7, ax8), (ax9, ax10))  = plt.subplots(nrows=5, ncols=2) ##원하는 개수의 subplots 만들어주기\n",
        "figure.set_size_inches(40, 50) #(w,h)\n",
        "figure.suptitle('Compare numeric features', fontsize=40, y = 0.9)\n",
        "\n",
        "k = 0 # 피쳐 수\n",
        "j = 1 # 그래프 수\n",
        "while k<5:\n",
        "    for i in range(0,2):\n",
        "        visualize(eval(f'ax{j}'), train_num['target'].unique()[i], k)\n",
        "        j = j+1\n",
        "    k = k+1"
      ]
    },
    {
      "cell_type": "markdown",
      "metadata": {
        "id": "gD3ymFkkQLpM"
      },
      "source": [
        "- Age\n",
        " - 저소득\n",
        "   - 20대에서 40대사이 주로 분포하는 것으로 확인\n",
        " - 고소득\n",
        "   - 주로 30대 후반 ~ 50대 사이 분포하는 것으로 확인\n",
        " - 평균적으로 소득이 가장 많을 연령대가 4~50대이기 때문\n",
        "\n",
        "- fnlwgt\n",
        " - 가중치의 양상이 저소득과 고소득 간 분포가 비슷한데, 해당 가중치의 기준이 정확히 무엇인지 모르겠다\n",
        "\n",
        "- net_cap (cap.gain - cap.loss)\n",
        " - 저소득\n",
        "   - 평균 98로 분산이 크게 적은 정규분포 그래프 형태를 띈다\n",
        " - 고소득\n",
        "   - 평균 3779로 저소득 대비 보다 넓은 분포를 보임\n",
        "\n",
        "- hours.per.week\n",
        " - 고소득이 비교적 높은 주당 업무시간을 소요. \n",
        " - 저소득의 경우 주 40시간을 기준으로 주로 분포, 고소득의 경우에는 40시간 이상에도 어느정도 밀집군을 형성하고 있는 것으로 확인\n",
        "\n",
        "- 정규분포의 형태를 띄는 변수들도 있지만, 치우쳐져 있는 변수들이 많다. 정규화를 할 때 고려해야 할 듯.\n"
      ]
    },
    {
      "cell_type": "markdown",
      "metadata": {
        "id": "vNewHy9gLT5-"
      },
      "source": [
        "# 이상치 제거"
      ]
    },
    {
      "cell_type": "code",
      "execution_count": null,
      "metadata": {
        "colab": {
          "base_uri": "https://localhost:8080/",
          "height": 511
        },
        "id": "6FJtbJhWJx-Q",
        "outputId": "4ed46de5-cfac-4c5e-f63f-1d79153fe589"
      },
      "outputs": [
        {
          "output_type": "display_data",
          "data": {
            "text/plain": [
              "<Figure size 842.4x595.44 with 1 Axes>"
            ],
            "image/png": "[encoded data removed]"
          },
          "metadata": {}
        }
      ],
      "source": [
        "sns.boxplot(data=train_num)\n",
        "plt.show()"
      ]
    },
    {
      "cell_type": "markdown",
      "metadata": {
        "id": "lQoX00wZKqYQ"
      },
      "source": [
        "- 인구조사가중치와 순자본이익에 대한 outlier가 어느정도 존재.\n",
        "- age와 hours.per.week의 경우 이상치가 미미하고 영향을 별로 미치지 않을 것으로 판단. \n",
        "- fnlwgt와 netcap의 이상치만 제거하기로 결정"
      ]
    },
    {
      "cell_type": "code",
      "execution_count": null,
      "metadata": {
        "id": "lwZPHRZNKpCg"
      },
      "outputs": [],
      "source": [
        "def outliers_iqr(data):\n",
        "    q1, q3 = np.percentile(data, [25, 75])\n",
        "    iqr = q3 - q1\n",
        "    lower_bound = q1 - (iqr * 1.5)\n",
        "    upper_bound = q3 + (iqr * 1.5)\n",
        "\n",
        "    return np.where((data > upper_bound)|(data < lower_bound))"
      ]
    },
    {
      "cell_type": "code",
      "execution_count": null,
      "metadata": {
        "colab": {
          "base_uri": "https://localhost:8080/"
        },
        "id": "LWWq06K0Lk_a",
        "outputId": "27a2bd39-954d-4cc5-dd54-4e1712b5d32b"
      },
      "outputs": [
        {
          "output_type": "stream",
          "name": "stdout",
          "text": [
            "이상치 제거 전 개수 :  17480\n",
            "이상치 제거 후 개수 :  14787\n"
          ]
        }
      ],
      "source": [
        "import numpy as np\n",
        "\n",
        "print('이상치 제거 전 개수 : ', len(train))\n",
        "fnlwgt_ol_idx = outliers_iqr(train['fnlwgt'])[0]\n",
        "net_cap_ol_idx = outliers_iqr(train['net_cap'])[0]\n",
        "\n",
        "tt_ol_idx = np.concatenate((\n",
        "    net_cap_ol_idx,\n",
        "    fnlwgt_ol_idx,\n",
        "), axis=None)\n",
        "\n",
        "tt_no_ol_idx = []\n",
        "\n",
        "for i in train.index:\n",
        "\n",
        "    # tt_ol_idx에 포함 아니면 추가\n",
        "    if i not in tt_ol_idx:\n",
        "        tt_no_ol_idx.append(i)\n",
        "\n",
        "train = train.loc[tt_no_ol_idx]\n",
        "train = train.reset_index(drop=True)\n",
        "print('이상치 제거 후 개수 : ', len(train))"
      ]
    },
    {
      "cell_type": "code",
      "execution_count": null,
      "metadata": {
        "colab": {
          "base_uri": "https://localhost:8080/",
          "height": 500
        },
        "id": "hCF1_7mmNkus",
        "outputId": "84466b96-7508-4742-998c-d29d5a53d516"
      },
      "outputs": [
        {
          "output_type": "display_data",
          "data": {
            "text/plain": [
              "<Figure size 842.4x595.44 with 1 Axes>"
            ],
            "image/png": "[encoded data removed]"
          },
          "metadata": {}
        }
      ],
      "source": [
        "# 이상치 제거 후\n",
        "sns.boxplot(data=train)\n",
        "plt.show()"
      ]
    },
    {
      "cell_type": "markdown",
      "metadata": {
        "id": "DS9Ye2OUVyoq"
      },
      "source": [
        "- 이상치가 어느정도 제거된 양상을 보임"
      ]
    },
    {
      "cell_type": "markdown",
      "source": [
        "# 데이터 전처리"
      ],
      "metadata": {
        "id": "BlFvWqbhL9DU"
      }
    },
    {
      "cell_type": "code",
      "source": [
        "def preprocessing_train(df):\n",
        "\n",
        "    \n",
        "    # 결측치 일괄 제거\n",
        "    df.dropna(inplace=True, axis=0)\n",
        "    \n",
        "    # 불용 및 상관관계가 낮다고 생각되는 columns 제거\n",
        "    df.drop(['id', 'capital.gain', 'capital.loss', 'fnlwgt', 'native.country'], inplace=True, axis=1)\n",
        "\n",
        "    # columns 순서 변경\n",
        "    df = df[['age', 'workclass', 'education', 'education.num',\n",
        "       'marital.status', 'occupation', 'relationship', 'race', 'sex',\n",
        "       'hours.per.week', 'net_cap', 'target']]\n",
        "\n",
        "    # 결혼 상태 - 기혼 / 미혼으로 변경\n",
        "    df['marital.status'].replace(['Married-civ-spouse', 'Married-AF-spouse', 'Married-spouse-absent', 'Separated'], 'Not-alone', inplace=True)\n",
        "    df['marital.status'].replace(['Never-married', 'Divorced', 'Widowed'], 'Alone', inplace=True)\n",
        "    # 교육 수준 - 고졸 / 전문대 / 대졸 학사 / 석박사\n",
        "    df['education'].replace(['7th-8th', '1st-4th', '10th', '11th', '5th-6th', '9th', '12th', 'Preschool' 'HS-grad'], 'Under_HS', inplace=True)\n",
        "    df['education'].replace(['Assoc-acdm', 'Some-college', 'Assoc-voc'], 'Jr_college', inplace=True)\n",
        "    df['education'].replace(['Bachelors', 'Doctorate', 'Prof-school', 'Masters'], 'Over_college', inplace=True)\n",
        "    # 가족관계 - 결혼 유무로 변경\n",
        "    df['relationship'].replace(['Husband', 'Wife', 'Own-child'], 'Married', inplace=True)\n",
        "    df['relationship'].replace(['Not-in-family', 'Unmarried', 'Other-relative'], 'Not married', inplace=True)\n",
        "    # 일 유형 - 노 페이, 일 경험 없음을 other로 분류\n",
        "    df['workclass'].replace(['Without-pay', 'Never-worked'], 'other', inplace=True)\n",
        "    # 직업군을 n차 산업별로 분류 - 번역이 안 되는 몇몇 값의 경우 임의로 배정\n",
        "    df['occupation'].replace(['Adm-clerical', 'Machine-op-inspct', 'Farming-fishing', 'Transport-moving', 'Handlers-cleaners', 'Other-service', 'Priv-house-serv'], 'Pri_ind', inplace=True)\n",
        "    df['occupation'].replace(['Tech-support', 'Sales', 'Craft-repair', 'Protective-serv', 'Armed-Forces'], 'sec_ind', inplace=True)\n",
        "    df['occupation'].replace(['Prof-specialty', 'Exec-managerial'], 'ter_ind', inplace=True)\n",
        "\n",
        "    return df\n",
        "\n",
        "def preprocessing_test(df):\n",
        "    # 순자본이익 컬럼 생성\n",
        "    df['net_cap'] = df['capital.gain'] - df['capital.loss']\n",
        "    # 결혼 상태 - 기혼 / 미혼으로 변경\n",
        "    df['marital.status'].replace(['Married-civ-spouse', 'Married-AF-spouse', 'Married-spouse-absent', 'Separated'], 'Not-alone', inplace=True)\n",
        "    df['marital.status'].replace(['Never-married', 'Divorced', 'Widowed'], 'Alone', inplace=True)\n",
        "    # 교육 수준 - 고졸 / 전문대 / 대졸 학사 / 석박사\n",
        "    df['education'].replace(['7th-8th', '1st-4th', '10th', '11th', '5th-6th', '9th', '12th', 'Preschool' 'HS-grad'], 'Under_HS', inplace=True)\n",
        "    df['education'].replace(['Assoc-acdm', 'Some-college', 'Assoc-voc'], 'Jr_college', inplace=True)\n",
        "    df['education'].replace(['Bachelors', 'Doctorate', 'Prof-school', 'Masters'], 'Over_college', inplace=True)\n",
        "    # 가족관계 - 결혼 유무로 변경\n",
        "    df['relationship'].replace(['Husband', 'Wife', 'Own-child'], 'Married', inplace=True)\n",
        "    df['relationship'].replace(['Not-in-family', 'Unmarried', 'Other-relative'], 'Not married', inplace=True)\n",
        "    # 일 유형 - 노 페이, 일 경험 없음을 other로 분류\n",
        "    df['workclass'].replace(['Without-pay', 'Never-worked'], 'other', inplace=True)\n",
        "    # 직업군을 n차 산업별로 분류 - 번역이 안 되는 몇몇 값의 경우 임의로 배정\n",
        "    df['occupation'].replace(['Adm-clerical', 'Machine-op-inspct', 'Farming-fishing', 'Transport-moving', 'Handlers-cleaners', 'Other-service', 'Priv-house-serv'], 'Pri_ind', inplace=True)\n",
        "    df['occupation'].replace(['Tech-support', 'Sales', 'Craft-repair', 'Protective-serv', 'Armed-Forces'], 'sec_ind', inplace=True)\n",
        "    df['occupation'].replace(['Prof-specialty', 'Exec-managerial'], 'ter_ind', inplace=True)\n",
        "\n",
        "\n",
        "    # 결측치 일괄 제거\n",
        "    df.dropna(inplace=True, axis=0)\n",
        "    \n",
        "    # 불용 및 상관관계가 낮다고 생각되는 columns 제거\n",
        "    df.drop(['id', 'capital.gain', 'capital.loss', 'fnlwgt', 'native.country'], inplace=True, axis=1)\n",
        "\n",
        "\n",
        "    return df"
      ],
      "metadata": {
        "id": "rD3yLpt3FfN-"
      },
      "execution_count": null,
      "outputs": []
    },
    {
      "cell_type": "code",
      "source": [
        "train = preprocessing_train(train)"
      ],
      "metadata": {
        "id": "xevwUREGG8Qe"
      },
      "execution_count": null,
      "outputs": []
    },
    {
      "cell_type": "markdown",
      "metadata": {
        "id": "2O_c0543cGiH"
      },
      "source": [
        "# One-hot Encoding"
      ]
    },
    {
      "cell_type": "code",
      "execution_count": null,
      "metadata": {
        "colab": {
          "base_uri": "https://localhost:8080/",
          "height": 334
        },
        "id": "ACAM141AbcPW",
        "outputId": "a8516a4d-dad0-4ffb-e045-f74b5479dfea"
      },
      "outputs": [
        {
          "output_type": "execute_result",
          "data": {
            "text/plain": [
              "   age  education.num  hours.per.week  net_cap  target  workclass_Federal-gov  \\\n",
              "0   32             12              40        0       0                      0   \n",
              "1   33             10              40        0       1                      0   \n",
              "2   46             10              40        0       0                      0   \n",
              "3   23             13              30        0       0                      0   \n",
              "4   55              9              40        0       0                      0   \n",
              "\n",
              "   workclass_Local-gov  workclass_Private  workclass_Self-emp-inc  \\\n",
              "0                    0                  1                       0   \n",
              "1                    0                  1                       0   \n",
              "2                    0                  1                       0   \n",
              "3                    0                  1                       0   \n",
              "4                    0                  1                       0   \n",
              "\n",
              "   workclass_Self-emp-not-inc  ...  occupation_ter_ind  relationship_Married  \\\n",
              "0                           0  ...                   0                     1   \n",
              "1                           0  ...                   1                     1   \n",
              "2                           0  ...                   0                     1   \n",
              "3                           0  ...                   0                     1   \n",
              "4                           0  ...                   0                     0   \n",
              "\n",
              "   relationship_Not married  race_Amer-Indian-Eskimo  race_Asian-Pac-Islander  \\\n",
              "0                         0                        0                        0   \n",
              "1                         0                        0                        0   \n",
              "2                         0                        0                        0   \n",
              "3                         0                        0                        0   \n",
              "4                         1                        0                        0   \n",
              "\n",
              "   race_Black  race_Other  race_White  sex_Female  sex_Male  \n",
              "0           0           0           1           0         1  \n",
              "1           0           0           1           0         1  \n",
              "2           0           0           1           0         1  \n",
              "3           0           0           1           1         0  \n",
              "4           0           0           1           1         0  \n",
              "\n",
              "[5 rows x 31 columns]"
            ],
            "text/html": [
              "\n",
              "  <div id=\"df-2c4a2faf-2323-4656-85cd-f2cc2447cb2f\">\n",
              "    <div class=\"colab-df-container\">\n",
              "      <div>\n",
              "<style scoped>\n",
              "    .dataframe tbody tr th:only-of-type {\n",
              "        vertical-align: middle;\n",
              "    }\n",
              "\n",
              "    .dataframe tbody tr th {\n",
              "        vertical-align: top;\n",
              "    }\n",
              "\n",
              "    .dataframe thead th {\n",
              "        text-align: right;\n",
              "    }\n",
              "</style>\n",
              "<table border=\"1\" class=\"dataframe\">\n",
              "  <thead>\n",
              "    <tr style=\"text-align: right;\">\n",
              "      <th></th>\n",
              "      <th>age</th>\n",
              "      <th>education.num</th>\n",
              "      <th>hours.per.week</th>\n",
              "      <th>net_cap</th>\n",
              "      <th>target</th>\n",
              "      <th>workclass_Federal-gov</th>\n",
              "      <th>workclass_Local-gov</th>\n",
              "      <th>workclass_Private</th>\n",
              "      <th>workclass_Self-emp-inc</th>\n",
              "      <th>workclass_Self-emp-not-inc</th>\n",
              "      <th>...</th>\n",
              "      <th>occupation_ter_ind</th>\n",
              "      <th>relationship_Married</th>\n",
              "      <th>relationship_Not married</th>\n",
              "      <th>race_Amer-Indian-Eskimo</th>\n",
              "      <th>race_Asian-Pac-Islander</th>\n",
              "      <th>race_Black</th>\n",
              "      <th>race_Other</th>\n",
              "      <th>race_White</th>\n",
              "      <th>sex_Female</th>\n",
              "      <th>sex_Male</th>\n",
              "    </tr>\n",
              "  </thead>\n",
              "  <tbody>\n",
              "    <tr>\n",
              "      <th>0</th>\n",
              "      <td>32</td>\n",
              "      <td>12</td>\n",
              "      <td>40</td>\n",
              "      <td>0</td>\n",
              "      <td>0</td>\n",
              "      <td>0</td>\n",
              "      <td>0</td>\n",
              "      <td>1</td>\n",
              "      <td>0</td>\n",
              "      <td>0</td>\n",
              "      <td>...</td>\n",
              "      <td>0</td>\n",
              "      <td>1</td>\n",
              "      <td>0</td>\n",
              "      <td>0</td>\n",
              "      <td>0</td>\n",
              "      <td>0</td>\n",
              "      <td>0</td>\n",
              "      <td>1</td>\n",
              "      <td>0</td>\n",
              "      <td>1</td>\n",
              "    </tr>\n",
              "    <tr>\n",
              "      <th>1</th>\n",
              "      <td>33</td>\n",
              "      <td>10</td>\n",
              "      <td>40</td>\n",
              "      <td>0</td>\n",
              "      <td>1</td>\n",
              "      <td>0</td>\n",
              "      <td>0</td>\n",
              "      <td>1</td>\n",
              "      <td>0</td>\n",
              "      <td>0</td>\n",
              "      <td>...</td>\n",
              "      <td>1</td>\n",
              "      <td>1</td>\n",
              "      <td>0</td>\n",
              "      <td>0</td>\n",
              "      <td>0</td>\n",
              "      <td>0</td>\n",
              "      <td>0</td>\n",
              "      <td>1</td>\n",
              "      <td>0</td>\n",
              "      <td>1</td>\n",
              "    </tr>\n",
              "    <tr>\n",
              "      <th>2</th>\n",
              "      <td>46</td>\n",
              "      <td>10</td>\n",
              "      <td>40</td>\n",
              "      <td>0</td>\n",
              "      <td>0</td>\n",
              "      <td>0</td>\n",
              "      <td>0</td>\n",
              "      <td>1</td>\n",
              "      <td>0</td>\n",
              "      <td>0</td>\n",
              "      <td>...</td>\n",
              "      <td>0</td>\n",
              "      <td>1</td>\n",
              "      <td>0</td>\n",
              "      <td>0</td>\n",
              "      <td>0</td>\n",
              "      <td>0</td>\n",
              "      <td>0</td>\n",
              "      <td>1</td>\n",
              "      <td>0</td>\n",
              "      <td>1</td>\n",
              "    </tr>\n",
              "    <tr>\n",
              "      <th>3</th>\n",
              "      <td>23</td>\n",
              "      <td>13</td>\n",
              "      <td>30</td>\n",
              "      <td>0</td>\n",
              "      <td>0</td>\n",
              "      <td>0</td>\n",
              "      <td>0</td>\n",
              "      <td>1</td>\n",
              "      <td>0</td>\n",
              "      <td>0</td>\n",
              "      <td>...</td>\n",
              "      <td>0</td>\n",
              "      <td>1</td>\n",
              "      <td>0</td>\n",
              "      <td>0</td>\n",
              "      <td>0</td>\n",
              "      <td>0</td>\n",
              "      <td>0</td>\n",
              "      <td>1</td>\n",
              "      <td>1</td>\n",
              "      <td>0</td>\n",
              "    </tr>\n",
              "    <tr>\n",
              "      <th>4</th>\n",
              "      <td>55</td>\n",
              "      <td>9</td>\n",
              "      <td>40</td>\n",
              "      <td>0</td>\n",
              "      <td>0</td>\n",
              "      <td>0</td>\n",
              "      <td>0</td>\n",
              "      <td>1</td>\n",
              "      <td>0</td>\n",
              "      <td>0</td>\n",
              "      <td>...</td>\n",
              "      <td>0</td>\n",
              "      <td>0</td>\n",
              "      <td>1</td>\n",
              "      <td>0</td>\n",
              "      <td>0</td>\n",
              "      <td>0</td>\n",
              "      <td>0</td>\n",
              "      <td>1</td>\n",
              "      <td>1</td>\n",
              "      <td>0</td>\n",
              "    </tr>\n",
              "  </tbody>\n",
              "</table>\n",
              "<p>5 rows × 31 columns</p>\n",
              "</div>\n",
              "      <button class=\"colab-df-convert\" onclick=\"convertToInteractive('df-2c4a2faf-2323-4656-85cd-f2cc2447cb2f')\"\n",
              "              title=\"Convert this dataframe to an interactive table.\"\n",
              "              style=\"display:none;\">\n",
              "        \n",
              "  <svg xmlns=\"http://www.w3.org/2000/svg\" height=\"24px\"viewBox=\"0 0 24 24\"\n",
              "       width=\"24px\">\n",
              "    <path d=\"M0 0h24v24H0V0z\" fill=\"none\"/>\n",
              "    <path d=\"M18.56 5.44l.94 2.06.94-2.06 2.06-.94-2.06-.94-.94-2.06-.94 2.06-2.06.94zm-11 1L8.5 8.5l.94-2.06 2.06-.94-2.06-.94L8.5 2.5l-.94 2.06-2.06.94zm10 10l.94 2.06.94-2.06 2.06-.94-2.06-.94-.94-2.06-.94 2.06-2.06.94z\"/><path d=\"M17.41 7.96l-1.37-1.37c-.4-.4-.92-.59-1.43-.59-.52 0-1.04.2-1.43.59L10.3 9.45l-7.72 7.72c-.78.78-.78 2.05 0 2.83L4 21.41c.39.39.9.59 1.41.59.51 0 1.02-.2 1.41-.59l7.78-7.78 2.81-2.81c.8-.78.8-2.07 0-2.86zM5.41 20L4 18.59l7.72-7.72 1.47 1.35L5.41 20z\"/>\n",
              "  </svg>\n",
              "      </button>\n",
              "      \n",
              "  <style>\n",
              "    .colab-df-container {\n",
              "      display:flex;\n",
              "      flex-wrap:wrap;\n",
              "      gap: 12px;\n",
              "    }\n",
              "\n",
              "    .colab-df-convert {\n",
              "      background-color: #E8F0FE;\n",
              "      border: none;\n",
              "      border-radius: 50%;\n",
              "      cursor: pointer;\n",
              "      display: none;\n",
              "      fill: #1967D2;\n",
              "      height: 32px;\n",
              "      padding: 0 0 0 0;\n",
              "      width: 32px;\n",
              "    }\n",
              "\n",
              "    .colab-df-convert:hover {\n",
              "      background-color: #E2EBFA;\n",
              "      box-shadow: 0px 1px 2px rgba(60, 64, 67, 0.3), 0px 1px 3px 1px rgba(60, 64, 67, 0.15);\n",
              "      fill: #174EA6;\n",
              "    }\n",
              "\n",
              "    [theme=dark] .colab-df-convert {\n",
              "      background-color: #3B4455;\n",
              "      fill: #D2E3FC;\n",
              "    }\n",
              "\n",
              "    [theme=dark] .colab-df-convert:hover {\n",
              "      background-color: #434B5C;\n",
              "      box-shadow: 0px 1px 3px 1px rgba(0, 0, 0, 0.15);\n",
              "      filter: drop-shadow(0px 1px 2px rgba(0, 0, 0, 0.3));\n",
              "      fill: #FFFFFF;\n",
              "    }\n",
              "  </style>\n",
              "\n",
              "      <script>\n",
              "        const buttonEl =\n",
              "          document.querySelector('#df-2c4a2faf-2323-4656-85cd-f2cc2447cb2f button.colab-df-convert');\n",
              "        buttonEl.style.display =\n",
              "          google.colab.kernel.accessAllowed ? 'block' : 'none';\n",
              "\n",
              "        async function convertToInteractive(key) {\n",
              "          const element = document.querySelector('#df-2c4a2faf-2323-4656-85cd-f2cc2447cb2f');\n",
              "          const dataTable =\n",
              "            await google.colab.kernel.invokeFunction('convertToInteractive',\n",
              "                                                     [key], {});\n",
              "          if (!dataTable) return;\n",
              "\n",
              "          const docLinkHtml = 'Like what you see? Visit the ' +\n",
              "            '<a target=\"_blank\" href=https://colab.research.google.com/notebooks/data_table.ipynb>data table notebook</a>'\n",
              "            + ' to learn more about interactive tables.';\n",
              "          element.innerHTML = '';\n",
              "          dataTable['output_type'] = 'display_data';\n",
              "          await google.colab.output.renderOutput(dataTable, element);\n",
              "          const docLink = document.createElement('div');\n",
              "          docLink.innerHTML = docLinkHtml;\n",
              "          element.appendChild(docLink);\n",
              "        }\n",
              "      </script>\n",
              "    </div>\n",
              "  </div>\n",
              "  "
            ]
          },
          "metadata": {},
          "execution_count": 217
        }
      ],
      "source": [
        "train = pd.get_dummies(train)\n",
        "train.head()"
      ]
    },
    {
      "cell_type": "markdown",
      "metadata": {
        "id": "GdPmZgrLcLD1"
      },
      "source": [
        "> 레이블 인코딩의 문제점  \n",
        "- 일괄적인 숫자 값으로 변환되면서 예측 성능이 떨어질 수 있다.  \n",
        "-  숫자의 크고 작음에 대한 특성이 작용\n",
        " - 선형 회귀와 같은 ML 알고리즘에는 적용하지 않아야 함   \n",
        "(트리 계열의 ML알고리즘은 숫자의 이러한 특성을 반영하지 않으므로 괜찮음)\n",
        "\n",
        "- 일반적으로 Label Encoding의 경우, 숫자의 크고 작음에 대한 특성이 작용하기 때문에 보통 ML 회귀모델에서 잘 쓰이지 않는다고 한다. 때문에 가볍게 적용할 수 있는 One-hot encoding을 진행했다.\n"
      ]
    },
    {
      "cell_type": "markdown",
      "metadata": {
        "id": "fJKyncxug3Xz"
      },
      "source": [
        "# 변수 및 모델 정리"
      ]
    },
    {
      "cell_type": "code",
      "execution_count": null,
      "metadata": {
        "colab": {
          "base_uri": "https://localhost:8080/"
        },
        "id": "9Em4RADLgk97",
        "outputId": "464cb766-ee15-4bd5-9978-80995c7711af"
      },
      "outputs": [
        {
          "output_type": "stream",
          "name": "stdout",
          "text": [
            "(12721, 30) (12721,)\n"
          ]
        }
      ],
      "source": [
        "X = train.drop(['target'], axis=1)\n",
        "y = train['target']\n",
        "print(X.shape, y.shape)"
      ]
    },
    {
      "cell_type": "markdown",
      "metadata": {
        "id": "91yIftYOq1YX"
      },
      "source": [
        "## 정규화\n",
        "\n",
        "- 어떠한 Scaler를 써야될 지 고민이 많았다.\n",
        "- 여러 자료들을 참고해보았을 때, Standard가 적합하다는 생각이 들었다. 이전 교육을 들으면서 회귀분석을 할 때에도 MinMax와 Standard를 함께 써서 비교를 했었는데 그 당시에는 두 가지가 차이가 나지 않았다. (정제를 잘 한 탓일까)\n",
        "무튼, 이상치에 민감한 정규화기 때문에 일단 제거는 했지만 최대한 표준화된 Standard와 Robust를 사용해 두 가지를 비교해보기로 했다.\n",
        "\n",
        "> 변환 분포를 살펴보면 StandardScaler와 RobustScaler의 변환된 결과가 대부분 표준화된 유사 형태의 데이터 분포로 반환된다.  \n",
        "MinMaxScaler특정값에 집중되어 있는 데이터가 그렇지 않은 데이터 분포보다 1표준편차에 의한 스케일 변화값이 커지게 된다.  \n",
        "한쪽으로 쏠림 현상이 있는 데이터 분포는 형태가 거의 유지된채 범위값이 조절되는 결과를 보인다.  \n",
        "MaxAbsScaler의 경우, MinMaxScaler와 유사하나 음수와 양수값에 따른 대칭 분포를 유지하게 되는 특징이 있다.  \n",
        "그리고 마지막 이미지를 통해 살펴보면, 대부분의 스케일링 기법에서 아웃라이어는 변환 효과를 저해하는 요소임이 드러난다.  \n",
        "유의해야할 점은, 스케일링시 Feature별로 크기를 유사하게 만드는 것은 중요하지만, 그렇다고 모든 Feature의 분포를 동일하게 만들 필요는 없다.  \n",
        "특성에 따라 어떤 항목은 원본데이터의 분포를 유지하는 것이 유의할 수 있다. 예로 데이터가 거의 한 곳에 집중되어 있는 Feature를 표준화시켜 분포를 같게 만들었을때 작은 단위의 변화가 큰 차이를 나타내는 것으로 반영될 수 있기 때문이다.  \n",
        "출처 : https://mkjjo.github.io/python/2019/01/10/scaler.html"
      ]
    },
    {
      "cell_type": "code",
      "execution_count": null,
      "metadata": {
        "colab": {
          "base_uri": "https://localhost:8080/"
        },
        "id": "YA_dcYJyqzDO",
        "outputId": "9ca31086-ae65-4b8b-a0a1-0e23b2c98e3b"
      },
      "outputs": [
        {
          "output_type": "stream",
          "name": "stdout",
          "text": [
            "StandardScaler()\n"
          ]
        }
      ],
      "source": [
        "from sklearn.preprocessing import StandardScaler\n",
        "\n",
        "standardScaler = StandardScaler()\n",
        "print(standardScaler.fit(X))\n",
        "train_std = standardScaler.transform(X)"
      ]
    },
    {
      "cell_type": "code",
      "execution_count": null,
      "metadata": {
        "id": "S4ipub7vCo89"
      },
      "outputs": [],
      "source": [
        "from sklearn.model_selection import train_test_split                                                     \n",
        "\n",
        "X_train, X_valid, y_train, y_valid = train_test_split(train_std, \n",
        "                                                      y, \n",
        "                                                      test_size=0.2, \n",
        "                                                      random_state=42)"
      ]
    },
    {
      "cell_type": "markdown",
      "metadata": {
        "id": "smnQmNowhGW_"
      },
      "source": [
        "# 모델 성능 확인"
      ]
    },
    {
      "cell_type": "code",
      "execution_count": null,
      "metadata": {
        "colab": {
          "base_uri": "https://localhost:8080/"
        },
        "id": "e0b0FtL7gxc7",
        "outputId": "8812f3f8-6ffb-4e72-d9a8-dcab327bdd5c"
      },
      "outputs": [
        {
          "output_type": "stream",
          "name": "stdout",
          "text": [
            "LogisticRegression 모델의 정확도는 84.01% 입니다\n",
            "LogisticRegression 모델의 f1 score는 52.06% 입니다\n"
          ]
        }
      ],
      "source": [
        "\n",
        "from sklearn.linear_model import LogisticRegression\n",
        "from sklearn.metrics import accuracy_score, f1_score\n",
        "\n",
        "# 모델 선언\n",
        "model_lgr = LogisticRegression(solver='liblinear', random_state=0)\n",
        "\n",
        "# 모델 학습\n",
        "model_lgr.fit(X_train, y_train)\n",
        "pred = model_lgr.predict(X_valid)\n",
        "score_lgr = accuracy_score(y_valid, pred)\n",
        "f1_lgr = f1_score(y_valid, pred)\n",
        "\n",
        "print(f\"LogisticRegression 모델의 정확도는 {score_lgr*100:.2f}% 입니다\")\n",
        "print(f\"LogisticRegression 모델의 f1 score는 {f1_lgr*100:.2f}% 입니다\")"
      ]
    },
    {
      "cell_type": "markdown",
      "metadata": {
        "id": "2BCQr8sNvyYk"
      },
      "source": [
        "- 두 Scaler 정확도에서는 차이가 나지 않는다. 데이터 컬럼의 유형에 따라 차이가 날 수도 있을거란 생각이 든다. 4가지 정규화 유형에 대해 학습할 필요가 있어 보인다.\n",
        "- 또한 데이콘에 올라온 예제 코드에서는 원핫인코딩이 아닌 라벨 인코딩을 진행했고, 이상치 제거를 하지 않아서인지 미미한 차이긴 하지만 1% 정도 정확도에서 차이를 보이는 것 같다"
      ]
    },
    {
      "cell_type": "markdown",
      "metadata": {
        "id": "q89MPe17B5E6"
      },
      "source": [
        "\n",
        "# 앙상블 모델 테스트\n",
        "\n",
        "- 경험상 여러 모델을 사용해서 순위를 매겨보면, 앙상블의 성능이 대부분 우수하게 나왔다. 주로 점수가 높았던 모델을 추려 정확도를 확인"
      ]
    },
    {
      "cell_type": "markdown",
      "metadata": {
        "id": "-bzDN7SADlcb"
      },
      "source": [
        "# XGBoost"
      ]
    },
    {
      "cell_type": "code",
      "execution_count": null,
      "metadata": {
        "colab": {
          "base_uri": "https://localhost:8080/"
        },
        "id": "9FkBL11e7lcq",
        "outputId": "e0d91790-dd55-439c-d1aa-af8472f997a7"
      },
      "outputs": [
        {
          "output_type": "stream",
          "name": "stdout",
          "text": [
            "XGBClassifier Accuracy : 85.19\n",
            "XGBClassifier f1 score : 55.59\n"
          ]
        }
      ],
      "source": [
        "from xgboost import XGBClassifier\n",
        "import warnings\n",
        "warnings.filterwarnings(action='ignore')\n",
        "\n",
        "xgb_cfr = XGBClassifier(random_state=0)\n",
        "xgb_cfr.fit(X_train, y_train)\n",
        "\n",
        "pred = xgb_cfr.predict(X_valid)\n",
        "score_xgb = accuracy_score(y_valid, pred)\n",
        "f1_xgb = f1_score(y_valid, pred)\n",
        "\n",
        "print(f'XGBClassifier Accuracy : {score_xgb*100:.2f}')\n",
        "print(f'XGBClassifier f1 score : {f1_xgb*100:.2f}')"
      ]
    },
    {
      "cell_type": "markdown",
      "metadata": {
        "id": "8rMz5wubD_dG"
      },
      "source": [
        "# DecisionTreeClassifier"
      ]
    },
    {
      "cell_type": "code",
      "execution_count": null,
      "metadata": {
        "colab": {
          "base_uri": "https://localhost:8080/"
        },
        "id": "RYHvetpL7m0R",
        "outputId": "d9420625-b019-47f3-adf6-cc6743902261"
      },
      "outputs": [
        {
          "output_type": "stream",
          "name": "stdout",
          "text": [
            "DecisionTreeClassifier Accuracy : 79.49\n",
            "DecisionTreeClassifier f1 score : 48.11\n"
          ]
        }
      ],
      "source": [
        "from sklearn.tree import DecisionTreeClassifier\n",
        "\n",
        "dt_cfr = DecisionTreeClassifier(random_state=0)\n",
        "dt_cfr.fit(X_train, y_train)\n",
        "\n",
        "pred = dt_cfr.predict(X_valid)\n",
        "score_dt = accuracy_score(y_valid, pred)\n",
        "f1_dt = f1_score(y_valid, pred)\n",
        "\n",
        "print(f'DecisionTreeClassifier Accuracy : {score_dt*100:.2f}')\n",
        "print(f'DecisionTreeClassifier f1 score : {f1_dt*100:.2f}')"
      ]
    },
    {
      "cell_type": "markdown",
      "metadata": {
        "id": "p9N6hhUeENnr"
      },
      "source": [
        "# RandomForestClassifier"
      ]
    },
    {
      "cell_type": "code",
      "execution_count": null,
      "metadata": {
        "colab": {
          "base_uri": "https://localhost:8080/"
        },
        "id": "octlsXNhDtGz",
        "outputId": "7ac351dc-0d25-471a-a46a-f5e7149101a2"
      },
      "outputs": [
        {
          "output_type": "stream",
          "name": "stdout",
          "text": [
            "RandomForestClassifier Accuracy : 82.71\n",
            "RandomForestClassifier f1 score : 52.89\n"
          ]
        }
      ],
      "source": [
        "from sklearn.ensemble import RandomForestClassifier\n",
        "\n",
        "rf_cfr = RandomForestClassifier(random_state=0)\n",
        "rf_cfr.fit(X_train, y_train)\n",
        "\n",
        "pred = rf_cfr.predict(X_valid)\n",
        "score_rf = accuracy_score(y_valid, pred)\n",
        "f1_rf = f1_score(y_valid, pred)\n",
        "\n",
        "print(f'RandomForestClassifier Accuracy : {score_rf*100:.2f}')\n",
        "print(f'RandomForestClassifier f1 score : {f1_rf*100:.2f}')"
      ]
    },
    {
      "cell_type": "markdown",
      "metadata": {
        "id": "AeYSBjzHEeJn"
      },
      "source": [
        "# SVC"
      ]
    },
    {
      "cell_type": "code",
      "execution_count": null,
      "metadata": {
        "colab": {
          "base_uri": "https://localhost:8080/"
        },
        "id": "Z1aiV7e2Dtsb",
        "outputId": "52d83c32-91dc-4fb7-e1f0-372b5e1dccf9"
      },
      "outputs": [
        {
          "output_type": "stream",
          "name": "stdout",
          "text": [
            "SoftVectorMachine Accuracy : 82.99\n",
            "SoftVectorMachine f1 score : 45.53\n"
          ]
        }
      ],
      "source": [
        "from sklearn.svm import SVC\n",
        "\n",
        "svm_cfr = SVC(kernel=\"linear\", probability=True, random_state=0)\n",
        "svm_cfr.fit(X_train, y_train)\n",
        "\n",
        "pred = svm_cfr.predict(X_valid)\n",
        "score_svc = accuracy_score(y_valid, pred)\n",
        "f1_svc = f1_score(y_valid, pred)\n",
        "\n",
        "print(f'SoftVectorMachine Accuracy : {score_svc*100:.2f}')\n",
        "print(f'SoftVectorMachine f1 score : {f1_svc*100:.2f}')"
      ]
    },
    {
      "cell_type": "markdown",
      "source": [
        "## GBM"
      ],
      "metadata": {
        "id": "KgeOrlifYIXe"
      }
    },
    {
      "cell_type": "code",
      "execution_count": null,
      "metadata": {
        "colab": {
          "base_uri": "https://localhost:8080/"
        },
        "id": "fwkQ1EJDErt7",
        "outputId": "0dfc9fa5-4581-43eb-a3e2-860bede14c77"
      },
      "outputs": [
        {
          "output_type": "stream",
          "name": "stdout",
          "text": [
            "GradientBoostingClassifier Accuracy : 84.83\n",
            "GradientBoostingClassifier f1 score : 55.22\n"
          ]
        }
      ],
      "source": [
        "from sklearn.ensemble import GradientBoostingClassifier\n",
        "\n",
        "gbr_cfr = GradientBoostingClassifier(random_state=0).fit(X_train, y_train)\n",
        "\n",
        "pred = gbr_cfr.predict(X_valid)\n",
        "score_gbr = accuracy_score(y_valid, pred)\n",
        "f1_gbr = f1_score(y_valid, pred)\n",
        "\n",
        "print(f'GradientBoostingClassifier Accuracy : {score_gbr*100:.2f}')\n",
        "print(f'GradientBoostingClassifier f1 score : {f1_gbr*100:.2f}')"
      ]
    },
    {
      "cell_type": "markdown",
      "metadata": {
        "id": "y43HcqutEsMa"
      },
      "source": [
        "# LGBM"
      ]
    },
    {
      "cell_type": "code",
      "execution_count": null,
      "metadata": {
        "id": "RoeZPkIADuLz",
        "colab": {
          "base_uri": "https://localhost:8080/"
        },
        "outputId": "428852dc-2137-46d0-9f91-8562f25d0cc9"
      },
      "outputs": [
        {
          "output_type": "stream",
          "name": "stdout",
          "text": [
            "LGBMClassifier Accuracy : 82.48\n",
            "LGBMClassifier f1 score : 53.54\n"
          ]
        }
      ],
      "source": [
        "from lightgbm import LGBMClassifier\n",
        "\n",
        "lgb_cfr = LGBMClassifier(n_estimators=1000, random_state=0)\n",
        "lgb_cfr.fit(X_train, y_train)\n",
        "\n",
        "pred = lgb_cfr.predict(X_valid)\n",
        "score_lgb = accuracy_score(y_valid, pred)\n",
        "f1_lgb = f1_score(y_valid, pred)\n",
        "\n",
        "print(f'LGBMClassifier Accuracy : {score_lgb*100:.2f}')\n",
        "print(f'LGBMClassifier f1 score : {f1_lgb*100:.2f}')"
      ]
    },
    {
      "cell_type": "markdown",
      "source": [
        "# KNeightborsClassifier"
      ],
      "metadata": {
        "id": "LhK84viwr2nC"
      }
    },
    {
      "cell_type": "code",
      "source": [
        "from sklearn.neighbors import KNeighborsClassifier\n",
        "\n",
        "kn_cfr = KNeighborsClassifier()\n",
        "kn_cfr.fit(X_train, y_train)\n",
        "\n",
        "pred = kn_cfr.predict(X_valid)\n",
        "score_kn = accuracy_score(y_valid, pred)\n",
        "f1_kn = f1_score(y_valid, pred)\n",
        "\n",
        "print(f'KNeighborsClassifier Accuracy : {score_kn*100:.2f}')\n",
        "print(f'KNeighborsClassifier f1 score : {f1_kn*100:.2f}')"
      ],
      "metadata": {
        "colab": {
          "base_uri": "https://localhost:8080/"
        },
        "id": "yIIW_aQfrWZT",
        "outputId": "961609a4-c1f5-4844-ebfb-6101e6ae8f12"
      },
      "execution_count": null,
      "outputs": [
        {
          "output_type": "stream",
          "name": "stdout",
          "text": [
            "KNeighborsClassifier Accuracy : 82.08\n",
            "KNeighborsClassifier f1 score : 51.90\n"
          ]
        }
      ]
    },
    {
      "cell_type": "markdown",
      "source": [
        "# AdaBoostClassifier"
      ],
      "metadata": {
        "id": "CVtRgaPCr8hA"
      }
    },
    {
      "cell_type": "code",
      "source": [
        "from sklearn.ensemble import AdaBoostClassifier\n",
        "\n",
        "ab_cfr = AdaBoostClassifier()\n",
        "ab_cfr.fit(X_train, y_train)\n",
        "\n",
        "pred = ab_cfr.predict(X_valid)\n",
        "score_ab = accuracy_score(y_valid, pred)\n",
        "f1_ab = f1_score(y_valid, pred)\n",
        "\n",
        "print(f'AdaBoostClassifier Accuracy : {score_ab*100:.2f}')\n",
        "print(f'AdaBoostClassifier f1 score : {f1_ab*100:.2f}')"
      ],
      "metadata": {
        "colab": {
          "base_uri": "https://localhost:8080/"
        },
        "id": "sMDLgtUfr8Ch",
        "outputId": "5cce1fdb-e383-4e6f-fe2e-c26fe163c628"
      },
      "execution_count": null,
      "outputs": [
        {
          "output_type": "stream",
          "name": "stdout",
          "text": [
            "AdaBoostClassifier Accuracy : 83.93\n",
            "AdaBoostClassifier f1 score : 52.28\n"
          ]
        }
      ]
    },
    {
      "cell_type": "markdown",
      "source": [
        "# RidgeClassifier"
      ],
      "metadata": {
        "id": "DuwUJjAYsVPQ"
      }
    },
    {
      "cell_type": "code",
      "source": [
        "from sklearn.linear_model import RidgeClassifier\n",
        "\n",
        "rd_cfr = RidgeClassifier(random_state=0,)\n",
        "rd_cfr.fit(X_train, y_train)\n",
        "\n",
        "pred = rd_cfr.predict(X_valid)\n",
        "score_rd = accuracy_score(y_valid, pred)\n",
        "f1_rd = f1_score(y_valid, pred)\n",
        "\n",
        "print(f'RidgeClassifier Accuracy : {score_rd*100:.2f}')\n",
        "print(f'RidgeClassifier f1 score : {f1_rd*100:.2f}')"
      ],
      "metadata": {
        "colab": {
          "base_uri": "https://localhost:8080/"
        },
        "id": "Y7HhCmlysOnG",
        "outputId": "426f4654-fcbb-4be6-c254-37ccb6204d97"
      },
      "execution_count": null,
      "outputs": [
        {
          "output_type": "stream",
          "name": "stdout",
          "text": [
            "RidgeClassifier Accuracy : 83.50\n",
            "RidgeClassifier f1 score : 43.85\n"
          ]
        }
      ]
    },
    {
      "cell_type": "markdown",
      "source": [
        "# BaggingClassifier"
      ],
      "metadata": {
        "id": "lZnhSh3bsmeO"
      }
    },
    {
      "cell_type": "code",
      "source": [
        "from sklearn.ensemble import BaggingClassifier\n",
        "\n",
        "bg_cfr = BaggingClassifier(random_state=0)\n",
        "bg_cfr.fit(X_train, y_train)\n",
        "\n",
        "pred = bg_cfr.predict(X_valid)\n",
        "score_bg = accuracy_score(y_valid, pred)\n",
        "f1_bg = f1_score(y_valid, pred)\n",
        "\n",
        "print(f'BaggingClassifier Accuracy : {score_bg*100:.2f}')\n",
        "print(f'BaggingClassifier f1 score : {f1_bg*100:.2f}')"
      ],
      "metadata": {
        "colab": {
          "base_uri": "https://localhost:8080/"
        },
        "id": "YDcJMglCsi6h",
        "outputId": "cd6d19bd-2946-45db-8950-c1ef78a643dd"
      },
      "execution_count": null,
      "outputs": [
        {
          "output_type": "stream",
          "name": "stdout",
          "text": [
            "BaggingClassifier Accuracy : 81.89\n",
            "BaggingClassifier f1 score : 50.91\n"
          ]
        }
      ]
    },
    {
      "cell_type": "markdown",
      "source": [
        "# ExtraTreesClassifier"
      ],
      "metadata": {
        "id": "Q33ltMMYsm4i"
      }
    },
    {
      "cell_type": "code",
      "source": [
        "from sklearn.ensemble import ExtraTreesClassifier\n",
        "\n",
        "et_cfr = ExtraTreesClassifier(random_state=0)\n",
        "et_cfr.fit(X_train, y_train)\n",
        "\n",
        "pred = et_cfr.predict(X_valid)\n",
        "score_et = accuracy_score(y_valid, pred)\n",
        "f1_et = f1_score(y_valid, pred)\n",
        "\n",
        "print(f'ExtraTreesClassifier Accuracy : {score_et*100:.2f}')\n",
        "print(f'ExtraTreesClassifier f1 score : {f1_et*100:.2f}')"
      ],
      "metadata": {
        "colab": {
          "base_uri": "https://localhost:8080/"
        },
        "id": "l8bXDZHnsyb2",
        "outputId": "daac520f-2b17-4815-8cda-64d7e56c478f"
      },
      "execution_count": null,
      "outputs": [
        {
          "output_type": "stream",
          "name": "stdout",
          "text": [
            "ExtraTreesClassifier Accuracy : 82.24\n",
            "ExtraTreesClassifier f1 score : 51.81\n"
          ]
        }
      ]
    },
    {
      "cell_type": "markdown",
      "source": [
        "# 모델 별 정확도"
      ],
      "metadata": {
        "id": "3JDBmhAR0npU"
      }
    },
    {
      "cell_type": "code",
      "source": [
        "model_lst = [model_lgr, xgb_cfr, dt_cfr, rf_cfr, svm_cfr, gbr_cfr, lgb_cfr, kn_cfr, ab_cfr, rd_cfr, bg_cfr, et_cfr]\n",
        "\n",
        "for model in model_lst:\n",
        "    model.fit(X_train, y_train)\n",
        "    pred = model.predict(X_valid)\n",
        "    class_name = model.__class__.__name__\n",
        "    print(f'{class_name} 정확도 : {(accuracy_score(y_valid, pred))*100:.2f}%')\n",
        "    print(f'{class_name} f1 score : {(f1_score(y_valid, pred))*100:.2f}%')\n",
        "    print('-------------------------------------------------------------------')"
      ],
      "metadata": {
        "colab": {
          "base_uri": "https://localhost:8080/"
        },
        "id": "pH63M6kMBJWy",
        "outputId": "c21f0aae-7fd6-4cfb-b132-5191d06f1d8a"
      },
      "execution_count": null,
      "outputs": [
        {
          "output_type": "stream",
          "name": "stdout",
          "text": [
            "LogisticRegression 정확도 : 84.01%\n",
            "LogisticRegression f1 score : 52.06%\n",
            "-------------------------------------------------------------------\n",
            "XGBClassifier 정확도 : 85.19%\n",
            "XGBClassifier f1 score : 55.59%\n",
            "-------------------------------------------------------------------\n",
            "DecisionTreeClassifier 정확도 : 79.49%\n",
            "DecisionTreeClassifier f1 score : 48.11%\n",
            "-------------------------------------------------------------------\n",
            "RandomForestClassifier 정확도 : 82.71%\n",
            "RandomForestClassifier f1 score : 52.89%\n",
            "-------------------------------------------------------------------\n",
            "SVC 정확도 : 82.99%\n",
            "SVC f1 score : 45.53%\n",
            "-------------------------------------------------------------------\n",
            "GradientBoostingClassifier 정확도 : 84.83%\n",
            "GradientBoostingClassifier f1 score : 55.22%\n",
            "-------------------------------------------------------------------\n",
            "LGBMClassifier 정확도 : 82.48%\n",
            "LGBMClassifier f1 score : 53.54%\n",
            "-------------------------------------------------------------------\n",
            "KNeighborsClassifier 정확도 : 82.08%\n",
            "KNeighborsClassifier f1 score : 51.90%\n",
            "-------------------------------------------------------------------\n",
            "AdaBoostClassifier 정확도 : 83.93%\n",
            "AdaBoostClassifier f1 score : 52.28%\n",
            "-------------------------------------------------------------------\n",
            "RidgeClassifier 정확도 : 83.50%\n",
            "RidgeClassifier f1 score : 43.85%\n",
            "-------------------------------------------------------------------\n",
            "BaggingClassifier 정확도 : 81.89%\n",
            "BaggingClassifier f1 score : 50.91%\n",
            "-------------------------------------------------------------------\n",
            "ExtraTreesClassifier 정확도 : 82.24%\n",
            "ExtraTreesClassifier f1 score : 51.81%\n",
            "-------------------------------------------------------------------\n"
          ]
        }
      ]
    },
    {
      "cell_type": "code",
      "source": [
        "max_dict = {'model_lgr' : score_lgr, \n",
        "            'XGBoost' : score_xgb, \n",
        "            'DecisionTree' : score_dt, \n",
        "            'RandomForest' : score_rf, \n",
        "            'SVC' : score_svc, \n",
        "            'GradientBoosting' : score_gbr, \n",
        "            'LGBM' : score_lgb,\n",
        "            'KNeighbor' : score_kn,\n",
        "            'AdaBoost' : score_ab,\n",
        "            'Ridge' : score_rd,\n",
        "            'Bagging' : score_bg,\n",
        "            'ExtraTree' : score_et}\n",
        "max_model = max(max_dict, key=max_dict.get)\n",
        "max_lst = [score_lgr, score_xgb, score_dt, score_rf, score_svc, score_gbr, score_lgb, score_kn, score_ab, score_rd, score_bg, score_et]\n",
        "max_f1 = [f1_lgr, f1_xgb, f1_dt, f1_rf, f1_svc, f1_gbr, f1_lgb, f1_kn, f1_ab, f1_rd, f1_bg, f1_et]\n",
        "\n",
        "\n",
        "\n",
        "print('--------------------------------------------------------------------------------')\n",
        "print(f'가장 정확도가 높은 모델은 {max_model}이고, 정확도는 {max(max_lst)*100:.2f}, f1 score는 {max(max_f1)*100:.2f}입니다.')\n",
        "print('--------------------------------------------------------------------------------')"
      ],
      "metadata": {
        "colab": {
          "base_uri": "https://localhost:8080/"
        },
        "id": "nrJqVVAp-bBi",
        "outputId": "43f3f463-754d-4760-e72b-39bbe9f445e5"
      },
      "execution_count": null,
      "outputs": [
        {
          "output_type": "stream",
          "name": "stdout",
          "text": [
            "--------------------------------------------------------------------------------\n",
            "가장 정확도가 높은 모델은 XGBoost이고, 정확도는 85.19, f1 score는 55.59입니다.\n",
            "--------------------------------------------------------------------------------\n"
          ]
        }
      ]
    },
    {
      "cell_type": "markdown",
      "source": [
        "- 정확도 상관없이 모든 모델을 Voting에 넣으면 오히려 정확도가 떨어지는 양상 확인\n",
        "- 정확도 상위권 5개만을 voting\n",
        "- voting 기법 (Hard / Soft / Weights) 중 정확도가 높은 모델에 더 높은 가중치를 부여하는 기법이 가장 정확도가 높음"
      ],
      "metadata": {
        "id": "xoyx4rUEzTbF"
      }
    },
    {
      "cell_type": "markdown",
      "source": [
        "# GridSearchCV / RandomSearchCV"
      ],
      "metadata": {
        "id": "1qmsOymJXJjv"
      }
    },
    {
      "cell_type": "code",
      "source": [
        "from sklearn.model_selection import GridSearchCV\n",
        "\n",
        "          # 결정 트리의 개수를 지정. 적절한 개수 설정이 중요\n",
        "params = { 'n_estimators' : [80, 90, 100, 110, 120],\n",
        "          # 트리의 깊이. 랜덤 포레스트 트리의 루트 노드와 리프 노드 사이 가장 긴 경로 설정\n",
        "          # 모든 트리가 성장할 수 있는 깊이를 제한\n",
        "           'max_depth' : [3, 4, 5, 6, 7, 8, 9, 10],\n",
        "          # 최상의 분할을 찾을 때 고려해야 할 기능의 수\n",
        "           'learning_rate' : [0.01, 0.1],\n",
        "          # 자식에 필요한 인스턴스 가중치(hessian)의 최소 합계\n",
        "           'min_child_weight' : [1, 2, 3, 4]\n",
        "            }\n",
        "\n",
        "\n",
        "xgb_cfr = XGBClassifier(random_state=0,\n",
        "                        n_jobs=-1)\n",
        "grid_cv = GridSearchCV(xgb_cfr, \n",
        "                       param_grid = params, \n",
        "                       cv = 5, \n",
        "                       n_jobs = -1,\n",
        "                       verbose=3)\n",
        "grid_cv.fit(X_train, y_train)\n",
        "\n",
        "print(f'최적 하이퍼 파라미터: {grid_cv.best_params_}')\n",
        "print(f'최고 예측 정확도: {(grid_cv.best_score_)*100:.4f}')"
      ],
      "metadata": {
        "colab": {
          "base_uri": "https://localhost:8080/"
        },
        "id": "Mf_J_eqqCBpF",
        "outputId": "8c394840-6e39-4221-d333-c55be680b5ec"
      },
      "execution_count": null,
      "outputs": [
        {
          "output_type": "stream",
          "name": "stdout",
          "text": [
            "Fitting 5 folds for each of 320 candidates, totalling 1600 fits\n",
            "최적 하이퍼 파라미터: {'learning_rate': 0.1, 'max_depth': 4, 'min_child_weight': 3, 'n_estimators': 80}\n",
            "최고 예측 정확도: 84.9548\n"
          ]
        }
      ]
    },
    {
      "cell_type": "code",
      "source": [
        "from sklearn.model_selection import RandomizedSearchCV\n",
        "from scipy.stats import randint\n",
        "\n",
        "param_distribs = {\n",
        "    'n_estimators' : randint(low=1, high=200),\n",
        "    'max_depth' : randint(low=3, high=100),\n",
        "    'min_child_weight' : randint(low=1, high=100),\n",
        "    # 'learning_rate' : randint(low=0.01, high=0.1),\n",
        "}\n",
        "\n",
        "xgb_cfr = XGBClassifier(random_state=0,\n",
        "                        n_jobs=-1)\n",
        "rand_cv = RandomizedSearchCV(xgb_cfr, \n",
        "                            param_distributions=param_distribs,\n",
        "                            cv = 5, \n",
        "                            n_jobs = -1,\n",
        "                            verbose=3)\n",
        "rand_cv.fit(X_train, y_train)\n",
        "\n",
        "print(f'최적 하이퍼 파라미터: {rand_cv.best_params_}')\n",
        "print(f'최고 예측 정확도: {(rand_cv.best_score_)*100:.4f}')"
      ],
      "metadata": {
        "colab": {
          "base_uri": "https://localhost:8080/"
        },
        "id": "oh3A5FmLXIGz",
        "outputId": "9e5bb156-eb78-4eb6-f6f0-9ae6fdd76118"
      },
      "execution_count": null,
      "outputs": [
        {
          "output_type": "stream",
          "name": "stdout",
          "text": [
            "Fitting 5 folds for each of 10 candidates, totalling 50 fits\n",
            "최적 하이퍼 파라미터: {'max_depth': 4, 'min_child_weight': 80, 'n_estimators': 101}\n",
            "최고 예측 정확도: 84.8467\n"
          ]
        }
      ]
    },
    {
      "cell_type": "markdown",
      "source": [
        "# Voting (Soft / Hard / Weights)"
      ],
      "metadata": {
        "id": "xCb8lY3aTyzX"
      }
    },
    {
      "cell_type": "code",
      "source": [
        "from sklearn.ensemble import VotingClassifier\n",
        "\n",
        "vo_cfr_soft = VotingClassifier(estimators = [\n",
        "                                            #  ('LR', model_lgr), \n",
        "                                            ('XGB', xgb_cfr), \n",
        "                                            # ('DT', dt_cfr),\n",
        "                                            # ('RF', rf_cfr),\n",
        "                                            # ('SVC', svm_cfr),\n",
        "                                            ('GBR', gbr_cfr),],\n",
        "                                            # ('LGBM', lgb_cfr),\n",
        "                                            # ('KN', kn_cfr),\n",
        "                                            # ('AB', ab_cfr),],\n",
        "                                            # ('RD', rd_cfr),\n",
        "                                            # ('BG', bg_cfr),\n",
        "                                            # ('ET', et_cfr)],\n",
        "                                            voting='soft')\n",
        "vo_cfr_soft.fit(X_train, y_train)\n",
        "pred = vo_cfr_soft.predict(X_valid)\n",
        "print(f'SoftVoting 정확도 : {(accuracy_score(y_valid, pred))*100:.2f}%')\n",
        "print(f'SoftVoting f1_score : {(f1_score(y_valid, pred))*100:.2f}%')"
      ],
      "metadata": {
        "colab": {
          "base_uri": "https://localhost:8080/"
        },
        "id": "TWaevMfhQXUv",
        "outputId": "9a734571-2ff3-487c-f3f2-edf0f2332cab"
      },
      "execution_count": null,
      "outputs": [
        {
          "output_type": "stream",
          "name": "stdout",
          "text": [
            "SoftVoting 정확도 : 85.03%\n",
            "SoftVoting f1_score : 55.44%\n"
          ]
        }
      ]
    },
    {
      "cell_type": "code",
      "source": [
        "from sklearn.ensemble import VotingClassifier\n",
        "\n",
        "vo_cfr_hard = VotingClassifier(estimators = [('LR', model_lgr), \n",
        "                                            ('XGB', xgb_cfr), \n",
        "                                            # ('DT', dt_cfr),\n",
        "                                            # ('RF', rf_cfr),\n",
        "                                            # ('SVC', svm_cfr),\n",
        "                                            ('GBR', gbr_cfr),],\n",
        "                                            # ('LGBM', lgb_cfr),\n",
        "                                            # ('KN', kn_cfr),\n",
        "                                            # ('AB', ab_cfr),\n",
        "                                            # ('RD', rd_cfr),\n",
        "                                            # ('BG', bg_cfr),\n",
        "                                            # ('ET', et_cfr)],\n",
        "                                        voting='hard')\n",
        "vo_cfr_hard.fit(X_train, y_train)\n",
        "pred = vo_cfr_hard.predict(X_valid)\n",
        "print(f'HardVoting 정확도 : {(accuracy_score(y_valid, pred))*100:.2f}%')\n",
        "print(f'HardVoting f1_score : {(f1_score(y_valid, pred))*100:.2f}%')"
      ],
      "metadata": {
        "colab": {
          "base_uri": "https://localhost:8080/"
        },
        "id": "JmiVXhcNT2mF",
        "outputId": "abd5a8f4-4d5f-47ce-cccb-da4315d3938d"
      },
      "execution_count": null,
      "outputs": [
        {
          "output_type": "stream",
          "name": "stdout",
          "text": [
            "HardVoting 정확도 : 84.95%\n",
            "HardVoting f1_score : 55.31%\n"
          ]
        }
      ]
    },
    {
      "cell_type": "code",
      "source": [
        "from sklearn.ensemble import VotingClassifier\n",
        "\n",
        "vo_cfr_wgt = VotingClassifier(estimators = [('LR', model_lgr), \n",
        "                                            ('XGB', xgb_cfr), \n",
        "                                            # ('DT', dt_cfr),\n",
        "                                            # ('RF', rf_cfr),\n",
        "                                            # ('SVC', svm_cfr),\n",
        "                                            ('GBR', gbr_cfr),],\n",
        "                                            # ('LGBM', lgb_cfr),\n",
        "                                            # ('KN', kn_cfr),\n",
        "                                            # ('AB', ab_cfr),],\n",
        "                                            # ('RD', rd_cfr),\n",
        "                                            # ('BG', bg_cfr),\n",
        "                                            # ('ET', et_cfr)],\n",
        "                                            voting='soft',\n",
        "                                            weights=[1, 20, 10])\n",
        "\n",
        "vo_cfr_wgt.fit(X_train, y_train)\n",
        "pred = vo_cfr_wgt.predict(X_valid)\n",
        "print(f'SoftVoting wgt 정확도 : {(accuracy_score(y_valid, pred))*100:.2f}%')\n",
        "print(f'SoftVoting wgt f1_score : {(f1_score(y_valid, pred))*100:.2f}%')"
      ],
      "metadata": {
        "colab": {
          "base_uri": "https://localhost:8080/"
        },
        "id": "ke29WJFjobAS",
        "outputId": "a3532043-baba-40a4-e55c-9cf21fd9a5eb"
      },
      "execution_count": null,
      "outputs": [
        {
          "output_type": "stream",
          "name": "stdout",
          "text": [
            "SoftVoting wgt 정확도 : 84.95%\n",
            "SoftVoting wgt f1_score : 54.99%\n"
          ]
        }
      ]
    },
    {
      "cell_type": "markdown",
      "source": [
        "- Random state 지정에 따라 점수 순위가 조금씩 변동이 있음\n",
        "- Random state = 0 으로 지정 시 결과\n",
        "    - Soft Voting(85.38%)의 결과가 가장 높게 나옴\n",
        "    - 가중치 부여 방법이 가장 잘 나올 것으로 예상했는데, 약간 예상과는 다른 순\n",
        "    - Soft > Weights > Hard"
      ],
      "metadata": {
        "id": "hsosLinKWCro"
      }
    },
    {
      "cell_type": "code",
      "source": [
        "# for clf, label in zip([clf1, clf2, clf3, eclf], ['Logistic Regression', 'Random Forest', 'naive Bayes', 'Ensemble']):\n",
        "#     scores = cross_val_score(clf, X, y, scoring='accuracy', cv=5)\n",
        "#     print(\"Accuracy: %0.2f (+/- %0.2f) [%s]\" % (scores.mean(), scores.std(), label))"
      ],
      "metadata": {
        "id": "pn0u-d-_bYAR"
      },
      "execution_count": null,
      "outputs": []
    },
    {
      "cell_type": "markdown",
      "source": [
        "## Test 데이터에도 적용"
      ],
      "metadata": {
        "id": "TVOP9amdgl8j"
      }
    },
    {
      "cell_type": "markdown",
      "metadata": {
        "id": "3M1XC2_fiy1O"
      },
      "source": [
        "- Test 데이터도 컬럼 drop과 원핫 인코딩을 함께 진행해줍니다"
      ]
    },
    {
      "cell_type": "code",
      "source": [
        "test.info()"
      ],
      "metadata": {
        "colab": {
          "base_uri": "https://localhost:8080/"
        },
        "id": "hfgkPlRZ1bjJ",
        "outputId": "685be66a-e362-4f91-d2a1-48dc6782500c"
      },
      "execution_count": null,
      "outputs": [
        {
          "output_type": "stream",
          "name": "stdout",
          "text": [
            "<class 'pandas.core.frame.DataFrame'>\n",
            "RangeIndex: 15081 entries, 0 to 15080\n",
            "Data columns (total 15 columns):\n",
            " #   Column          Non-Null Count  Dtype \n",
            "---  ------          --------------  ----- \n",
            " 0   id              15081 non-null  int64 \n",
            " 1   age             15081 non-null  int64 \n",
            " 2   workclass       15081 non-null  object\n",
            " 3   fnlwgt          15081 non-null  int64 \n",
            " 4   education       15081 non-null  object\n",
            " 5   education.num   15081 non-null  int64 \n",
            " 6   marital.status  15081 non-null  object\n",
            " 7   occupation      15081 non-null  object\n",
            " 8   relationship    15081 non-null  object\n",
            " 9   race            15081 non-null  object\n",
            " 10  sex             15081 non-null  object\n",
            " 11  capital.gain    15081 non-null  int64 \n",
            " 12  capital.loss    15081 non-null  int64 \n",
            " 13  hours.per.week  15081 non-null  int64 \n",
            " 14  native.country  15081 non-null  object\n",
            "dtypes: int64(7), object(8)\n",
            "memory usage: 1.7+ MB\n"
          ]
        }
      ]
    },
    {
      "cell_type": "code",
      "source": [
        "test = preprocessing_test(test)"
      ],
      "metadata": {
        "colab": {
          "base_uri": "https://localhost:8080/",
          "height": 540
        },
        "id": "knJkPjPY1dNH",
        "outputId": "18027e62-0ed3-4f97-d26c-c1131744f6fc"
      },
      "execution_count": null,
      "outputs": [
        {
          "output_type": "execute_result",
          "data": {
            "text/plain": [
              "       age     workclass     education  education.num marital.status  \\\n",
              "0       47       Private    Jr_college             10      Not-alone   \n",
              "1       34  Self-emp-inc    Jr_college             10          Alone   \n",
              "2       31     Local-gov  Over_college             13          Alone   \n",
              "3       28       Private  Over_college             13      Not-alone   \n",
              "4       54     Local-gov    Jr_college             10          Alone   \n",
              "...    ...           ...           ...            ...            ...   \n",
              "15076   30     Local-gov    Jr_college             10      Not-alone   \n",
              "15077   39       Private  Over_college             13      Not-alone   \n",
              "15078   48       Private      Under_HS              7          Alone   \n",
              "15079   44       Private       HS-grad              9      Not-alone   \n",
              "15080   30       Private       HS-grad              9          Alone   \n",
              "\n",
              "      occupation relationship                race     sex  hours.per.week  \\\n",
              "0        ter_ind      Married               White    Male              45   \n",
              "1        sec_ind  Not married               White    Male              75   \n",
              "2        sec_ind  Not married               White    Male              40   \n",
              "3        ter_ind      Married               White    Male              55   \n",
              "4        Pri_ind  Not married               White  Female              40   \n",
              "...          ...          ...                 ...     ...             ...   \n",
              "15076    sec_ind      Married               White    Male              40   \n",
              "15077    sec_ind      Married               White    Male              40   \n",
              "15078    Pri_ind  Not married               White    Male              40   \n",
              "15079    Pri_ind      Married  Amer-Indian-Eskimo    Male              40   \n",
              "15080    sec_ind  Not married               Black    Male              46   \n",
              "\n",
              "       net_cap  \n",
              "0            0  \n",
              "1            0  \n",
              "2         8614  \n",
              "3            0  \n",
              "4            0  \n",
              "...        ...  \n",
              "15076    15024  \n",
              "15077        0  \n",
              "15078        0  \n",
              "15079        0  \n",
              "15080        0  \n",
              "\n",
              "[15081 rows x 11 columns]"
            ],
            "text/html": [
              "\n",
              "  <div id=\"df-2f80ada8-7583-4996-99e0-bfede9c5b6ac\">\n",
              "    <div class=\"colab-df-container\">\n",
              "      <div>\n",
              "<style scoped>\n",
              "    .dataframe tbody tr th:only-of-type {\n",
              "        vertical-align: middle;\n",
              "    }\n",
              "\n",
              "    .dataframe tbody tr th {\n",
              "        vertical-align: top;\n",
              "    }\n",
              "\n",
              "    .dataframe thead th {\n",
              "        text-align: right;\n",
              "    }\n",
              "</style>\n",
              "<table border=\"1\" class=\"dataframe\">\n",
              "  <thead>\n",
              "    <tr style=\"text-align: right;\">\n",
              "      <th></th>\n",
              "      <th>age</th>\n",
              "      <th>workclass</th>\n",
              "      <th>education</th>\n",
              "      <th>education.num</th>\n",
              "      <th>marital.status</th>\n",
              "      <th>occupation</th>\n",
              "      <th>relationship</th>\n",
              "      <th>race</th>\n",
              "      <th>sex</th>\n",
              "      <th>hours.per.week</th>\n",
              "      <th>net_cap</th>\n",
              "    </tr>\n",
              "  </thead>\n",
              "  <tbody>\n",
              "    <tr>\n",
              "      <th>0</th>\n",
              "      <td>47</td>\n",
              "      <td>Private</td>\n",
              "      <td>Jr_college</td>\n",
              "      <td>10</td>\n",
              "      <td>Not-alone</td>\n",
              "      <td>ter_ind</td>\n",
              "      <td>Married</td>\n",
              "      <td>White</td>\n",
              "      <td>Male</td>\n",
              "      <td>45</td>\n",
              "      <td>0</td>\n",
              "    </tr>\n",
              "    <tr>\n",
              "      <th>1</th>\n",
              "      <td>34</td>\n",
              "      <td>Self-emp-inc</td>\n",
              "      <td>Jr_college</td>\n",
              "      <td>10</td>\n",
              "      <td>Alone</td>\n",
              "      <td>sec_ind</td>\n",
              "      <td>Not married</td>\n",
              "      <td>White</td>\n",
              "      <td>Male</td>\n",
              "      <td>75</td>\n",
              "      <td>0</td>\n",
              "    </tr>\n",
              "    <tr>\n",
              "      <th>2</th>\n",
              "      <td>31</td>\n",
              "      <td>Local-gov</td>\n",
              "      <td>Over_college</td>\n",
              "      <td>13</td>\n",
              "      <td>Alone</td>\n",
              "      <td>sec_ind</td>\n",
              "      <td>Not married</td>\n",
              "      <td>White</td>\n",
              "      <td>Male</td>\n",
              "      <td>40</td>\n",
              "      <td>8614</td>\n",
              "    </tr>\n",
              "    <tr>\n",
              "      <th>3</th>\n",
              "      <td>28</td>\n",
              "      <td>Private</td>\n",
              "      <td>Over_college</td>\n",
              "      <td>13</td>\n",
              "      <td>Not-alone</td>\n",
              "      <td>ter_ind</td>\n",
              "      <td>Married</td>\n",
              "      <td>White</td>\n",
              "      <td>Male</td>\n",
              "      <td>55</td>\n",
              "      <td>0</td>\n",
              "    </tr>\n",
              "    <tr>\n",
              "      <th>4</th>\n",
              "      <td>54</td>\n",
              "      <td>Local-gov</td>\n",
              "      <td>Jr_college</td>\n",
              "      <td>10</td>\n",
              "      <td>Alone</td>\n",
              "      <td>Pri_ind</td>\n",
              "      <td>Not married</td>\n",
              "      <td>White</td>\n",
              "      <td>Female</td>\n",
              "      <td>40</td>\n",
              "      <td>0</td>\n",
              "    </tr>\n",
              "    <tr>\n",
              "      <th>...</th>\n",
              "      <td>...</td>\n",
              "      <td>...</td>\n",
              "      <td>...</td>\n",
              "      <td>...</td>\n",
              "      <td>...</td>\n",
              "      <td>...</td>\n",
              "      <td>...</td>\n",
              "      <td>...</td>\n",
              "      <td>...</td>\n",
              "      <td>...</td>\n",
              "      <td>...</td>\n",
              "    </tr>\n",
              "    <tr>\n",
              "      <th>15076</th>\n",
              "      <td>30</td>\n",
              "      <td>Local-gov</td>\n",
              "      <td>Jr_college</td>\n",
              "      <td>10</td>\n",
              "      <td>Not-alone</td>\n",
              "      <td>sec_ind</td>\n",
              "      <td>Married</td>\n",
              "      <td>White</td>\n",
              "      <td>Male</td>\n",
              "      <td>40</td>\n",
              "      <td>15024</td>\n",
              "    </tr>\n",
              "    <tr>\n",
              "      <th>15077</th>\n",
              "      <td>39</td>\n",
              "      <td>Private</td>\n",
              "      <td>Over_college</td>\n",
              "      <td>13</td>\n",
              "      <td>Not-alone</td>\n",
              "      <td>sec_ind</td>\n",
              "      <td>Married</td>\n",
              "      <td>White</td>\n",
              "      <td>Male</td>\n",
              "      <td>40</td>\n",
              "      <td>0</td>\n",
              "    </tr>\n",
              "    <tr>\n",
              "      <th>15078</th>\n",
              "      <td>48</td>\n",
              "      <td>Private</td>\n",
              "      <td>Under_HS</td>\n",
              "      <td>7</td>\n",
              "      <td>Alone</td>\n",
              "      <td>Pri_ind</td>\n",
              "      <td>Not married</td>\n",
              "      <td>White</td>\n",
              "      <td>Male</td>\n",
              "      <td>40</td>\n",
              "      <td>0</td>\n",
              "    </tr>\n",
              "    <tr>\n",
              "      <th>15079</th>\n",
              "      <td>44</td>\n",
              "      <td>Private</td>\n",
              "      <td>HS-grad</td>\n",
              "      <td>9</td>\n",
              "      <td>Not-alone</td>\n",
              "      <td>Pri_ind</td>\n",
              "      <td>Married</td>\n",
              "      <td>Amer-Indian-Eskimo</td>\n",
              "      <td>Male</td>\n",
              "      <td>40</td>\n",
              "      <td>0</td>\n",
              "    </tr>\n",
              "    <tr>\n",
              "      <th>15080</th>\n",
              "      <td>30</td>\n",
              "      <td>Private</td>\n",
              "      <td>HS-grad</td>\n",
              "      <td>9</td>\n",
              "      <td>Alone</td>\n",
              "      <td>sec_ind</td>\n",
              "      <td>Not married</td>\n",
              "      <td>Black</td>\n",
              "      <td>Male</td>\n",
              "      <td>46</td>\n",
              "      <td>0</td>\n",
              "    </tr>\n",
              "  </tbody>\n",
              "</table>\n",
              "<p>15081 rows × 11 columns</p>\n",
              "</div>\n",
              "      <button class=\"colab-df-convert\" onclick=\"convertToInteractive('df-2f80ada8-7583-4996-99e0-bfede9c5b6ac')\"\n",
              "              title=\"Convert this dataframe to an interactive table.\"\n",
              "              style=\"display:none;\">\n",
              "        \n",
              "  <svg xmlns=\"http://www.w3.org/2000/svg\" height=\"24px\"viewBox=\"0 0 24 24\"\n",
              "       width=\"24px\">\n",
              "    <path d=\"M0 0h24v24H0V0z\" fill=\"none\"/>\n",
              "    <path d=\"M18.56 5.44l.94 2.06.94-2.06 2.06-.94-2.06-.94-.94-2.06-.94 2.06-2.06.94zm-11 1L8.5 8.5l.94-2.06 2.06-.94-2.06-.94L8.5 2.5l-.94 2.06-2.06.94zm10 10l.94 2.06.94-2.06 2.06-.94-2.06-.94-.94-2.06-.94 2.06-2.06.94z\"/><path d=\"M17.41 7.96l-1.37-1.37c-.4-.4-.92-.59-1.43-.59-.52 0-1.04.2-1.43.59L10.3 9.45l-7.72 7.72c-.78.78-.78 2.05 0 2.83L4 21.41c.39.39.9.59 1.41.59.51 0 1.02-.2 1.41-.59l7.78-7.78 2.81-2.81c.8-.78.8-2.07 0-2.86zM5.41 20L4 18.59l7.72-7.72 1.47 1.35L5.41 20z\"/>\n",
              "  </svg>\n",
              "      </button>\n",
              "      \n",
              "  <style>\n",
              "    .colab-df-container {\n",
              "      display:flex;\n",
              "      flex-wrap:wrap;\n",
              "      gap: 12px;\n",
              "    }\n",
              "\n",
              "    .colab-df-convert {\n",
              "      background-color: #E8F0FE;\n",
              "      border: none;\n",
              "      border-radius: 50%;\n",
              "      cursor: pointer;\n",
              "      display: none;\n",
              "      fill: #1967D2;\n",
              "      height: 32px;\n",
              "      padding: 0 0 0 0;\n",
              "      width: 32px;\n",
              "    }\n",
              "\n",
              "    .colab-df-convert:hover {\n",
              "      background-color: #E2EBFA;\n",
              "      box-shadow: 0px 1px 2px rgba(60, 64, 67, 0.3), 0px 1px 3px 1px rgba(60, 64, 67, 0.15);\n",
              "      fill: #174EA6;\n",
              "    }\n",
              "\n",
              "    [theme=dark] .colab-df-convert {\n",
              "      background-color: #3B4455;\n",
              "      fill: #D2E3FC;\n",
              "    }\n",
              "\n",
              "    [theme=dark] .colab-df-convert:hover {\n",
              "      background-color: #434B5C;\n",
              "      box-shadow: 0px 1px 3px 1px rgba(0, 0, 0, 0.15);\n",
              "      filter: drop-shadow(0px 1px 2px rgba(0, 0, 0, 0.3));\n",
              "      fill: #FFFFFF;\n",
              "    }\n",
              "  </style>\n",
              "\n",
              "      <script>\n",
              "        const buttonEl =\n",
              "          document.querySelector('#df-2f80ada8-7583-4996-99e0-bfede9c5b6ac button.colab-df-convert');\n",
              "        buttonEl.style.display =\n",
              "          google.colab.kernel.accessAllowed ? 'block' : 'none';\n",
              "\n",
              "        async function convertToInteractive(key) {\n",
              "          const element = document.querySelector('#df-2f80ada8-7583-4996-99e0-bfede9c5b6ac');\n",
              "          const dataTable =\n",
              "            await google.colab.kernel.invokeFunction('convertToInteractive',\n",
              "                                                     [key], {});\n",
              "          if (!dataTable) return;\n",
              "\n",
              "          const docLinkHtml = 'Like what you see? Visit the ' +\n",
              "            '<a target=\"_blank\" href=https://colab.research.google.com/notebooks/data_table.ipynb>data table notebook</a>'\n",
              "            + ' to learn more about interactive tables.';\n",
              "          element.innerHTML = '';\n",
              "          dataTable['output_type'] = 'display_data';\n",
              "          await google.colab.output.renderOutput(dataTable, element);\n",
              "          const docLink = document.createElement('div');\n",
              "          docLink.innerHTML = docLinkHtml;\n",
              "          element.appendChild(docLink);\n",
              "        }\n",
              "      </script>\n",
              "    </div>\n",
              "  </div>\n",
              "  "
            ]
          },
          "metadata": {},
          "execution_count": 242
        }
      ]
    },
    {
      "cell_type": "code",
      "source": [
        "test"
      ],
      "metadata": {
        "colab": {
          "base_uri": "https://localhost:8080/",
          "height": 540
        },
        "id": "BcKy0DrsX9LR",
        "outputId": "1179411b-b5b7-4f0c-f543-7a36f752e32d"
      },
      "execution_count": null,
      "outputs": [
        {
          "output_type": "execute_result",
          "data": {
            "text/plain": [
              "       age     workclass     education  education.num marital.status  \\\n",
              "0       47       Private    Jr_college             10      Not-alone   \n",
              "1       34  Self-emp-inc    Jr_college             10          Alone   \n",
              "2       31     Local-gov  Over_college             13          Alone   \n",
              "3       28       Private  Over_college             13      Not-alone   \n",
              "4       54     Local-gov    Jr_college             10          Alone   \n",
              "...    ...           ...           ...            ...            ...   \n",
              "15076   30     Local-gov    Jr_college             10      Not-alone   \n",
              "15077   39       Private  Over_college             13      Not-alone   \n",
              "15078   48       Private      Under_HS              7          Alone   \n",
              "15079   44       Private       HS-grad              9      Not-alone   \n",
              "15080   30       Private       HS-grad              9          Alone   \n",
              "\n",
              "      occupation relationship                race     sex  hours.per.week  \\\n",
              "0        ter_ind      Married               White    Male              45   \n",
              "1        sec_ind  Not married               White    Male              75   \n",
              "2        sec_ind  Not married               White    Male              40   \n",
              "3        ter_ind      Married               White    Male              55   \n",
              "4        Pri_ind  Not married               White  Female              40   \n",
              "...          ...          ...                 ...     ...             ...   \n",
              "15076    sec_ind      Married               White    Male              40   \n",
              "15077    sec_ind      Married               White    Male              40   \n",
              "15078    Pri_ind  Not married               White    Male              40   \n",
              "15079    Pri_ind      Married  Amer-Indian-Eskimo    Male              40   \n",
              "15080    sec_ind  Not married               Black    Male              46   \n",
              "\n",
              "       net_cap  \n",
              "0            0  \n",
              "1            0  \n",
              "2         8614  \n",
              "3            0  \n",
              "4            0  \n",
              "...        ...  \n",
              "15076    15024  \n",
              "15077        0  \n",
              "15078        0  \n",
              "15079        0  \n",
              "15080        0  \n",
              "\n",
              "[15081 rows x 11 columns]"
            ],
            "text/html": [
              "\n",
              "  <div id=\"df-a230aad6-befe-439c-8972-941ac1d0b927\">\n",
              "    <div class=\"colab-df-container\">\n",
              "      <div>\n",
              "<style scoped>\n",
              "    .dataframe tbody tr th:only-of-type {\n",
              "        vertical-align: middle;\n",
              "    }\n",
              "\n",
              "    .dataframe tbody tr th {\n",
              "        vertical-align: top;\n",
              "    }\n",
              "\n",
              "    .dataframe thead th {\n",
              "        text-align: right;\n",
              "    }\n",
              "</style>\n",
              "<table border=\"1\" class=\"dataframe\">\n",
              "  <thead>\n",
              "    <tr style=\"text-align: right;\">\n",
              "      <th></th>\n",
              "      <th>age</th>\n",
              "      <th>workclass</th>\n",
              "      <th>education</th>\n",
              "      <th>education.num</th>\n",
              "      <th>marital.status</th>\n",
              "      <th>occupation</th>\n",
              "      <th>relationship</th>\n",
              "      <th>race</th>\n",
              "      <th>sex</th>\n",
              "      <th>hours.per.week</th>\n",
              "      <th>net_cap</th>\n",
              "    </tr>\n",
              "  </thead>\n",
              "  <tbody>\n",
              "    <tr>\n",
              "      <th>0</th>\n",
              "      <td>47</td>\n",
              "      <td>Private</td>\n",
              "      <td>Jr_college</td>\n",
              "      <td>10</td>\n",
              "      <td>Not-alone</td>\n",
              "      <td>ter_ind</td>\n",
              "      <td>Married</td>\n",
              "      <td>White</td>\n",
              "      <td>Male</td>\n",
              "      <td>45</td>\n",
              "      <td>0</td>\n",
              "    </tr>\n",
              "    <tr>\n",
              "      <th>1</th>\n",
              "      <td>34</td>\n",
              "      <td>Self-emp-inc</td>\n",
              "      <td>Jr_college</td>\n",
              "      <td>10</td>\n",
              "      <td>Alone</td>\n",
              "      <td>sec_ind</td>\n",
              "      <td>Not married</td>\n",
              "      <td>White</td>\n",
              "      <td>Male</td>\n",
              "      <td>75</td>\n",
              "      <td>0</td>\n",
              "    </tr>\n",
              "    <tr>\n",
              "      <th>2</th>\n",
              "      <td>31</td>\n",
              "      <td>Local-gov</td>\n",
              "      <td>Over_college</td>\n",
              "      <td>13</td>\n",
              "      <td>Alone</td>\n",
              "      <td>sec_ind</td>\n",
              "      <td>Not married</td>\n",
              "      <td>White</td>\n",
              "      <td>Male</td>\n",
              "      <td>40</td>\n",
              "      <td>8614</td>\n",
              "    </tr>\n",
              "    <tr>\n",
              "      <th>3</th>\n",
              "      <td>28</td>\n",
              "      <td>Private</td>\n",
              "      <td>Over_college</td>\n",
              "      <td>13</td>\n",
              "      <td>Not-alone</td>\n",
              "      <td>ter_ind</td>\n",
              "      <td>Married</td>\n",
              "      <td>White</td>\n",
              "      <td>Male</td>\n",
              "      <td>55</td>\n",
              "      <td>0</td>\n",
              "    </tr>\n",
              "    <tr>\n",
              "      <th>4</th>\n",
              "      <td>54</td>\n",
              "      <td>Local-gov</td>\n",
              "      <td>Jr_college</td>\n",
              "      <td>10</td>\n",
              "      <td>Alone</td>\n",
              "      <td>Pri_ind</td>\n",
              "      <td>Not married</td>\n",
              "      <td>White</td>\n",
              "      <td>Female</td>\n",
              "      <td>40</td>\n",
              "      <td>0</td>\n",
              "    </tr>\n",
              "    <tr>\n",
              "      <th>...</th>\n",
              "      <td>...</td>\n",
              "      <td>...</td>\n",
              "      <td>...</td>\n",
              "      <td>...</td>\n",
              "      <td>...</td>\n",
              "      <td>...</td>\n",
              "      <td>...</td>\n",
              "      <td>...</td>\n",
              "      <td>...</td>\n",
              "      <td>...</td>\n",
              "      <td>...</td>\n",
              "    </tr>\n",
              "    <tr>\n",
              "      <th>15076</th>\n",
              "      <td>30</td>\n",
              "      <td>Local-gov</td>\n",
              "      <td>Jr_college</td>\n",
              "      <td>10</td>\n",
              "      <td>Not-alone</td>\n",
              "      <td>sec_ind</td>\n",
              "      <td>Married</td>\n",
              "      <td>White</td>\n",
              "      <td>Male</td>\n",
              "      <td>40</td>\n",
              "      <td>15024</td>\n",
              "    </tr>\n",
              "    <tr>\n",
              "      <th>15077</th>\n",
              "      <td>39</td>\n",
              "      <td>Private</td>\n",
              "      <td>Over_college</td>\n",
              "      <td>13</td>\n",
              "      <td>Not-alone</td>\n",
              "      <td>sec_ind</td>\n",
              "      <td>Married</td>\n",
              "      <td>White</td>\n",
              "      <td>Male</td>\n",
              "      <td>40</td>\n",
              "      <td>0</td>\n",
              "    </tr>\n",
              "    <tr>\n",
              "      <th>15078</th>\n",
              "      <td>48</td>\n",
              "      <td>Private</td>\n",
              "      <td>Under_HS</td>\n",
              "      <td>7</td>\n",
              "      <td>Alone</td>\n",
              "      <td>Pri_ind</td>\n",
              "      <td>Not married</td>\n",
              "      <td>White</td>\n",
              "      <td>Male</td>\n",
              "      <td>40</td>\n",
              "      <td>0</td>\n",
              "    </tr>\n",
              "    <tr>\n",
              "      <th>15079</th>\n",
              "      <td>44</td>\n",
              "      <td>Private</td>\n",
              "      <td>HS-grad</td>\n",
              "      <td>9</td>\n",
              "      <td>Not-alone</td>\n",
              "      <td>Pri_ind</td>\n",
              "      <td>Married</td>\n",
              "      <td>Amer-Indian-Eskimo</td>\n",
              "      <td>Male</td>\n",
              "      <td>40</td>\n",
              "      <td>0</td>\n",
              "    </tr>\n",
              "    <tr>\n",
              "      <th>15080</th>\n",
              "      <td>30</td>\n",
              "      <td>Private</td>\n",
              "      <td>HS-grad</td>\n",
              "      <td>9</td>\n",
              "      <td>Alone</td>\n",
              "      <td>sec_ind</td>\n",
              "      <td>Not married</td>\n",
              "      <td>Black</td>\n",
              "      <td>Male</td>\n",
              "      <td>46</td>\n",
              "      <td>0</td>\n",
              "    </tr>\n",
              "  </tbody>\n",
              "</table>\n",
              "<p>15081 rows × 11 columns</p>\n",
              "</div>\n",
              "      <button class=\"colab-df-convert\" onclick=\"convertToInteractive('df-a230aad6-befe-439c-8972-941ac1d0b927')\"\n",
              "              title=\"Convert this dataframe to an interactive table.\"\n",
              "              style=\"display:none;\">\n",
              "        \n",
              "  <svg xmlns=\"http://www.w3.org/2000/svg\" height=\"24px\"viewBox=\"0 0 24 24\"\n",
              "       width=\"24px\">\n",
              "    <path d=\"M0 0h24v24H0V0z\" fill=\"none\"/>\n",
              "    <path d=\"M18.56 5.44l.94 2.06.94-2.06 2.06-.94-2.06-.94-.94-2.06-.94 2.06-2.06.94zm-11 1L8.5 8.5l.94-2.06 2.06-.94-2.06-.94L8.5 2.5l-.94 2.06-2.06.94zm10 10l.94 2.06.94-2.06 2.06-.94-2.06-.94-.94-2.06-.94 2.06-2.06.94z\"/><path d=\"M17.41 7.96l-1.37-1.37c-.4-.4-.92-.59-1.43-.59-.52 0-1.04.2-1.43.59L10.3 9.45l-7.72 7.72c-.78.78-.78 2.05 0 2.83L4 21.41c.39.39.9.59 1.41.59.51 0 1.02-.2 1.41-.59l7.78-7.78 2.81-2.81c.8-.78.8-2.07 0-2.86zM5.41 20L4 18.59l7.72-7.72 1.47 1.35L5.41 20z\"/>\n",
              "  </svg>\n",
              "      </button>\n",
              "      \n",
              "  <style>\n",
              "    .colab-df-container {\n",
              "      display:flex;\n",
              "      flex-wrap:wrap;\n",
              "      gap: 12px;\n",
              "    }\n",
              "\n",
              "    .colab-df-convert {\n",
              "      background-color: #E8F0FE;\n",
              "      border: none;\n",
              "      border-radius: 50%;\n",
              "      cursor: pointer;\n",
              "      display: none;\n",
              "      fill: #1967D2;\n",
              "      height: 32px;\n",
              "      padding: 0 0 0 0;\n",
              "      width: 32px;\n",
              "    }\n",
              "\n",
              "    .colab-df-convert:hover {\n",
              "      background-color: #E2EBFA;\n",
              "      box-shadow: 0px 1px 2px rgba(60, 64, 67, 0.3), 0px 1px 3px 1px rgba(60, 64, 67, 0.15);\n",
              "      fill: #174EA6;\n",
              "    }\n",
              "\n",
              "    [theme=dark] .colab-df-convert {\n",
              "      background-color: #3B4455;\n",
              "      fill: #D2E3FC;\n",
              "    }\n",
              "\n",
              "    [theme=dark] .colab-df-convert:hover {\n",
              "      background-color: #434B5C;\n",
              "      box-shadow: 0px 1px 3px 1px rgba(0, 0, 0, 0.15);\n",
              "      filter: drop-shadow(0px 1px 2px rgba(0, 0, 0, 0.3));\n",
              "      fill: #FFFFFF;\n",
              "    }\n",
              "  </style>\n",
              "\n",
              "      <script>\n",
              "        const buttonEl =\n",
              "          document.querySelector('#df-a230aad6-befe-439c-8972-941ac1d0b927 button.colab-df-convert');\n",
              "        buttonEl.style.display =\n",
              "          google.colab.kernel.accessAllowed ? 'block' : 'none';\n",
              "\n",
              "        async function convertToInteractive(key) {\n",
              "          const element = document.querySelector('#df-a230aad6-befe-439c-8972-941ac1d0b927');\n",
              "          const dataTable =\n",
              "            await google.colab.kernel.invokeFunction('convertToInteractive',\n",
              "                                                     [key], {});\n",
              "          if (!dataTable) return;\n",
              "\n",
              "          const docLinkHtml = 'Like what you see? Visit the ' +\n",
              "            '<a target=\"_blank\" href=https://colab.research.google.com/notebooks/data_table.ipynb>data table notebook</a>'\n",
              "            + ' to learn more about interactive tables.';\n",
              "          element.innerHTML = '';\n",
              "          dataTable['output_type'] = 'display_data';\n",
              "          await google.colab.output.renderOutput(dataTable, element);\n",
              "          const docLink = document.createElement('div');\n",
              "          docLink.innerHTML = docLinkHtml;\n",
              "          element.appendChild(docLink);\n",
              "        }\n",
              "      </script>\n",
              "    </div>\n",
              "  </div>\n",
              "  "
            ]
          },
          "metadata": {},
          "execution_count": 243
        }
      ]
    },
    {
      "cell_type": "code",
      "execution_count": null,
      "metadata": {
        "colab": {
          "base_uri": "https://localhost:8080/",
          "height": 334
        },
        "id": "Xw4ro61niKi7",
        "outputId": "514db293-a333-40cc-8f6f-6124186a0c78"
      },
      "outputs": [
        {
          "output_type": "execute_result",
          "data": {
            "text/plain": [
              "   age  education.num  hours.per.week  net_cap  workclass_Federal-gov  \\\n",
              "0   47             10              45        0                      0   \n",
              "1   34             10              75        0                      0   \n",
              "2   31             13              40     8614                      0   \n",
              "3   28             13              55        0                      0   \n",
              "4   54             10              40        0                      0   \n",
              "\n",
              "   workclass_Local-gov  workclass_Private  workclass_Self-emp-inc  \\\n",
              "0                    0                  1                       0   \n",
              "1                    0                  0                       1   \n",
              "2                    1                  0                       0   \n",
              "3                    0                  1                       0   \n",
              "4                    1                  0                       0   \n",
              "\n",
              "   workclass_Self-emp-not-inc  workclass_State-gov  ...  occupation_ter_ind  \\\n",
              "0                           0                    0  ...                   1   \n",
              "1                           0                    0  ...                   0   \n",
              "2                           0                    0  ...                   0   \n",
              "3                           0                    0  ...                   1   \n",
              "4                           0                    0  ...                   0   \n",
              "\n",
              "   relationship_Married  relationship_Not married  race_Amer-Indian-Eskimo  \\\n",
              "0                     1                         0                        0   \n",
              "1                     0                         1                        0   \n",
              "2                     0                         1                        0   \n",
              "3                     1                         0                        0   \n",
              "4                     0                         1                        0   \n",
              "\n",
              "   race_Asian-Pac-Islander  race_Black  race_Other  race_White  sex_Female  \\\n",
              "0                        0           0           0           1           0   \n",
              "1                        0           0           0           1           0   \n",
              "2                        0           0           0           1           0   \n",
              "3                        0           0           0           1           0   \n",
              "4                        0           0           0           1           1   \n",
              "\n",
              "   sex_Male  \n",
              "0         1  \n",
              "1         1  \n",
              "2         1  \n",
              "3         1  \n",
              "4         0  \n",
              "\n",
              "[5 rows x 30 columns]"
            ],
            "text/html": [
              "\n",
              "  <div id=\"df-730ac3ad-96e8-4f4d-b401-9434275bb366\">\n",
              "    <div class=\"colab-df-container\">\n",
              "      <div>\n",
              "<style scoped>\n",
              "    .dataframe tbody tr th:only-of-type {\n",
              "        vertical-align: middle;\n",
              "    }\n",
              "\n",
              "    .dataframe tbody tr th {\n",
              "        vertical-align: top;\n",
              "    }\n",
              "\n",
              "    .dataframe thead th {\n",
              "        text-align: right;\n",
              "    }\n",
              "</style>\n",
              "<table border=\"1\" class=\"dataframe\">\n",
              "  <thead>\n",
              "    <tr style=\"text-align: right;\">\n",
              "      <th></th>\n",
              "      <th>age</th>\n",
              "      <th>education.num</th>\n",
              "      <th>hours.per.week</th>\n",
              "      <th>net_cap</th>\n",
              "      <th>workclass_Federal-gov</th>\n",
              "      <th>workclass_Local-gov</th>\n",
              "      <th>workclass_Private</th>\n",
              "      <th>workclass_Self-emp-inc</th>\n",
              "      <th>workclass_Self-emp-not-inc</th>\n",
              "      <th>workclass_State-gov</th>\n",
              "      <th>...</th>\n",
              "      <th>occupation_ter_ind</th>\n",
              "      <th>relationship_Married</th>\n",
              "      <th>relationship_Not married</th>\n",
              "      <th>race_Amer-Indian-Eskimo</th>\n",
              "      <th>race_Asian-Pac-Islander</th>\n",
              "      <th>race_Black</th>\n",
              "      <th>race_Other</th>\n",
              "      <th>race_White</th>\n",
              "      <th>sex_Female</th>\n",
              "      <th>sex_Male</th>\n",
              "    </tr>\n",
              "  </thead>\n",
              "  <tbody>\n",
              "    <tr>\n",
              "      <th>0</th>\n",
              "      <td>47</td>\n",
              "      <td>10</td>\n",
              "      <td>45</td>\n",
              "      <td>0</td>\n",
              "      <td>0</td>\n",
              "      <td>0</td>\n",
              "      <td>1</td>\n",
              "      <td>0</td>\n",
              "      <td>0</td>\n",
              "      <td>0</td>\n",
              "      <td>...</td>\n",
              "      <td>1</td>\n",
              "      <td>1</td>\n",
              "      <td>0</td>\n",
              "      <td>0</td>\n",
              "      <td>0</td>\n",
              "      <td>0</td>\n",
              "      <td>0</td>\n",
              "      <td>1</td>\n",
              "      <td>0</td>\n",
              "      <td>1</td>\n",
              "    </tr>\n",
              "    <tr>\n",
              "      <th>1</th>\n",
              "      <td>34</td>\n",
              "      <td>10</td>\n",
              "      <td>75</td>\n",
              "      <td>0</td>\n",
              "      <td>0</td>\n",
              "      <td>0</td>\n",
              "      <td>0</td>\n",
              "      <td>1</td>\n",
              "      <td>0</td>\n",
              "      <td>0</td>\n",
              "      <td>...</td>\n",
              "      <td>0</td>\n",
              "      <td>0</td>\n",
              "      <td>1</td>\n",
              "      <td>0</td>\n",
              "      <td>0</td>\n",
              "      <td>0</td>\n",
              "      <td>0</td>\n",
              "      <td>1</td>\n",
              "      <td>0</td>\n",
              "      <td>1</td>\n",
              "    </tr>\n",
              "    <tr>\n",
              "      <th>2</th>\n",
              "      <td>31</td>\n",
              "      <td>13</td>\n",
              "      <td>40</td>\n",
              "      <td>8614</td>\n",
              "      <td>0</td>\n",
              "      <td>1</td>\n",
              "      <td>0</td>\n",
              "      <td>0</td>\n",
              "      <td>0</td>\n",
              "      <td>0</td>\n",
              "      <td>...</td>\n",
              "      <td>0</td>\n",
              "      <td>0</td>\n",
              "      <td>1</td>\n",
              "      <td>0</td>\n",
              "      <td>0</td>\n",
              "      <td>0</td>\n",
              "      <td>0</td>\n",
              "      <td>1</td>\n",
              "      <td>0</td>\n",
              "      <td>1</td>\n",
              "    </tr>\n",
              "    <tr>\n",
              "      <th>3</th>\n",
              "      <td>28</td>\n",
              "      <td>13</td>\n",
              "      <td>55</td>\n",
              "      <td>0</td>\n",
              "      <td>0</td>\n",
              "      <td>0</td>\n",
              "      <td>1</td>\n",
              "      <td>0</td>\n",
              "      <td>0</td>\n",
              "      <td>0</td>\n",
              "      <td>...</td>\n",
              "      <td>1</td>\n",
              "      <td>1</td>\n",
              "      <td>0</td>\n",
              "      <td>0</td>\n",
              "      <td>0</td>\n",
              "      <td>0</td>\n",
              "      <td>0</td>\n",
              "      <td>1</td>\n",
              "      <td>0</td>\n",
              "      <td>1</td>\n",
              "    </tr>\n",
              "    <tr>\n",
              "      <th>4</th>\n",
              "      <td>54</td>\n",
              "      <td>10</td>\n",
              "      <td>40</td>\n",
              "      <td>0</td>\n",
              "      <td>0</td>\n",
              "      <td>1</td>\n",
              "      <td>0</td>\n",
              "      <td>0</td>\n",
              "      <td>0</td>\n",
              "      <td>0</td>\n",
              "      <td>...</td>\n",
              "      <td>0</td>\n",
              "      <td>0</td>\n",
              "      <td>1</td>\n",
              "      <td>0</td>\n",
              "      <td>0</td>\n",
              "      <td>0</td>\n",
              "      <td>0</td>\n",
              "      <td>1</td>\n",
              "      <td>1</td>\n",
              "      <td>0</td>\n",
              "    </tr>\n",
              "  </tbody>\n",
              "</table>\n",
              "<p>5 rows × 30 columns</p>\n",
              "</div>\n",
              "      <button class=\"colab-df-convert\" onclick=\"convertToInteractive('df-730ac3ad-96e8-4f4d-b401-9434275bb366')\"\n",
              "              title=\"Convert this dataframe to an interactive table.\"\n",
              "              style=\"display:none;\">\n",
              "        \n",
              "  <svg xmlns=\"http://www.w3.org/2000/svg\" height=\"24px\"viewBox=\"0 0 24 24\"\n",
              "       width=\"24px\">\n",
              "    <path d=\"M0 0h24v24H0V0z\" fill=\"none\"/>\n",
              "    <path d=\"M18.56 5.44l.94 2.06.94-2.06 2.06-.94-2.06-.94-.94-2.06-.94 2.06-2.06.94zm-11 1L8.5 8.5l.94-2.06 2.06-.94-2.06-.94L8.5 2.5l-.94 2.06-2.06.94zm10 10l.94 2.06.94-2.06 2.06-.94-2.06-.94-.94-2.06-.94 2.06-2.06.94z\"/><path d=\"M17.41 7.96l-1.37-1.37c-.4-.4-.92-.59-1.43-.59-.52 0-1.04.2-1.43.59L10.3 9.45l-7.72 7.72c-.78.78-.78 2.05 0 2.83L4 21.41c.39.39.9.59 1.41.59.51 0 1.02-.2 1.41-.59l7.78-7.78 2.81-2.81c.8-.78.8-2.07 0-2.86zM5.41 20L4 18.59l7.72-7.72 1.47 1.35L5.41 20z\"/>\n",
              "  </svg>\n",
              "      </button>\n",
              "      \n",
              "  <style>\n",
              "    .colab-df-container {\n",
              "      display:flex;\n",
              "      flex-wrap:wrap;\n",
              "      gap: 12px;\n",
              "    }\n",
              "\n",
              "    .colab-df-convert {\n",
              "      background-color: #E8F0FE;\n",
              "      border: none;\n",
              "      border-radius: 50%;\n",
              "      cursor: pointer;\n",
              "      display: none;\n",
              "      fill: #1967D2;\n",
              "      height: 32px;\n",
              "      padding: 0 0 0 0;\n",
              "      width: 32px;\n",
              "    }\n",
              "\n",
              "    .colab-df-convert:hover {\n",
              "      background-color: #E2EBFA;\n",
              "      box-shadow: 0px 1px 2px rgba(60, 64, 67, 0.3), 0px 1px 3px 1px rgba(60, 64, 67, 0.15);\n",
              "      fill: #174EA6;\n",
              "    }\n",
              "\n",
              "    [theme=dark] .colab-df-convert {\n",
              "      background-color: #3B4455;\n",
              "      fill: #D2E3FC;\n",
              "    }\n",
              "\n",
              "    [theme=dark] .colab-df-convert:hover {\n",
              "      background-color: #434B5C;\n",
              "      box-shadow: 0px 1px 3px 1px rgba(0, 0, 0, 0.15);\n",
              "      filter: drop-shadow(0px 1px 2px rgba(0, 0, 0, 0.3));\n",
              "      fill: #FFFFFF;\n",
              "    }\n",
              "  </style>\n",
              "\n",
              "      <script>\n",
              "        const buttonEl =\n",
              "          document.querySelector('#df-730ac3ad-96e8-4f4d-b401-9434275bb366 button.colab-df-convert');\n",
              "        buttonEl.style.display =\n",
              "          google.colab.kernel.accessAllowed ? 'block' : 'none';\n",
              "\n",
              "        async function convertToInteractive(key) {\n",
              "          const element = document.querySelector('#df-730ac3ad-96e8-4f4d-b401-9434275bb366');\n",
              "          const dataTable =\n",
              "            await google.colab.kernel.invokeFunction('convertToInteractive',\n",
              "                                                     [key], {});\n",
              "          if (!dataTable) return;\n",
              "\n",
              "          const docLinkHtml = 'Like what you see? Visit the ' +\n",
              "            '<a target=\"_blank\" href=https://colab.research.google.com/notebooks/data_table.ipynb>data table notebook</a>'\n",
              "            + ' to learn more about interactive tables.';\n",
              "          element.innerHTML = '';\n",
              "          dataTable['output_type'] = 'display_data';\n",
              "          await google.colab.output.renderOutput(dataTable, element);\n",
              "          const docLink = document.createElement('div');\n",
              "          docLink.innerHTML = docLinkHtml;\n",
              "          element.appendChild(docLink);\n",
              "        }\n",
              "      </script>\n",
              "    </div>\n",
              "  </div>\n",
              "  "
            ]
          },
          "metadata": {},
          "execution_count": 244
        }
      ],
      "source": [
        "test = pd.get_dummies(test)\n",
        "test.head()"
      ]
    },
    {
      "cell_type": "code",
      "execution_count": null,
      "metadata": {
        "colab": {
          "base_uri": "https://localhost:8080/"
        },
        "id": "-cOpgVqB0al1",
        "outputId": "581eb066-fe51-4d3f-96cb-555f51a99f7b"
      },
      "outputs": [
        {
          "output_type": "stream",
          "name": "stdout",
          "text": [
            "StandardScaler()\n"
          ]
        }
      ],
      "source": [
        "from sklearn.preprocessing import StandardScaler\n",
        "\n",
        "standardScaler = StandardScaler()\n",
        "print(standardScaler.fit(test))\n",
        "test_standardScaled = standardScaler.transform(test)\n",
        "\n",
        "test_std = pd.DataFrame(test_standardScaled, columns=test.columns)"
      ]
    },
    {
      "cell_type": "code",
      "source": [
        "xgb_cfr = XGBClassifier(random_state=0)\n",
        "xgb_cfr.fit(X_train, y_train)\n",
        "\n",
        "pred = xgb_cfr.predict(test_standardScaled)"
      ],
      "metadata": {
        "id": "LlMKhEwlL0ao"
      },
      "execution_count": null,
      "outputs": []
    },
    {
      "cell_type": "code",
      "execution_count": null,
      "metadata": {
        "colab": {
          "base_uri": "https://localhost:8080/",
          "height": 206
        },
        "id": "GfZlqCC1idjD",
        "outputId": "9b3809b4-91c4-458e-fafb-6dae2d2a5068"
      },
      "outputs": [
        {
          "output_type": "execute_result",
          "data": {
            "text/plain": [
              "   id  target\n",
              "0   0       0\n",
              "1   1       0\n",
              "2   2       0\n",
              "3   3       0\n",
              "4   4       0"
            ],
            "text/html": [
              "\n",
              "  <div id=\"df-4145b8d5-e302-4c62-81b0-f6db78769ec6\">\n",
              "    <div class=\"colab-df-container\">\n",
              "      <div>\n",
              "<style scoped>\n",
              "    .dataframe tbody tr th:only-of-type {\n",
              "        vertical-align: middle;\n",
              "    }\n",
              "\n",
              "    .dataframe tbody tr th {\n",
              "        vertical-align: top;\n",
              "    }\n",
              "\n",
              "    .dataframe thead th {\n",
              "        text-align: right;\n",
              "    }\n",
              "</style>\n",
              "<table border=\"1\" class=\"dataframe\">\n",
              "  <thead>\n",
              "    <tr style=\"text-align: right;\">\n",
              "      <th></th>\n",
              "      <th>id</th>\n",
              "      <th>target</th>\n",
              "    </tr>\n",
              "  </thead>\n",
              "  <tbody>\n",
              "    <tr>\n",
              "      <th>0</th>\n",
              "      <td>0</td>\n",
              "      <td>0</td>\n",
              "    </tr>\n",
              "    <tr>\n",
              "      <th>1</th>\n",
              "      <td>1</td>\n",
              "      <td>0</td>\n",
              "    </tr>\n",
              "    <tr>\n",
              "      <th>2</th>\n",
              "      <td>2</td>\n",
              "      <td>0</td>\n",
              "    </tr>\n",
              "    <tr>\n",
              "      <th>3</th>\n",
              "      <td>3</td>\n",
              "      <td>0</td>\n",
              "    </tr>\n",
              "    <tr>\n",
              "      <th>4</th>\n",
              "      <td>4</td>\n",
              "      <td>0</td>\n",
              "    </tr>\n",
              "  </tbody>\n",
              "</table>\n",
              "</div>\n",
              "      <button class=\"colab-df-convert\" onclick=\"convertToInteractive('df-4145b8d5-e302-4c62-81b0-f6db78769ec6')\"\n",
              "              title=\"Convert this dataframe to an interactive table.\"\n",
              "              style=\"display:none;\">\n",
              "        \n",
              "  <svg xmlns=\"http://www.w3.org/2000/svg\" height=\"24px\"viewBox=\"0 0 24 24\"\n",
              "       width=\"24px\">\n",
              "    <path d=\"M0 0h24v24H0V0z\" fill=\"none\"/>\n",
              "    <path d=\"M18.56 5.44l.94 2.06.94-2.06 2.06-.94-2.06-.94-.94-2.06-.94 2.06-2.06.94zm-11 1L8.5 8.5l.94-2.06 2.06-.94-2.06-.94L8.5 2.5l-.94 2.06-2.06.94zm10 10l.94 2.06.94-2.06 2.06-.94-2.06-.94-.94-2.06-.94 2.06-2.06.94z\"/><path d=\"M17.41 7.96l-1.37-1.37c-.4-.4-.92-.59-1.43-.59-.52 0-1.04.2-1.43.59L10.3 9.45l-7.72 7.72c-.78.78-.78 2.05 0 2.83L4 21.41c.39.39.9.59 1.41.59.51 0 1.02-.2 1.41-.59l7.78-7.78 2.81-2.81c.8-.78.8-2.07 0-2.86zM5.41 20L4 18.59l7.72-7.72 1.47 1.35L5.41 20z\"/>\n",
              "  </svg>\n",
              "      </button>\n",
              "      \n",
              "  <style>\n",
              "    .colab-df-container {\n",
              "      display:flex;\n",
              "      flex-wrap:wrap;\n",
              "      gap: 12px;\n",
              "    }\n",
              "\n",
              "    .colab-df-convert {\n",
              "      background-color: #E8F0FE;\n",
              "      border: none;\n",
              "      border-radius: 50%;\n",
              "      cursor: pointer;\n",
              "      display: none;\n",
              "      fill: #1967D2;\n",
              "      height: 32px;\n",
              "      padding: 0 0 0 0;\n",
              "      width: 32px;\n",
              "    }\n",
              "\n",
              "    .colab-df-convert:hover {\n",
              "      background-color: #E2EBFA;\n",
              "      box-shadow: 0px 1px 2px rgba(60, 64, 67, 0.3), 0px 1px 3px 1px rgba(60, 64, 67, 0.15);\n",
              "      fill: #174EA6;\n",
              "    }\n",
              "\n",
              "    [theme=dark] .colab-df-convert {\n",
              "      background-color: #3B4455;\n",
              "      fill: #D2E3FC;\n",
              "    }\n",
              "\n",
              "    [theme=dark] .colab-df-convert:hover {\n",
              "      background-color: #434B5C;\n",
              "      box-shadow: 0px 1px 3px 1px rgba(0, 0, 0, 0.15);\n",
              "      filter: drop-shadow(0px 1px 2px rgba(0, 0, 0, 0.3));\n",
              "      fill: #FFFFFF;\n",
              "    }\n",
              "  </style>\n",
              "\n",
              "      <script>\n",
              "        const buttonEl =\n",
              "          document.querySelector('#df-4145b8d5-e302-4c62-81b0-f6db78769ec6 button.colab-df-convert');\n",
              "        buttonEl.style.display =\n",
              "          google.colab.kernel.accessAllowed ? 'block' : 'none';\n",
              "\n",
              "        async function convertToInteractive(key) {\n",
              "          const element = document.querySelector('#df-4145b8d5-e302-4c62-81b0-f6db78769ec6');\n",
              "          const dataTable =\n",
              "            await google.colab.kernel.invokeFunction('convertToInteractive',\n",
              "                                                     [key], {});\n",
              "          if (!dataTable) return;\n",
              "\n",
              "          const docLinkHtml = 'Like what you see? Visit the ' +\n",
              "            '<a target=\"_blank\" href=https://colab.research.google.com/notebooks/data_table.ipynb>data table notebook</a>'\n",
              "            + ' to learn more about interactive tables.';\n",
              "          element.innerHTML = '';\n",
              "          dataTable['output_type'] = 'display_data';\n",
              "          await google.colab.output.renderOutput(dataTable, element);\n",
              "          const docLink = document.createElement('div');\n",
              "          docLink.innerHTML = docLinkHtml;\n",
              "          element.appendChild(docLink);\n",
              "        }\n",
              "      </script>\n",
              "    </div>\n",
              "  </div>\n",
              "  "
            ]
          },
          "metadata": {},
          "execution_count": 270
        }
      ],
      "source": [
        "submission = pd.read_csv('/content/drive/MyDrive/Dacon/data/소득예측/sample_submission.csv')\n",
        "submission.head()"
      ]
    },
    {
      "cell_type": "code",
      "execution_count": null,
      "metadata": {
        "colab": {
          "base_uri": "https://localhost:8080/",
          "height": 424
        },
        "id": "fICmNmRvih0K",
        "outputId": "61b3da60-d6ed-4a04-a7f3-04be0a5795ce"
      },
      "outputs": [
        {
          "output_type": "execute_result",
          "data": {
            "text/plain": [
              "          id  target\n",
              "0          0       1\n",
              "1          1       0\n",
              "2          2       0\n",
              "3          3       1\n",
              "4          4       0\n",
              "...      ...     ...\n",
              "15076  15076       0\n",
              "15077  15077       1\n",
              "15078  15078       0\n",
              "15079  15079       0\n",
              "15080  15080       0\n",
              "\n",
              "[15081 rows x 2 columns]"
            ],
            "text/html": [
              "\n",
              "  <div id=\"df-c6bdb3d4-b365-4860-bb8a-5a0973a71eac\">\n",
              "    <div class=\"colab-df-container\">\n",
              "      <div>\n",
              "<style scoped>\n",
              "    .dataframe tbody tr th:only-of-type {\n",
              "        vertical-align: middle;\n",
              "    }\n",
              "\n",
              "    .dataframe tbody tr th {\n",
              "        vertical-align: top;\n",
              "    }\n",
              "\n",
              "    .dataframe thead th {\n",
              "        text-align: right;\n",
              "    }\n",
              "</style>\n",
              "<table border=\"1\" class=\"dataframe\">\n",
              "  <thead>\n",
              "    <tr style=\"text-align: right;\">\n",
              "      <th></th>\n",
              "      <th>id</th>\n",
              "      <th>target</th>\n",
              "    </tr>\n",
              "  </thead>\n",
              "  <tbody>\n",
              "    <tr>\n",
              "      <th>0</th>\n",
              "      <td>0</td>\n",
              "      <td>1</td>\n",
              "    </tr>\n",
              "    <tr>\n",
              "      <th>1</th>\n",
              "      <td>1</td>\n",
              "      <td>0</td>\n",
              "    </tr>\n",
              "    <tr>\n",
              "      <th>2</th>\n",
              "      <td>2</td>\n",
              "      <td>0</td>\n",
              "    </tr>\n",
              "    <tr>\n",
              "      <th>3</th>\n",
              "      <td>3</td>\n",
              "      <td>1</td>\n",
              "    </tr>\n",
              "    <tr>\n",
              "      <th>4</th>\n",
              "      <td>4</td>\n",
              "      <td>0</td>\n",
              "    </tr>\n",
              "    <tr>\n",
              "      <th>...</th>\n",
              "      <td>...</td>\n",
              "      <td>...</td>\n",
              "    </tr>\n",
              "    <tr>\n",
              "      <th>15076</th>\n",
              "      <td>15076</td>\n",
              "      <td>0</td>\n",
              "    </tr>\n",
              "    <tr>\n",
              "      <th>15077</th>\n",
              "      <td>15077</td>\n",
              "      <td>1</td>\n",
              "    </tr>\n",
              "    <tr>\n",
              "      <th>15078</th>\n",
              "      <td>15078</td>\n",
              "      <td>0</td>\n",
              "    </tr>\n",
              "    <tr>\n",
              "      <th>15079</th>\n",
              "      <td>15079</td>\n",
              "      <td>0</td>\n",
              "    </tr>\n",
              "    <tr>\n",
              "      <th>15080</th>\n",
              "      <td>15080</td>\n",
              "      <td>0</td>\n",
              "    </tr>\n",
              "  </tbody>\n",
              "</table>\n",
              "<p>15081 rows × 2 columns</p>\n",
              "</div>\n",
              "      <button class=\"colab-df-convert\" onclick=\"convertToInteractive('df-c6bdb3d4-b365-4860-bb8a-5a0973a71eac')\"\n",
              "              title=\"Convert this dataframe to an interactive table.\"\n",
              "              style=\"display:none;\">\n",
              "        \n",
              "  <svg xmlns=\"http://www.w3.org/2000/svg\" height=\"24px\"viewBox=\"0 0 24 24\"\n",
              "       width=\"24px\">\n",
              "    <path d=\"M0 0h24v24H0V0z\" fill=\"none\"/>\n",
              "    <path d=\"M18.56 5.44l.94 2.06.94-2.06 2.06-.94-2.06-.94-.94-2.06-.94 2.06-2.06.94zm-11 1L8.5 8.5l.94-2.06 2.06-.94-2.06-.94L8.5 2.5l-.94 2.06-2.06.94zm10 10l.94 2.06.94-2.06 2.06-.94-2.06-.94-.94-2.06-.94 2.06-2.06.94z\"/><path d=\"M17.41 7.96l-1.37-1.37c-.4-.4-.92-.59-1.43-.59-.52 0-1.04.2-1.43.59L10.3 9.45l-7.72 7.72c-.78.78-.78 2.05 0 2.83L4 21.41c.39.39.9.59 1.41.59.51 0 1.02-.2 1.41-.59l7.78-7.78 2.81-2.81c.8-.78.8-2.07 0-2.86zM5.41 20L4 18.59l7.72-7.72 1.47 1.35L5.41 20z\"/>\n",
              "  </svg>\n",
              "      </button>\n",
              "      \n",
              "  <style>\n",
              "    .colab-df-container {\n",
              "      display:flex;\n",
              "      flex-wrap:wrap;\n",
              "      gap: 12px;\n",
              "    }\n",
              "\n",
              "    .colab-df-convert {\n",
              "      background-color: #E8F0FE;\n",
              "      border: none;\n",
              "      border-radius: 50%;\n",
              "      cursor: pointer;\n",
              "      display: none;\n",
              "      fill: #1967D2;\n",
              "      height: 32px;\n",
              "      padding: 0 0 0 0;\n",
              "      width: 32px;\n",
              "    }\n",
              "\n",
              "    .colab-df-convert:hover {\n",
              "      background-color: #E2EBFA;\n",
              "      box-shadow: 0px 1px 2px rgba(60, 64, 67, 0.3), 0px 1px 3px 1px rgba(60, 64, 67, 0.15);\n",
              "      fill: #174EA6;\n",
              "    }\n",
              "\n",
              "    [theme=dark] .colab-df-convert {\n",
              "      background-color: #3B4455;\n",
              "      fill: #D2E3FC;\n",
              "    }\n",
              "\n",
              "    [theme=dark] .colab-df-convert:hover {\n",
              "      background-color: #434B5C;\n",
              "      box-shadow: 0px 1px 3px 1px rgba(0, 0, 0, 0.15);\n",
              "      filter: drop-shadow(0px 1px 2px rgba(0, 0, 0, 0.3));\n",
              "      fill: #FFFFFF;\n",
              "    }\n",
              "  </style>\n",
              "\n",
              "      <script>\n",
              "        const buttonEl =\n",
              "          document.querySelector('#df-c6bdb3d4-b365-4860-bb8a-5a0973a71eac button.colab-df-convert');\n",
              "        buttonEl.style.display =\n",
              "          google.colab.kernel.accessAllowed ? 'block' : 'none';\n",
              "\n",
              "        async function convertToInteractive(key) {\n",
              "          const element = document.querySelector('#df-c6bdb3d4-b365-4860-bb8a-5a0973a71eac');\n",
              "          const dataTable =\n",
              "            await google.colab.kernel.invokeFunction('convertToInteractive',\n",
              "                                                     [key], {});\n",
              "          if (!dataTable) return;\n",
              "\n",
              "          const docLinkHtml = 'Like what you see? Visit the ' +\n",
              "            '<a target=\"_blank\" href=https://colab.research.google.com/notebooks/data_table.ipynb>data table notebook</a>'\n",
              "            + ' to learn more about interactive tables.';\n",
              "          element.innerHTML = '';\n",
              "          dataTable['output_type'] = 'display_data';\n",
              "          await google.colab.output.renderOutput(dataTable, element);\n",
              "          const docLink = document.createElement('div');\n",
              "          docLink.innerHTML = docLinkHtml;\n",
              "          element.appendChild(docLink);\n",
              "        }\n",
              "      </script>\n",
              "    </div>\n",
              "  </div>\n",
              "  "
            ]
          },
          "metadata": {},
          "execution_count": 271
        }
      ],
      "source": [
        "submission['target'] = pred\n",
        "\n",
        "# 데이터가 잘 들어갔는지 확인합니다\n",
        "submission"
      ]
    },
    {
      "cell_type": "code",
      "execution_count": null,
      "metadata": {
        "id": "2CwA5Ud-irs9"
      },
      "outputs": [],
      "source": [
        "submission.to_csv('submit.csv', index=False)"
      ]
    }
  ],
  "metadata": {
    "colab": {
      "collapsed_sections": [],
      "name": "인구 데이터 기반 소득 예측.ipynb",
      "provenance": []
    },
    "kernelspec": {
      "display_name": "Python 3",
      "name": "python3"
    },
    "language_info": {
      "name": "python"
    },
    "accelerator": "GPU"
  },
  "nbformat": 4,
  "nbformat_minor": 0
}